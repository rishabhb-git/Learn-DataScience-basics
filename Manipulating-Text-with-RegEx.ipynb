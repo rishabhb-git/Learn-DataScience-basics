{
 "cells": [
  {
   "cell_type": "markdown",
   "id": "sized-purchase",
   "metadata": {},
   "source": [
    "Here we'll talk about pattern matching in strings using regular expressions. Regular expressions, or regexes, are written in a condensed formatting language. In general, you can think of a regular expression as a pattern which you can give to a regex processor with some source data. The processor then parses that source data using the pattern, and returns chinks of text back to programmer for further manipulation. There's really 3 main reasons you would want to do this:\n",
    "- To check whether pattern exists within some source data.\n",
    "- To get all instances of a complex pattern from some source data.\n",
    "- To clean your source data using a pattern generally through string splitting.\n",
    "\n",
    "Regexes are not trivial, but they are a foundational techniques for data cleaning in data science appliations."
   ]
  },
  {
   "cell_type": "markdown",
   "id": "fantastic-happening",
   "metadata": {},
   "source": [
    "###### BEST way to LEARN regex is to WRITE regexes"
   ]
  },
  {
   "cell_type": "code",
   "execution_count": 2,
   "id": "hydraulic-cyprus",
   "metadata": {},
   "outputs": [],
   "source": [
    "# import \"re\" module, where python stores regular expression libraries.\n",
    "import re"
   ]
  },
  {
   "cell_type": "code",
   "execution_count": 35,
   "id": "alpha-netscape",
   "metadata": {},
   "outputs": [
    {
     "name": "stdout",
     "output_type": "stream",
     "text": [
      "Yes ! 🥰\n"
     ]
    }
   ],
   "source": [
    "# re offers several main functions to use. Like, main() checks for a match\n",
    "# that is at the beginning of the string and returns a bookean.\n",
    "# Similarly, search(), checks for a match anywhere in the string and further can be evaluated to boolean value.\n",
    "\n",
    "text = \"This is a nice day!\"\n",
    "\n",
    "# Let's check if it's a nice day or not:\n",
    "if re.search(\"nice\", text):\n",
    "    print(\"Yes ! 🥰\")\n",
    "else:\n",
    "    print(\"No 😞\")"
   ]
  },
  {
   "cell_type": "markdown",
   "id": "opposite-mailman",
   "metadata": {},
   "source": [
    "In addition to cheking for conditionals, we can segment a string. The work that regex does here is called tokeninzing, where the string is segmented into substrings based on patterns. Tokeninzing is a core activity in NLP."
   ]
  },
  {
   "cell_type": "code",
   "execution_count": 38,
   "id": "under-speech",
   "metadata": {},
   "outputs": [
    {
     "name": "stdout",
     "output_type": "stream",
     "text": [
      "['', ' works diligently. ', ' gets good grades. ', ' is successful.']\n",
      "['Jatin', 'Jatin', 'Jatin']\n",
      "3\n"
     ]
    }
   ],
   "source": [
    "# findall() and split() functions will parse the string and return chunks. For eg:\n",
    "text = \"Jatin works diligently. Jatin gets good grades. Jatin is successful.\"\n",
    "\n",
    "# splits the variable 'text' on all instances of Jatin\n",
    "print(re.split(\"Jatin\", text))\n",
    "\n",
    "# how many times we have talked about Jatin, we can use findall(). It looks for a pattern and pull out all occurences.\n",
    "times = (re.findall(\"Jatin\", text))\n",
    "print(times)                             # 'times' is an array\n",
    "print(len(times))                        # length of 'times'"
   ]
  },
  {
   "cell_type": "code",
   "execution_count": 66,
   "id": "warming-digest",
   "metadata": {},
   "outputs": [
    {
     "data": {
      "text/plain": [
       "<re.Match object; span=(0, 5), match='Jatin'>"
      ]
     },
     "execution_count": 66,
     "metadata": {},
     "output_type": "execute_result"
    }
   ],
   "source": [
    "# re.search() actually returns a new object, called re.Match object. An re.Match object\n",
    "# always has a boolean value of True, which can be evaluated to true or false in an if statement; as shown above.\n",
    "# The rendering of match object also tells what pattern was matched.\n",
    "\n",
    "re.search(\"^Jatin\", text)"
   ]
  },
  {
   "cell_type": "markdown",
   "id": "recorded-manner",
   "metadata": {},
   "source": [
    "### Patterns and Character Classes"
   ]
  },
  {
   "cell_type": "code",
   "execution_count": 119,
   "id": "guided-nerve",
   "metadata": {},
   "outputs": [
    {
     "data": {
      "text/plain": [
       "['B', 'B', 'B']"
      ]
     },
     "execution_count": 119,
     "metadata": {},
     "output_type": "execute_result"
    }
   ],
   "source": [
    "# Let's deal with patterns that involve character classes.\n",
    "\n",
    "# 'grades' is a string of single learners' grades over a semester in one course across al of their assignments.\n",
    "grades = \"ACAAAABCBCBAA\"\n",
    "\n",
    "# Question : how many B's are in the above grades list ?\n",
    "re.findall(\"B\", grades)"
   ]
  },
  {
   "cell_type": "code",
   "execution_count": 120,
   "id": "boxed-terrain",
   "metadata": {},
   "outputs": [
    {
     "data": {
      "text/plain": [
       "['A', 'A', 'A', 'A', 'A', 'B', 'B', 'B', 'A', 'A']"
      ]
     },
     "execution_count": 120,
     "metadata": {},
     "output_type": "execute_result"
    }
   ],
   "source": [
    "# count number of A's or B's in the list, we can't use \"AB\" since this is used to match all A's followed immediately by a B.\n",
    "# Instead, put characters A and B inside square brackets.\n",
    "\n",
    "re.findall(\"[AB]\", grades)"
   ]
  },
  {
   "cell_type": "code",
   "execution_count": 121,
   "id": "frequent-copying",
   "metadata": {},
   "outputs": [
    {
     "data": {
      "text/plain": [
       "['AC', 'AB']"
      ]
     },
     "execution_count": 121,
     "metadata": {},
     "output_type": "execute_result"
    }
   ],
   "source": [
    "# [] -> this is called a set operator. You can include a range of characters, which are ordered alphanumerically.\n",
    "# This is called character-based matching i.e. it matches individual character in an OR method.\n",
    "# For instance, if we want to refer to all lower case letters we could use [a-z].\n",
    "\n",
    "# For eg, count number of instances where this student receives an A followed by a B or a C.\n",
    "re.findall(\"A[B-C]\", grades)"
   ]
  },
  {
   "cell_type": "markdown",
   "id": "southern-offer",
   "metadata": {},
   "source": [
    "A[B-C] pattern denoted two sets of characters which must be matched back to back. This can also be written using pipe \" | \" operator, which means OR"
   ]
  },
  {
   "cell_type": "code",
   "execution_count": 122,
   "id": "competitive-directory",
   "metadata": {},
   "outputs": [
    {
     "data": {
      "text/plain": [
       "['AC', 'AB']"
      ]
     },
     "execution_count": 122,
     "metadata": {},
     "output_type": "execute_result"
    }
   ],
   "source": [
    "re.findall(\"AB|AC\", grades)"
   ]
  },
  {
   "cell_type": "markdown",
   "id": "cooperative-separate",
   "metadata": {},
   "source": [
    "Use the caret operator inside set operator  to negate above result, i.e. to find out only the grades which were not A's"
   ]
  },
  {
   "cell_type": "code",
   "execution_count": 123,
   "id": "pursuant-attention",
   "metadata": {},
   "outputs": [
    {
     "data": {
      "text/plain": [
       "['C', 'B', 'C', 'B', 'C', 'B']"
      ]
     },
     "execution_count": 123,
     "metadata": {},
     "output_type": "execute_result"
    }
   ],
   "source": [
    "re.findall(\"[^A]\", grades)"
   ]
  },
  {
   "cell_type": "code",
   "execution_count": 134,
   "id": "protective-monster",
   "metadata": {},
   "outputs": [
    {
     "data": {
      "text/plain": [
       "[]"
      ]
     },
     "execution_count": 134,
     "metadata": {},
     "output_type": "execute_result"
    }
   ],
   "source": [
    "# Note this carefully - the caret was previosuly matched to beginning of a string as an anchor point.\n",
    "# But inside of the set operator the caret (and other special characters), lose their meaning.\n",
    "# For eg:\n",
    "\n",
    "re.findall(\"^[^A]\", grades)  # it's an empty list - []. Because regex says that any value at the beginning of string which is not an A. Since our string starts with A, so there is not match found."
   ]
  },
  {
   "cell_type": "markdown",
   "id": "closed-merchant",
   "metadata": {},
   "source": [
    " ### Quantifiers\n",
    " Quantifiers are the number of times a pattern needs to matched.\n",
    " The most basic quantifier is expressed as e(m, n), where e is the expression or character we are matching, m is the minimum number of times it needs to be matched, and n is the maximum number of times the item could be matched."
   ]
  },
  {
   "cell_type": "code",
   "execution_count": 124,
   "id": "hungry-breast",
   "metadata": {},
   "outputs": [
    {
     "data": {
      "text/plain": [
       "['AAAA', 'AA']"
      ]
     },
     "execution_count": 124,
     "metadata": {},
     "output_type": "execute_result"
    }
   ],
   "source": [
    "# Let's use these grades as an example.\n",
    "# How many times has this student been on a back-to-back A's streak ?\n",
    "re.findall(\"A{2,10}\", grades)     # 2 as the min, but 10 as a max\n",
    "\n",
    "# that means, there are only two occurences where once student receives 2 A's and 4 A's in a streak; when looking for any combination of two A's upto ten A's in a row."
   ]
  },
  {
   "cell_type": "code",
   "execution_count": 125,
   "id": "convertible-pittsburgh",
   "metadata": {},
   "outputs": [
    {
     "data": {
      "text/plain": [
       "['AA', 'AA', 'AA']"
      ]
     },
     "execution_count": 125,
     "metadata": {},
     "output_type": "execute_result"
    }
   ],
   "source": [
    "re.findall(\"A{1,1}A{1,1}\", grades)\n",
    "# here, the regex processor will match those patterns where 1 A is followed by only 1 A."
   ]
  },
  {
   "cell_type": "code",
   "execution_count": 126,
   "id": "signal-lafayette",
   "metadata": {},
   "outputs": [
    {
     "data": {
      "text/plain": [
       "[]"
      ]
     },
     "execution_count": 126,
     "metadata": {},
     "output_type": "execute_result"
    }
   ],
   "source": [
    "# In particular, if you have an extra space in between the braces you'll get an empty result\n",
    "re.findall(\"A{2, 10}\", grades)         # notice an incorrect space"
   ]
  },
  {
   "cell_type": "code",
   "execution_count": 127,
   "id": "lovely-wesley",
   "metadata": {},
   "outputs": [
    {
     "data": {
      "text/plain": [
       "['B', 'B', 'B']"
      ]
     },
     "execution_count": 127,
     "metadata": {},
     "output_type": "execute_result"
    }
   ],
   "source": [
    "# If no quantifier is mentioned then the default is {1,1}\n",
    "re.findall(\"B\", grades)"
   ]
  },
  {
   "cell_type": "code",
   "execution_count": 128,
   "id": "reflected-recall",
   "metadata": {},
   "outputs": [
    {
     "data": {
      "text/plain": [
       "['AA', 'AA', 'AA']"
      ]
     },
     "execution_count": 128,
     "metadata": {},
     "output_type": "execute_result"
    }
   ],
   "source": [
    "# If only one number is inside the braces, it's considered that both m and n are equal.\n",
    "re.findall(\"A{2}\", grades)"
   ]
  },
  {
   "cell_type": "code",
   "execution_count": 132,
   "id": "thorough-fighter",
   "metadata": {},
   "outputs": [
    {
     "data": {
      "text/plain": [
       "['AAAABC']"
      ]
     },
     "execution_count": 132,
     "metadata": {},
     "output_type": "execute_result"
    }
   ],
   "source": [
    "# To find the trend of grades - increasing or decreasing\n",
    "re.findall(\"A{1,10}B{1,10}C{1,10}\", grades)\n",
    "\n",
    "# so, it can be said as \"decreasing trend\""
   ]
  },
  {
   "cell_type": "markdown",
   "id": "operational-office",
   "metadata": {},
   "source": [
    "There are 3 other quantifiers that are used as short hand:\n",
    "- asterix (*) : to match 0 or more times\n",
    "- question mark (?) : to match one or more times\n",
    "- plus sign (+) : to match one or more times\n",
    "\n",
    "These quantifiers shorten up the curly brace syntax."
   ]
  },
  {
   "cell_type": "code",
   "execution_count": 1,
   "id": "martial-laptop",
   "metadata": {},
   "outputs": [],
   "source": [
    "with open(\"/Users/barmanr/Downloads/Health-Tweets/nytimeshealth.txt\", \"r\") as file:\n",
    "    wiki = file.read()\n"
   ]
  },
  {
   "cell_type": "code",
   "execution_count": 178,
   "id": "matched-anatomy",
   "metadata": {},
   "outputs": [
    {
     "data": {
      "text/plain": [
       "'547904193961656321|Wed Dec 24 23:58:34 +0000 2014|The New Health Care: People Are Shopping for Health Insurance, Surprisingly http://nyti.ms/1vpIjqE'"
      ]
     },
     "execution_count": 178,
     "metadata": {},
     "output_type": "execute_result"
    }
   ],
   "source": [
    "re.split(\"[\\n]\", wiki)[10]"
   ]
  },
  {
   "cell_type": "markdown",
   "id": "frank-music",
   "metadata": {},
   "source": [
    "### Look-ahead and Look-behind"
   ]
  },
  {
   "cell_type": "markdown",
   "id": "contrary-vermont",
   "metadata": {},
   "source": [
    "In this case, the pattern being given to the regex engine is for text either before or after the text we are trying to "
   ]
  },
  {
   "cell_type": "code",
   "execution_count": null,
   "id": "southwest-dining",
   "metadata": {},
   "outputs": [],
   "source": []
  },
  {
   "cell_type": "markdown",
   "id": "recovered-islam",
   "metadata": {},
   "source": [
    "'wiki' contains numerous tweets by the NYTimes, seperated by pipes |. Here, we will try to get a list of all the hashtags that are included in this data."
   ]
  },
  {
   "cell_type": "code",
   "execution_count": 180,
   "id": "equivalent-understanding",
   "metadata": {},
   "outputs": [
    {
     "data": {
      "text/plain": [
       "['#askwell',\n",
       " '#pregnancy',\n",
       " '#Colorado',\n",
       " '#VegetarianThanksgiving',\n",
       " '#FallPrevention',\n",
       " '#Ebola',\n",
       " '#Ebola',\n",
       " '#ebola',\n",
       " '#Ebola',\n",
       " '#Ebola',\n",
       " '#EbolaHysteria',\n",
       " '#AskNYT',\n",
       " '#Ebola',\n",
       " '#Ebola',\n",
       " '#Liberia',\n",
       " '#Excalibur',\n",
       " '#ebola',\n",
       " '#Ebola',\n",
       " '#dallas',\n",
       " '#nobelprize2014',\n",
       " '#ebola',\n",
       " '#ebola',\n",
       " '#monrovia',\n",
       " '#ebola',\n",
       " '#nobelprize2014',\n",
       " '#ebola',\n",
       " '#nobelprize2014',\n",
       " '#Medicine',\n",
       " '#Ebola',\n",
       " '#Monrovia',\n",
       " '#Ebola',\n",
       " '#smell',\n",
       " '#Ebola',\n",
       " '#Ebola',\n",
       " '#Ebola',\n",
       " '#Monrovia',\n",
       " '#Ebola',\n",
       " '#ebola',\n",
       " '#monrovia',\n",
       " '#liberia',\n",
       " '#benzos',\n",
       " '#ClimateChange',\n",
       " '#Whole',\n",
       " '#Wheat',\n",
       " '#Focaccia',\n",
       " '#Tomatoes',\n",
       " '#Olives',\n",
       " '#Recipes',\n",
       " '#Health',\n",
       " '#Ebola',\n",
       " '#Monrovia',\n",
       " '#Liberia',\n",
       " '#Ebola',\n",
       " '#Ebola',\n",
       " '#Liberia',\n",
       " '#Ebola',\n",
       " '#blood',\n",
       " '#Ebola',\n",
       " '#organtrafficking',\n",
       " '#EbolaOutbreak',\n",
       " '#SierraLeone',\n",
       " '#Freetown',\n",
       " '#SierraLeone',\n",
       " '#ebolaoutbreak',\n",
       " '#kenema',\n",
       " '#ebola',\n",
       " '#Ebola',\n",
       " '#ebola',\n",
       " '#ebola',\n",
       " '#Ebola',\n",
       " '#ASMR',\n",
       " '#AIDS2014',\n",
       " '#AIDS',\n",
       " '#MH17',\n",
       " '#benzos',\n",
       " '#BigSoda',\n",
       " '#askwell',\n",
       " '#askwell',\n",
       " '#askwell',\n",
       " '#askwell',\n",
       " '#melanoma',\n",
       " '#askwell',\n",
       " '#AGS14',\n",
       " '#askwell',\n",
       " '#askwell',\n",
       " '#askwell',\n",
       " '#askwell',\n",
       " '#askwell',\n",
       " '#askwell',\n",
       " '#askwell',\n",
       " '#askwell',\n",
       " '#askwell',\n",
       " '#askwell',\n",
       " '#',\n",
       " '#askwell',\n",
       " '#askwell',\n",
       " '#Gay',\n",
       " '#Cancer',\n",
       " '#wiredwell',\n",
       " '#wiredwell',\n",
       " '#wiredwell',\n",
       " '#wiredwell',\n",
       " '#wiredwell',\n",
       " '#wiredwell',\n",
       " '#wiredwell',\n",
       " '#wiredwell',\n",
       " '#WiredWell',\n",
       " '#wiredwell',\n",
       " '#wiredwell',\n",
       " '#wiredwell',\n",
       " '#askwell',\n",
       " '#ValentinesDay',\n",
       " '#askwell',\n",
       " '#commentsContainer',\n",
       " '#askwell',\n",
       " '#oxytocin',\n",
       " '#askwell',\n",
       " '#Autism',\n",
       " '#askwell',\n",
       " '#Emmys',\n",
       " '#LifeInterrupted',\n",
       " '#eating',\n",
       " '#eggplant',\n",
       " '#AskWell',\n",
       " '#gfree',\n",
       " '#askwell',\n",
       " '#obesity',\n",
       " '#NewOldAge',\n",
       " '#askwell',\n",
       " '#52031506',\n",
       " '#askwell',\n",
       " '#pregnant',\n",
       " '#dental',\n",
       " '#LifeInterrupted',\n",
       " '#Ask',\n",
       " '#askwell']"
      ]
     },
     "execution_count": 180,
     "metadata": {},
     "output_type": "execute_result"
    }
   ],
   "source": [
    "pattern = \"#[\\w\\d]*(?=\\s)\"\n",
    "\n",
    "# Notice that ending is a look ahead. We're not actually interested in matching\n",
    "# in return value.\n",
    "\n",
    "re.findall(pattern, wiki)"
   ]
  },
  {
   "cell_type": "code",
   "execution_count": null,
   "id": "planned-moscow",
   "metadata": {},
   "outputs": [],
   "source": []
  },
  {
   "cell_type": "markdown",
   "id": "48ddc8a4",
   "metadata": {},
   "source": [
    "****"
   ]
  },
  {
   "cell_type": "markdown",
   "id": "4abc4bf4",
   "metadata": {},
   "source": [
    "# <u>Practice Questions</u>"
   ]
  },
  {
   "cell_type": "markdown",
   "id": "4a674194",
   "metadata": {},
   "source": [
    "## Q).\n",
    "\n",
    "Write a python program to check whether a password is valid or not. A valid password must satisfy the following conditions :\n",
    "\n",
    "1. should be at least eight characters long\n",
    "2. contains atleast one uppercase character\n",
    "3. contains atleast one lowercase character\n",
    "4. has at least one digit\n",
    "5. has at least one special character, special characters are '$','#', and '@'\n",
    "6. shouldn't have any space"
   ]
  },
  {
   "cell_type": "code",
   "execution_count": 22,
   "id": "4e3f0354",
   "metadata": {},
   "outputs": [],
   "source": [
    "def valid_or_not(password):\n",
    "    ''' password is a string\n",
    "        Output -> The function is expected to be returning a string one of:\n",
    "         Valid Password / Invalid Password'''\n",
    "    \n",
    "    invalid = \"Invalid Password\"\n",
    "\n",
    "    if len(password) >= 8:\n",
    "        regList = [r\"[A-Z]\", r\"[a-z]\", r\"[0-9]\", r\"[$#@]\"]\n",
    "        for reg in regList:\n",
    "            if re.search(reg, password) == None:\n",
    "                return invalid\n",
    "        \n",
    "        if re.search(\"\\s\", password) != None:\n",
    "            return invalid\n",
    "        else:\n",
    "            return \"Valid Password\"\n",
    "\n",
    "    return 'Invalid Password'"
   ]
  },
  {
   "cell_type": "code",
   "execution_count": 23,
   "id": "063ef417",
   "metadata": {},
   "outputs": [
    {
     "data": {
      "text/plain": [
       "'Invalid Password'"
      ]
     },
     "execution_count": 23,
     "metadata": {},
     "output_type": "execute_result"
    }
   ],
   "source": [
    "valid_or_not(\"python_is12cool\")"
   ]
  },
  {
   "cell_type": "code",
   "execution_count": 25,
   "id": "78b7a361",
   "metadata": {},
   "outputs": [
    {
     "data": {
      "text/plain": [
       "'Valid Password'"
      ]
     },
     "execution_count": 25,
     "metadata": {},
     "output_type": "execute_result"
    }
   ],
   "source": [
    "valid_or_not(\"python@123Cool\")"
   ]
  },
  {
   "cell_type": "markdown",
   "id": "a36f7f27",
   "metadata": {},
   "source": [
    "## Q).\n",
    "\n",
    "A valid debit card has the following characteristics:\n",
    "1. It must start with a 4,5 or 6.\n",
    "2. It must contain exactly 16 digits.\n",
    "3. It must only consist of digits\n",
    "4. It must NOT use any separator like `' '`, `'_'`, etc."
   ]
  },
  {
   "cell_type": "code",
   "execution_count": 26,
   "id": "c2048e9d",
   "metadata": {},
   "outputs": [],
   "source": [
    "def card(x):\n",
    "    '''\n",
    "    Input x : 16 digit number\n",
    "    Ouput:  Return whether its a valid debit card number or not\n",
    "    '''\n",
    "    if len(x) == 16:\n",
    "        reg = \"^[456][0-9]+$\"\n",
    "        if bool(re.match(reg, x)):\n",
    "            return \"Valid\"\n",
    "        else:\n",
    "            return \"Invalid\""
   ]
  },
  {
   "cell_type": "code",
   "execution_count": 27,
   "id": "2172a3b0",
   "metadata": {},
   "outputs": [
    {
     "data": {
      "text/plain": [
       "'Valid'"
      ]
     },
     "execution_count": 27,
     "metadata": {},
     "output_type": "execute_result"
    }
   ],
   "source": [
    "card(\"4245647893112578\")"
   ]
  },
  {
   "cell_type": "markdown",
   "id": "cbb621d4",
   "metadata": {},
   "source": [
    "## Q).\n",
    "\n",
    "Write a function `troll_the_trolls()` which takes the comment as a parameter and replaces the vowels of the comment with empty space `\"\"`, so that the comments lose their meaning and won't be able to hurt anyone."
   ]
  },
  {
   "cell_type": "code",
   "execution_count": 28,
   "id": "3f4e4a96",
   "metadata": {},
   "outputs": [],
   "source": [
    "def troll_the_trolls(comment):\n",
    "    return re.sub(r\"[aeiouAEIOU]\", \"\", comment)"
   ]
  },
  {
   "cell_type": "code",
   "execution_count": null,
   "id": "6e2100c5",
   "metadata": {},
   "outputs": [],
   "source": []
  },
  {
   "cell_type": "markdown",
   "id": "1ffc4617",
   "metadata": {},
   "source": [
    "## Q).\n",
    "\n",
    "Extract, programatically, the usernames from a comment which is given in the form of a string.\n",
    "\n",
    "The usernames start with `\"@\"` and the names in the returned list don't include `\"@\"`."
   ]
  },
  {
   "cell_type": "code",
   "execution_count": 29,
   "id": "f77da580",
   "metadata": {},
   "outputs": [],
   "source": [
    "def users(comment):    \n",
    "    users_list = []\n",
    "    \n",
    "    names = re.findall(r\"@[a-zA-Z]+\", comment)\n",
    "    for name in names:\n",
    "        users_list.append(name[1:])\n",
    " \n",
    "    return users_list"
   ]
  },
  {
   "cell_type": "code",
   "execution_count": 31,
   "id": "196089e1",
   "metadata": {},
   "outputs": [
    {
     "data": {
      "text/plain": [
       "['Karan', 'Arjun']"
      ]
     },
     "execution_count": 31,
     "metadata": {},
     "output_type": "execute_result"
    }
   ],
   "source": [
    "users(\"How are you doing @Karan. We have come a long way from the days when me @Arjun and you were in school together!\")"
   ]
  },
  {
   "cell_type": "code",
   "execution_count": null,
   "id": "9e941ca3",
   "metadata": {},
   "outputs": [],
   "source": []
  },
  {
   "cell_type": "markdown",
   "id": "67a3a1ef",
   "metadata": {},
   "source": [
    "## Q).\n",
    "\n",
    "Complete the function `get_countries()` in order to return a list consisting of the name of countries that have `\"#\"` as suffix and prefix."
   ]
  },
  {
   "cell_type": "code",
   "execution_count": 32,
   "id": "43a7efff",
   "metadata": {},
   "outputs": [],
   "source": [
    "def get_countries(blog):\n",
    "    \n",
    "    countries_names = []\n",
    "    \n",
    "    pat = \"\\#[A-Za-z]+\\#\"\n",
    "    for cntry in re.finditer(pat, blog):\n",
    "        countries_names.append(cntry.group(0)[1:-1])\n",
    "    \n",
    "    return countries_names"
   ]
  },
  {
   "cell_type": "code",
   "execution_count": 33,
   "id": "17ac00ba",
   "metadata": {},
   "outputs": [
    {
     "data": {
      "text/plain": [
       "['India', 'Nepal']"
      ]
     },
     "execution_count": 33,
     "metadata": {},
     "output_type": "execute_result"
    }
   ],
   "source": [
    "get_countries('''Varanasi in #India# is very crowded because of tourism due to Ganga and\n",
    "                 temples and same is the case with Kathmandu of #Nepal#\n",
    "                 because of its Heritage and Mountains''')"
   ]
  },
  {
   "cell_type": "code",
   "execution_count": null,
   "id": "2c2e99f3",
   "metadata": {},
   "outputs": [],
   "source": []
  },
  {
   "cell_type": "markdown",
   "id": "9bcd7958",
   "metadata": {},
   "source": [
    "## Q). find the output :"
   ]
  },
  {
   "cell_type": "code",
   "execution_count": 4,
   "id": "1717a2df",
   "metadata": {},
   "outputs": [
    {
     "name": "stdout",
     "output_type": "stream",
     "text": [
      "['book', 'book', 'book']\n"
     ]
    }
   ],
   "source": [
    "import re\n",
    "\n",
    "text = '''The intellectual content in a physical book need not be a composition, nor even be called a book.\n",
    "          Books can consist only of drawings, engravings or photographs, crossword puzzles or cut-out dolls.\n",
    "          In a physical book, the pages can be left blank or can feature an abstract set of lines to support entries.\n",
    "          '''\n",
    "\n",
    "print(re.findall('b..k', text))"
   ]
  },
  {
   "cell_type": "markdown",
   "id": "95d5e367",
   "metadata": {},
   "source": [
    "## Q)."
   ]
  },
  {
   "cell_type": "code",
   "execution_count": 5,
   "id": "6753c0e4",
   "metadata": {},
   "outputs": [
    {
     "name": "stdout",
     "output_type": "stream",
     "text": [
      "None\n"
     ]
    }
   ],
   "source": [
    "sentence = \"cryptographic encryption methods that can be cracked easily with quantum computers\"\n",
    "\n",
    "pattern = re.compile(\"crypto(.{1,30})coin\")\n",
    "\n",
    "print(pattern.match(sentence)) "
   ]
  },
  {
   "cell_type": "markdown",
   "id": "33055108",
   "metadata": {},
   "source": [
    "## Q)."
   ]
  },
  {
   "cell_type": "code",
   "execution_count": 6,
   "id": "c773cc15",
   "metadata": {},
   "outputs": [
    {
     "name": "stdout",
     "output_type": "stream",
     "text": [
      "DataScience12\n"
     ]
    }
   ],
   "source": [
    "import re\n",
    "\n",
    "text1 = '**//DataScience// - 12. '\n",
    "\n",
    "pattern = re.compile('[\\W_]+')\n",
    "\n",
    "print(pattern.sub('', text1))"
   ]
  },
  {
   "cell_type": "markdown",
   "id": "330dc519",
   "metadata": {},
   "source": [
    "## Q)."
   ]
  },
  {
   "cell_type": "code",
   "execution_count": 8,
   "id": "d86cadd8",
   "metadata": {},
   "outputs": [
    {
     "name": "stdout",
     "output_type": "stream",
     "text": [
      "(8, 10)\n"
     ]
    }
   ],
   "source": [
    "sentence = 'ferrari is faster than a lambhorghini'\n",
    "matched = re.search('is', sentence)\n",
    "print(matched.span())"
   ]
  },
  {
   "cell_type": "markdown",
   "id": "26225417",
   "metadata": {},
   "source": [
    "## Q)."
   ]
  },
  {
   "cell_type": "code",
   "execution_count": 9,
   "id": "95034f82",
   "metadata": {},
   "outputs": [
    {
     "data": {
      "text/plain": [
       "['$1', '$18087791.41', '$0.25', '$4521947.8525']"
      ]
     },
     "execution_count": 9,
     "metadata": {},
     "output_type": "execute_result"
    }
   ],
   "source": [
    "paragraph = '''An investment of  $1 in the year 1801,  would have given you $18087791.41 today.\n",
    "               This is a 7.967% return on investment.\n",
    "               But with an investment of only $0.25 in 1801, you would end up with $4521947.8525.\n",
    "               '''\n",
    "\n",
    "result = [x[0] for x in re.findall('(\\$[0-9]+(\\.[0-9]*)?)', paragraph)]\n",
    "\n",
    "result"
   ]
  },
  {
   "cell_type": "markdown",
   "id": "6e843956",
   "metadata": {},
   "source": [
    "## Q)."
   ]
  },
  {
   "cell_type": "code",
   "execution_count": 10,
   "id": "5b81d24a",
   "metadata": {},
   "outputs": [
    {
     "name": "stdout",
     "output_type": "stream",
     "text": [
      "None , ['Christmas Quote ']\n"
     ]
    }
   ],
   "source": [
    "text = '''\n",
    "            \"One cannot have enough socks with him\", said Dora. \n",
    "            \"Another has come and gone and I didn't get a single pair. \n",
    "            People will keep on insisting on giving me books.\" \n",
    "            Christmas Quote \n",
    "            '''\n",
    "\n",
    "regex = 'Christ.*' \n",
    "print(re.match(regex, text), \",\", re.findall(regex, text))"
   ]
  },
  {
   "cell_type": "markdown",
   "id": "1bc0241a",
   "metadata": {},
   "source": [
    "## Q)."
   ]
  },
  {
   "cell_type": "code",
   "execution_count": 11,
   "id": "8ca82e46",
   "metadata": {},
   "outputs": [
    {
     "data": {
      "text/plain": [
       "[]"
      ]
     },
     "execution_count": 11,
     "metadata": {},
     "output_type": "execute_result"
    }
   ],
   "source": [
    "re.findall('a{3,5}b', \"aba\")"
   ]
  },
  {
   "cell_type": "code",
   "execution_count": 12,
   "id": "fcfa3194",
   "metadata": {},
   "outputs": [
    {
     "data": {
      "text/plain": [
       "['aaab']"
      ]
     },
     "execution_count": 12,
     "metadata": {},
     "output_type": "execute_result"
    }
   ],
   "source": [
    "re.findall('a{3,5}b', \"aaabaa\")"
   ]
  },
  {
   "cell_type": "code",
   "execution_count": 13,
   "id": "2ba39174",
   "metadata": {},
   "outputs": [
    {
     "data": {
      "text/plain": [
       "['aaaaab']"
      ]
     },
     "execution_count": 13,
     "metadata": {},
     "output_type": "execute_result"
    }
   ],
   "source": [
    "re.findall('a{3,5}b', \"aaaaab\")"
   ]
  },
  {
   "cell_type": "code",
   "execution_count": 14,
   "id": "fff79ffa",
   "metadata": {},
   "outputs": [
    {
     "data": {
      "text/plain": [
       "['aaaaab']"
      ]
     },
     "execution_count": 14,
     "metadata": {},
     "output_type": "execute_result"
    }
   ],
   "source": [
    "re.findall('a{3,5}b', \"aaaaaab\")"
   ]
  },
  {
   "cell_type": "code",
   "execution_count": null,
   "id": "6d6aa7b1",
   "metadata": {},
   "outputs": [],
   "source": []
  },
  {
   "cell_type": "markdown",
   "id": "a7cc6e08",
   "metadata": {},
   "source": [
    "## Q)."
   ]
  },
  {
   "cell_type": "code",
   "execution_count": 15,
   "id": "ec7156e7",
   "metadata": {},
   "outputs": [
    {
     "name": "stdout",
     "output_type": "stream",
     "text": [
      "True True False False True True "
     ]
    }
   ],
   "source": [
    "new_input = ['18:29', '23:55', '123', 'ab:de', '18:299', '99:99']\n",
    "\n",
    "results = lambda x: re.match('[0-9]{2}:[0-9]{2}', x) != None\n",
    "\n",
    "for x in new_input:\n",
    "    print(results(x), end=\" \")"
   ]
  },
  {
   "cell_type": "markdown",
   "id": "f411368b",
   "metadata": {},
   "source": [
    "## Q)."
   ]
  },
  {
   "cell_type": "code",
   "execution_count": 17,
   "id": "e43a60cf",
   "metadata": {},
   "outputs": [
    {
     "name": "stdout",
     "output_type": "stream",
     "text": [
      "44:52 62:70 "
     ]
    }
   ],
   "source": [
    "s1 = 'Artificial Intelligence consists of Machine Learning and Deep Learning'\n",
    "pattern = 'Learning'\n",
    "\n",
    "for match in re.finditer(pattern, s1):\n",
    "    s = match.start()\n",
    "    e = match.end()\n",
    "    print('%d:%d' %(s, e), end=\" \")"
   ]
  },
  {
   "cell_type": "markdown",
   "id": "6b0f7dbb",
   "metadata": {},
   "source": [
    "## Q)."
   ]
  },
  {
   "cell_type": "code",
   "execution_count": 19,
   "id": "06905a60",
   "metadata": {},
   "outputs": [
    {
     "name": "stdout",
     "output_type": "stream",
     "text": [
      "13 19 94 13 28 19 57 "
     ]
    }
   ],
   "source": [
    "target_string = '''Anika is a basketball player who was born on June 13, 1994.\n",
    "                   She played 137 matches with a scoring average of 28.19 points per game.\n",
    "                   Her weight is 57 kg.'''\n",
    "\n",
    "result = re.finditer(r\"\\d{2}\", target_string)\n",
    "\n",
    "for match_obj in result:\n",
    "    print(match_obj.group(), end=\" \")"
   ]
  },
  {
   "cell_type": "markdown",
   "id": "98636c4e",
   "metadata": {},
   "source": [
    "## Q)."
   ]
  },
  {
   "cell_type": "code",
   "execution_count": 21,
   "id": "7243f8c5",
   "metadata": {},
   "outputs": [
    {
     "name": "stdout",
     "output_type": "stream",
     "text": [
      "www.realpython.com\n",
      "realpython\n"
     ]
    }
   ],
   "source": [
    "text = ''' Extract the doamin from the urls www.realpython.com'''\n",
    "pattern = r'(www.([A-Za-z_0-9-]+)(.\\w+))'\n",
    "\n",
    "find_iter_result = re.finditer(pattern, text)\n",
    "\n",
    "for i in find_iter_result:\n",
    "  print(i.group(0))     #output1\n",
    "\n",
    "find_all_result = re.findall(pattern, text)\n",
    "for i in find_all_result:\n",
    "  print(i[1])          #output2"
   ]
  },
  {
   "cell_type": "code",
   "execution_count": null,
   "id": "32cb0237",
   "metadata": {},
   "outputs": [],
   "source": []
  }
 ],
 "metadata": {
  "kernelspec": {
   "display_name": "Python 3 (ipykernel)",
   "language": "python",
   "name": "python3"
  },
  "language_info": {
   "codemirror_mode": {
    "name": "ipython",
    "version": 3
   },
   "file_extension": ".py",
   "mimetype": "text/x-python",
   "name": "python",
   "nbconvert_exporter": "python",
   "pygments_lexer": "ipython3",
   "version": "3.8.10"
  }
 },
 "nbformat": 4,
 "nbformat_minor": 5
}
