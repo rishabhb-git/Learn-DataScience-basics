{
 "cells": [
  {
   "cell_type": "code",
   "execution_count": 1,
   "id": "8df49314",
   "metadata": {},
   "outputs": [],
   "source": [
    "import pandas as pd\n",
    "import numpy as np"
   ]
  },
  {
   "cell_type": "markdown",
   "id": "ff1b71f8",
   "metadata": {},
   "source": [
    "## Q). Which of these would be the correct way to create a dataframe?\n",
    "\n",
    "- `df = pd.DataFrame([[1, 2], [\"Ram\", \"Shyam\"], [\"IT\", \"Ops\"]], columns = [\"emp_id\", \"name\", \"dept\"])` ❌\n",
    "\n",
    "\n",
    "- `df = pd.DataFrame([[1, \"Ram\", \"IT\"], [2, \"Shyam\", \"Ops\"]], columns = [\"emp_id\", \"name\", \"dept\"])`  ✅\n",
    "\n",
    "\n",
    "- `df = pd.DataFrame([1, \"Ram\", \"IT\"], columns = [\"emp_id\", \"name\", \"dept\"])`  ❌\n",
    "\n",
    "\n",
    "- `df = pd.DataFrame({'emp_id':[1, 2], 'name': ['Ram', 'Shyam'], 'dept':['IT', 'Ops']})`  ✅\n",
    "\n",
    "\n",
    "- `df = pd.DataFrame([[1, \"Ram\", \"IT\"], [2, \"Jon\"], [3, \"Yigrit\", \"ECE\"]], columns = [\"emp_id\", \"name\", \"dept\"])`  ✅"
   ]
  },
  {
   "cell_type": "code",
   "execution_count": 43,
   "id": "75681b9b",
   "metadata": {},
   "outputs": [
    {
     "data": {
      "text/html": [
       "<div>\n",
       "<style scoped>\n",
       "    .dataframe tbody tr th:only-of-type {\n",
       "        vertical-align: middle;\n",
       "    }\n",
       "\n",
       "    .dataframe tbody tr th {\n",
       "        vertical-align: top;\n",
       "    }\n",
       "\n",
       "    .dataframe thead th {\n",
       "        text-align: right;\n",
       "    }\n",
       "</style>\n",
       "<table border=\"1\" class=\"dataframe\">\n",
       "  <thead>\n",
       "    <tr style=\"text-align: right;\">\n",
       "      <th></th>\n",
       "      <th>emp_id</th>\n",
       "      <th>name</th>\n",
       "      <th>dept</th>\n",
       "    </tr>\n",
       "  </thead>\n",
       "  <tbody>\n",
       "    <tr>\n",
       "      <th>0</th>\n",
       "      <td>1</td>\n",
       "      <td>Ram</td>\n",
       "      <td>IT</td>\n",
       "    </tr>\n",
       "    <tr>\n",
       "      <th>1</th>\n",
       "      <td>2</td>\n",
       "      <td>Jon</td>\n",
       "      <td>None</td>\n",
       "    </tr>\n",
       "    <tr>\n",
       "      <th>2</th>\n",
       "      <td>3</td>\n",
       "      <td>Yigrit</td>\n",
       "      <td>ECE</td>\n",
       "    </tr>\n",
       "  </tbody>\n",
       "</table>\n",
       "</div>"
      ],
      "text/plain": [
       "   emp_id    name  dept\n",
       "0       1     Ram    IT\n",
       "1       2     Jon  None\n",
       "2       3  Yigrit   ECE"
      ]
     },
     "execution_count": 43,
     "metadata": {},
     "output_type": "execute_result"
    }
   ],
   "source": [
    "df = pd.DataFrame([[1, \"Ram\", \"IT\"], [2, \"Jon\"], [3, \"Yigrit\", \"ECE\"]], columns = [\"emp_id\", \"name\", \"dept\"])\n",
    "\n",
    "df"
   ]
  },
  {
   "cell_type": "markdown",
   "id": "05bee241",
   "metadata": {},
   "source": [
    "## Q). Perform `pd.merge()` for given dataframes df1 and df2."
   ]
  },
  {
   "cell_type": "code",
   "execution_count": 2,
   "id": "9bbef727",
   "metadata": {},
   "outputs": [
    {
     "name": "stdout",
     "output_type": "stream",
     "text": [
      "   Names   Profession\n",
      "0   Jack   Accounting\n",
      "1  Roman  Engineering\n",
      "2  Steph  Engineering\n",
      "==============================\n",
      "    Profession skills_required\n",
      "0   Accounting            math\n",
      "1   Accounting     spreadsheet\n",
      "2  Engineering          coding\n",
      "3  Engineering           linux\n",
      "4           HR     spreadsheet\n",
      "5           HR    organization\n"
     ]
    }
   ],
   "source": [
    "df1 = pd.DataFrame([[\"Jack\",\"Accounting\"],[\"Roman\",\"Engineering\"],[\"Steph\",\"Engineering\"]], columns=[\"Names\",\"Profession\"])\n",
    "\n",
    "df2 = pd.DataFrame([[\"Accounting\",\"math\"],[\"Accounting\",\"spreadsheet\"],[\"Engineering\",\"coding\"],[\"Engineering\",\"linux\"],[\"HR\",\"spreadsheet\"],[\"HR\",\"organization\"]], columns=[\"Profession\",\"skills_required\"])\n",
    "\n",
    "print(df1)\n",
    "print(\"=\"*30)\n",
    "print(df2)"
   ]
  },
  {
   "cell_type": "code",
   "execution_count": 3,
   "id": "e7e0f153",
   "metadata": {},
   "outputs": [
    {
     "data": {
      "text/html": [
       "<div>\n",
       "<style scoped>\n",
       "    .dataframe tbody tr th:only-of-type {\n",
       "        vertical-align: middle;\n",
       "    }\n",
       "\n",
       "    .dataframe tbody tr th {\n",
       "        vertical-align: top;\n",
       "    }\n",
       "\n",
       "    .dataframe thead th {\n",
       "        text-align: right;\n",
       "    }\n",
       "</style>\n",
       "<table border=\"1\" class=\"dataframe\">\n",
       "  <thead>\n",
       "    <tr style=\"text-align: right;\">\n",
       "      <th></th>\n",
       "      <th>Names</th>\n",
       "      <th>Profession</th>\n",
       "      <th>skills_required</th>\n",
       "    </tr>\n",
       "  </thead>\n",
       "  <tbody>\n",
       "    <tr>\n",
       "      <th>0</th>\n",
       "      <td>Jack</td>\n",
       "      <td>Accounting</td>\n",
       "      <td>math</td>\n",
       "    </tr>\n",
       "    <tr>\n",
       "      <th>1</th>\n",
       "      <td>Jack</td>\n",
       "      <td>Accounting</td>\n",
       "      <td>spreadsheet</td>\n",
       "    </tr>\n",
       "    <tr>\n",
       "      <th>2</th>\n",
       "      <td>Roman</td>\n",
       "      <td>Engineering</td>\n",
       "      <td>coding</td>\n",
       "    </tr>\n",
       "    <tr>\n",
       "      <th>3</th>\n",
       "      <td>Roman</td>\n",
       "      <td>Engineering</td>\n",
       "      <td>linux</td>\n",
       "    </tr>\n",
       "    <tr>\n",
       "      <th>4</th>\n",
       "      <td>Steph</td>\n",
       "      <td>Engineering</td>\n",
       "      <td>coding</td>\n",
       "    </tr>\n",
       "    <tr>\n",
       "      <th>5</th>\n",
       "      <td>Steph</td>\n",
       "      <td>Engineering</td>\n",
       "      <td>linux</td>\n",
       "    </tr>\n",
       "  </tbody>\n",
       "</table>\n",
       "</div>"
      ],
      "text/plain": [
       "   Names   Profession skills_required\n",
       "0   Jack   Accounting            math\n",
       "1   Jack   Accounting     spreadsheet\n",
       "2  Roman  Engineering          coding\n",
       "3  Roman  Engineering           linux\n",
       "4  Steph  Engineering          coding\n",
       "5  Steph  Engineering           linux"
      ]
     },
     "execution_count": 3,
     "metadata": {},
     "output_type": "execute_result"
    }
   ],
   "source": [
    "pd.merge(df1, df2)"
   ]
  },
  {
   "cell_type": "markdown",
   "id": "b707abde",
   "metadata": {},
   "source": [
    "****\n",
    "\n",
    "## Q). Dataframe about customer ratings is given. Return the subset of the dataframe with records having a `rating >= 6`, containing the columns \"profession\", \"gender\" and \"age\" only."
   ]
  },
  {
   "cell_type": "code",
   "execution_count": 4,
   "id": "e8705639",
   "metadata": {},
   "outputs": [
    {
     "data": {
      "text/html": [
       "<div>\n",
       "<style scoped>\n",
       "    .dataframe tbody tr th:only-of-type {\n",
       "        vertical-align: middle;\n",
       "    }\n",
       "\n",
       "    .dataframe tbody tr th {\n",
       "        vertical-align: top;\n",
       "    }\n",
       "\n",
       "    .dataframe thead th {\n",
       "        text-align: right;\n",
       "    }\n",
       "</style>\n",
       "<table border=\"1\" class=\"dataframe\">\n",
       "  <thead>\n",
       "    <tr style=\"text-align: right;\">\n",
       "      <th></th>\n",
       "      <th>name</th>\n",
       "      <th>profession</th>\n",
       "      <th>gender</th>\n",
       "      <th>age</th>\n",
       "      <th>review</th>\n",
       "      <th>rating</th>\n",
       "    </tr>\n",
       "  </thead>\n",
       "  <tbody>\n",
       "    <tr>\n",
       "      <th>0</th>\n",
       "      <td>Ruby</td>\n",
       "      <td>HR manager</td>\n",
       "      <td>female</td>\n",
       "      <td>21</td>\n",
       "      <td>No comments</td>\n",
       "      <td>10</td>\n",
       "    </tr>\n",
       "    <tr>\n",
       "      <th>1</th>\n",
       "      <td>Anurag</td>\n",
       "      <td>Doctor</td>\n",
       "      <td>male</td>\n",
       "      <td>20</td>\n",
       "      <td>hardworker</td>\n",
       "      <td>5</td>\n",
       "    </tr>\n",
       "    <tr>\n",
       "      <th>2</th>\n",
       "      <td>Deepak</td>\n",
       "      <td>Data Scientist</td>\n",
       "      <td>male</td>\n",
       "      <td>25</td>\n",
       "      <td>need improvement</td>\n",
       "      <td>7</td>\n",
       "    </tr>\n",
       "  </tbody>\n",
       "</table>\n",
       "</div>"
      ],
      "text/plain": [
       "     name      profession  gender  age            review  rating\n",
       "0    Ruby      HR manager  female   21       No comments      10\n",
       "1  Anurag          Doctor    male   20        hardworker       5\n",
       "2  Deepak  Data Scientist    male   25  need improvement       7"
      ]
     },
     "execution_count": 4,
     "metadata": {},
     "output_type": "execute_result"
    }
   ],
   "source": [
    "customers = pd.DataFrame({'name':[\"Ruby\",\"Anurag\",\"Deepak\"],\n",
    "                          \"profession\":['HR manager','Doctor','Data Scientist'],\n",
    "                          \"gender\":['female','male','male'],\n",
    "                          \"age\":[21,20,25],\n",
    "                          \"review\":['No comments','hardworker','need improvement'],\n",
    "                          \"rating\":[10,5,7]})\n",
    "\n",
    "customers"
   ]
  },
  {
   "cell_type": "code",
   "execution_count": 5,
   "id": "4fe9f6ad",
   "metadata": {},
   "outputs": [
    {
     "data": {
      "text/html": [
       "<div>\n",
       "<style scoped>\n",
       "    .dataframe tbody tr th:only-of-type {\n",
       "        vertical-align: middle;\n",
       "    }\n",
       "\n",
       "    .dataframe tbody tr th {\n",
       "        vertical-align: top;\n",
       "    }\n",
       "\n",
       "    .dataframe thead th {\n",
       "        text-align: right;\n",
       "    }\n",
       "</style>\n",
       "<table border=\"1\" class=\"dataframe\">\n",
       "  <thead>\n",
       "    <tr style=\"text-align: right;\">\n",
       "      <th></th>\n",
       "      <th>profession</th>\n",
       "      <th>gender</th>\n",
       "      <th>age</th>\n",
       "    </tr>\n",
       "  </thead>\n",
       "  <tbody>\n",
       "    <tr>\n",
       "      <th>0</th>\n",
       "      <td>HR manager</td>\n",
       "      <td>female</td>\n",
       "      <td>21</td>\n",
       "    </tr>\n",
       "    <tr>\n",
       "      <th>2</th>\n",
       "      <td>Data Scientist</td>\n",
       "      <td>male</td>\n",
       "      <td>25</td>\n",
       "    </tr>\n",
       "  </tbody>\n",
       "</table>\n",
       "</div>"
      ],
      "text/plain": [
       "       profession  gender  age\n",
       "0      HR manager  female   21\n",
       "2  Data Scientist    male   25"
      ]
     },
     "execution_count": 5,
     "metadata": {},
     "output_type": "execute_result"
    }
   ],
   "source": [
    "customers.loc[customers[\"rating\"] >= 6, ['profession', 'gender', 'age']]"
   ]
  },
  {
   "cell_type": "code",
   "execution_count": null,
   "id": "47d570b1",
   "metadata": {},
   "outputs": [],
   "source": []
  },
  {
   "cell_type": "code",
   "execution_count": null,
   "id": "cac72bc3",
   "metadata": {},
   "outputs": [],
   "source": []
  },
  {
   "cell_type": "code",
   "execution_count": 6,
   "id": "a65a9c09",
   "metadata": {},
   "outputs": [
    {
     "data": {
      "text/html": [
       "<div>\n",
       "<style scoped>\n",
       "    .dataframe tbody tr th:only-of-type {\n",
       "        vertical-align: middle;\n",
       "    }\n",
       "\n",
       "    .dataframe tbody tr th {\n",
       "        vertical-align: top;\n",
       "    }\n",
       "\n",
       "    .dataframe thead th {\n",
       "        text-align: right;\n",
       "    }\n",
       "</style>\n",
       "<table border=\"1\" class=\"dataframe\">\n",
       "  <thead>\n",
       "    <tr style=\"text-align: right;\">\n",
       "      <th></th>\n",
       "      <th>school_code</th>\n",
       "      <th>class</th>\n",
       "      <th>name</th>\n",
       "      <th>age</th>\n",
       "      <th>height</th>\n",
       "      <th>weight</th>\n",
       "    </tr>\n",
       "  </thead>\n",
       "  <tbody>\n",
       "    <tr>\n",
       "      <th>S1</th>\n",
       "      <td>s001</td>\n",
       "      <td>V</td>\n",
       "      <td>Alberto Franco</td>\n",
       "      <td>12</td>\n",
       "      <td>173</td>\n",
       "      <td>35</td>\n",
       "    </tr>\n",
       "    <tr>\n",
       "      <th>S2</th>\n",
       "      <td>s002</td>\n",
       "      <td>V</td>\n",
       "      <td>Gino Mcneill</td>\n",
       "      <td>12</td>\n",
       "      <td>192</td>\n",
       "      <td>32</td>\n",
       "    </tr>\n",
       "    <tr>\n",
       "      <th>S3</th>\n",
       "      <td>s003</td>\n",
       "      <td>VI</td>\n",
       "      <td>Ryan Parkes</td>\n",
       "      <td>13</td>\n",
       "      <td>186</td>\n",
       "      <td>33</td>\n",
       "    </tr>\n",
       "    <tr>\n",
       "      <th>S4</th>\n",
       "      <td>s001</td>\n",
       "      <td>VI</td>\n",
       "      <td>Eesha Hinton</td>\n",
       "      <td>13</td>\n",
       "      <td>167</td>\n",
       "      <td>30</td>\n",
       "    </tr>\n",
       "    <tr>\n",
       "      <th>S5</th>\n",
       "      <td>s002</td>\n",
       "      <td>V</td>\n",
       "      <td>Gino Mcneill</td>\n",
       "      <td>14</td>\n",
       "      <td>151</td>\n",
       "      <td>31</td>\n",
       "    </tr>\n",
       "    <tr>\n",
       "      <th>S6</th>\n",
       "      <td>s004</td>\n",
       "      <td>VI</td>\n",
       "      <td>David Parkes</td>\n",
       "      <td>12</td>\n",
       "      <td>159</td>\n",
       "      <td>32</td>\n",
       "    </tr>\n",
       "    <tr>\n",
       "      <th>S7</th>\n",
       "      <td>s001</td>\n",
       "      <td>IX</td>\n",
       "      <td>Jane</td>\n",
       "      <td>15</td>\n",
       "      <td>140</td>\n",
       "      <td>40</td>\n",
       "    </tr>\n",
       "    <tr>\n",
       "      <th>S8</th>\n",
       "      <td>s003</td>\n",
       "      <td>X</td>\n",
       "      <td>Martin</td>\n",
       "      <td>20</td>\n",
       "      <td>160</td>\n",
       "      <td>50</td>\n",
       "    </tr>\n",
       "  </tbody>\n",
       "</table>\n",
       "</div>"
      ],
      "text/plain": [
       "   school_code class            name  age  height  weight\n",
       "S1        s001     V  Alberto Franco   12     173      35\n",
       "S2        s002     V    Gino Mcneill   12     192      32\n",
       "S3        s003    VI     Ryan Parkes   13     186      33\n",
       "S4        s001    VI    Eesha Hinton   13     167      30\n",
       "S5        s002     V    Gino Mcneill   14     151      31\n",
       "S6        s004    VI    David Parkes   12     159      32\n",
       "S7        s001    IX            Jane   15     140      40\n",
       "S8        s003     X          Martin   20     160      50"
      ]
     },
     "execution_count": 6,
     "metadata": {},
     "output_type": "execute_result"
    }
   ],
   "source": [
    "import pandas as pd\n",
    "student_data = pd.DataFrame({\n",
    "    'school_code': ['s001','s002','s003','s001','s002','s004','s001','s003'],\n",
    "    'class': ['V', 'V', 'VI', 'VI', 'V', 'VI','IX','X'],\n",
    "    'name': ['Alberto Franco','Gino Mcneill','Ryan Parkes', 'Eesha Hinton', 'Gino Mcneill', 'David Parkes','Jane','Martin'],\n",
    "    'age': [12, 12, 13, 13, 14, 12, 15, 20],\n",
    "    'height': [173, 192, 186, 167, 151, 159, 140, 160],\n",
    "    'weight': [35, 32, 33, 30, 31, 32, 40, 50]},\n",
    "  index=['S1', 'S2', 'S3', 'S4', 'S5', 'S6','S7','S8'])\n",
    "\n",
    "student_data"
   ]
  },
  {
   "cell_type": "markdown",
   "id": "f5a162de",
   "metadata": {},
   "source": [
    "#### Code in block 'A', prints the number of observations in all the unique 'school_code' and 'class' combinations."
   ]
  },
  {
   "cell_type": "code",
   "execution_count": 7,
   "id": "7ce6d40e",
   "metadata": {},
   "outputs": [
    {
     "name": "stdout",
     "output_type": "stream",
     "text": [
      "school_code  class\n",
      "s001         IX       1\n",
      "             V        1\n",
      "             VI       1\n",
      "s002         V        2\n",
      "s003         VI       1\n",
      "             X        1\n",
      "s004         VI       1\n",
      "dtype: int64\n"
     ]
    },
    {
     "data": {
      "text/plain": [
       "<pandas.core.groupby.generic.DataFrameGroupBy object at 0x0000022D61729760>"
      ]
     },
     "execution_count": 7,
     "metadata": {},
     "output_type": "execute_result"
    }
   ],
   "source": [
    "## A\n",
    "\n",
    "grouped_data = student_data.groupby(['school_code', 'class'])\n",
    "print((grouped_data.size()))\n",
    "\n",
    "grouped_data"
   ]
  },
  {
   "cell_type": "markdown",
   "id": "3d8cdf02",
   "metadata": {},
   "source": [
    "#### Code in block 'B', prints all the observations of each 'school_code' except the last 1 observation in each unique \"school_code\"."
   ]
  },
  {
   "cell_type": "code",
   "execution_count": 8,
   "id": "b88800d0",
   "metadata": {},
   "outputs": [
    {
     "name": "stdout",
     "output_type": "stream",
     "text": [
      "   school_code class            name  age  height  weight\n",
      "S1        s001     V  Alberto Franco   12     173      35\n",
      "S2        s002     V    Gino Mcneill   12     192      32\n",
      "S3        s003    VI     Ryan Parkes   13     186      33\n",
      "S4        s001    VI    Eesha Hinton   13     167      30\n"
     ]
    }
   ],
   "source": [
    "## B\n",
    "\n",
    "n = 1\n",
    "rows_to_drop = student_data.groupby(['school_code']).tail(n).index\n",
    "result1 = student_data.drop(rows_to_drop, axis=0)\n",
    "\n",
    "print(result1)"
   ]
  },
  {
   "cell_type": "code",
   "execution_count": 9,
   "id": "02831a3e",
   "metadata": {},
   "outputs": [
    {
     "data": {
      "text/plain": [
       "Index(['S5', 'S6', 'S7', 'S8'], dtype='object')"
      ]
     },
     "execution_count": 9,
     "metadata": {},
     "output_type": "execute_result"
    }
   ],
   "source": [
    "rows_to_drop"
   ]
  },
  {
   "cell_type": "code",
   "execution_count": 10,
   "id": "660cd059",
   "metadata": {},
   "outputs": [
    {
     "data": {
      "text/html": [
       "<div>\n",
       "<style scoped>\n",
       "    .dataframe tbody tr th:only-of-type {\n",
       "        vertical-align: middle;\n",
       "    }\n",
       "\n",
       "    .dataframe tbody tr th {\n",
       "        vertical-align: top;\n",
       "    }\n",
       "\n",
       "    .dataframe thead th {\n",
       "        text-align: right;\n",
       "    }\n",
       "</style>\n",
       "<table border=\"1\" class=\"dataframe\">\n",
       "  <thead>\n",
       "    <tr style=\"text-align: right;\">\n",
       "      <th></th>\n",
       "      <th>school_code</th>\n",
       "      <th>class</th>\n",
       "      <th>name</th>\n",
       "      <th>age</th>\n",
       "      <th>height</th>\n",
       "      <th>weight</th>\n",
       "    </tr>\n",
       "  </thead>\n",
       "  <tbody>\n",
       "    <tr>\n",
       "      <th>S5</th>\n",
       "      <td>s002</td>\n",
       "      <td>V</td>\n",
       "      <td>Gino Mcneill</td>\n",
       "      <td>14</td>\n",
       "      <td>151</td>\n",
       "      <td>31</td>\n",
       "    </tr>\n",
       "    <tr>\n",
       "      <th>S6</th>\n",
       "      <td>s004</td>\n",
       "      <td>VI</td>\n",
       "      <td>David Parkes</td>\n",
       "      <td>12</td>\n",
       "      <td>159</td>\n",
       "      <td>32</td>\n",
       "    </tr>\n",
       "    <tr>\n",
       "      <th>S7</th>\n",
       "      <td>s001</td>\n",
       "      <td>IX</td>\n",
       "      <td>Jane</td>\n",
       "      <td>15</td>\n",
       "      <td>140</td>\n",
       "      <td>40</td>\n",
       "    </tr>\n",
       "    <tr>\n",
       "      <th>S8</th>\n",
       "      <td>s003</td>\n",
       "      <td>X</td>\n",
       "      <td>Martin</td>\n",
       "      <td>20</td>\n",
       "      <td>160</td>\n",
       "      <td>50</td>\n",
       "    </tr>\n",
       "  </tbody>\n",
       "</table>\n",
       "</div>"
      ],
      "text/plain": [
       "   school_code class          name  age  height  weight\n",
       "S5        s002     V  Gino Mcneill   14     151      31\n",
       "S6        s004    VI  David Parkes   12     159      32\n",
       "S7        s001    IX          Jane   15     140      40\n",
       "S8        s003     X        Martin   20     160      50"
      ]
     },
     "execution_count": 10,
     "metadata": {},
     "output_type": "execute_result"
    }
   ],
   "source": [
    "student_data.groupby(['school_code']).tail(1)"
   ]
  },
  {
   "cell_type": "code",
   "execution_count": null,
   "id": "69e8ae9c",
   "metadata": {},
   "outputs": [],
   "source": []
  },
  {
   "cell_type": "markdown",
   "id": "325fcc82",
   "metadata": {},
   "source": [
    "****\n",
    "\n",
    "## Q). Find out all the rows containing one or more `NaN` values in a data frame `df`\n",
    "\n",
    "- `df[df.isna()]`\n",
    "\n",
    "\n",
    "- `df.isna()`\n",
    "\n",
    "\n",
    "- `df[df.isnull().any(axis=1)]` ✅\n",
    "\n",
    "\n",
    "- `df[df.isnull(axis=1)]`"
   ]
  },
  {
   "cell_type": "code",
   "execution_count": 11,
   "id": "889fa77d",
   "metadata": {},
   "outputs": [
    {
     "data": {
      "text/html": [
       "<div>\n",
       "<style scoped>\n",
       "    .dataframe tbody tr th:only-of-type {\n",
       "        vertical-align: middle;\n",
       "    }\n",
       "\n",
       "    .dataframe tbody tr th {\n",
       "        vertical-align: top;\n",
       "    }\n",
       "\n",
       "    .dataframe thead th {\n",
       "        text-align: right;\n",
       "    }\n",
       "</style>\n",
       "<table border=\"1\" class=\"dataframe\">\n",
       "  <thead>\n",
       "    <tr style=\"text-align: right;\">\n",
       "      <th></th>\n",
       "      <th>school_code</th>\n",
       "      <th>class</th>\n",
       "      <th>name</th>\n",
       "      <th>age</th>\n",
       "      <th>height</th>\n",
       "      <th>weight</th>\n",
       "    </tr>\n",
       "  </thead>\n",
       "  <tbody>\n",
       "    <tr>\n",
       "      <th>S1</th>\n",
       "      <td>s001</td>\n",
       "      <td>V</td>\n",
       "      <td>NaN</td>\n",
       "      <td>12.0</td>\n",
       "      <td>NaN</td>\n",
       "      <td>35</td>\n",
       "    </tr>\n",
       "    <tr>\n",
       "      <th>S2</th>\n",
       "      <td>s002</td>\n",
       "      <td>V</td>\n",
       "      <td>Gino Mcneill</td>\n",
       "      <td>12.0</td>\n",
       "      <td>192.0</td>\n",
       "      <td>32</td>\n",
       "    </tr>\n",
       "    <tr>\n",
       "      <th>S3</th>\n",
       "      <td>s003</td>\n",
       "      <td>VI</td>\n",
       "      <td>Ryan Parkes</td>\n",
       "      <td>NaN</td>\n",
       "      <td>186.0</td>\n",
       "      <td>33</td>\n",
       "    </tr>\n",
       "    <tr>\n",
       "      <th>S4</th>\n",
       "      <td>s001</td>\n",
       "      <td>VI</td>\n",
       "      <td>Eesha Hinton</td>\n",
       "      <td>13.0</td>\n",
       "      <td>167.0</td>\n",
       "      <td>30</td>\n",
       "    </tr>\n",
       "    <tr>\n",
       "      <th>S5</th>\n",
       "      <td>s002</td>\n",
       "      <td>V</td>\n",
       "      <td>Gino Mcneill</td>\n",
       "      <td>14.0</td>\n",
       "      <td>151.0</td>\n",
       "      <td>31</td>\n",
       "    </tr>\n",
       "    <tr>\n",
       "      <th>S6</th>\n",
       "      <td>s004</td>\n",
       "      <td>VI</td>\n",
       "      <td>David Parkes</td>\n",
       "      <td>12.0</td>\n",
       "      <td>159.0</td>\n",
       "      <td>32</td>\n",
       "    </tr>\n",
       "    <tr>\n",
       "      <th>S7</th>\n",
       "      <td>s001</td>\n",
       "      <td>IX</td>\n",
       "      <td>Jane</td>\n",
       "      <td>15.0</td>\n",
       "      <td>140.0</td>\n",
       "      <td>40</td>\n",
       "    </tr>\n",
       "    <tr>\n",
       "      <th>S8</th>\n",
       "      <td>s003</td>\n",
       "      <td>X</td>\n",
       "      <td>Martin</td>\n",
       "      <td>20.0</td>\n",
       "      <td>160.0</td>\n",
       "      <td>50</td>\n",
       "    </tr>\n",
       "  </tbody>\n",
       "</table>\n",
       "</div>"
      ],
      "text/plain": [
       "   school_code class          name   age  height  weight\n",
       "S1        s001     V           NaN  12.0     NaN      35\n",
       "S2        s002     V  Gino Mcneill  12.0   192.0      32\n",
       "S3        s003    VI   Ryan Parkes   NaN   186.0      33\n",
       "S4        s001    VI  Eesha Hinton  13.0   167.0      30\n",
       "S5        s002     V  Gino Mcneill  14.0   151.0      31\n",
       "S6        s004    VI  David Parkes  12.0   159.0      32\n",
       "S7        s001    IX          Jane  15.0   140.0      40\n",
       "S8        s003     X        Martin  20.0   160.0      50"
      ]
     },
     "execution_count": 11,
     "metadata": {},
     "output_type": "execute_result"
    }
   ],
   "source": [
    "student_data = pd.DataFrame({\n",
    "    'school_code': ['s001','s002','s003','s001','s002','s004','s001','s003'],\n",
    "    'class': ['V', 'V', 'VI', 'VI', 'V', 'VI','IX','X'],\n",
    "    'name': [np.NaN,'Gino Mcneill','Ryan Parkes', 'Eesha Hinton', 'Gino Mcneill', 'David Parkes','Jane','Martin'],\n",
    "    'age': [12, 12, np.NaN, 13, 14, 12, 15, 20],\n",
    "    'height': [np.NaN, 192, 186, 167, 151, 159, 140, 160],\n",
    "    'weight': [35, 32, 33, 30, 31, 32, 40, 50]},\n",
    " index=['S1', 'S2', 'S3', 'S4', 'S5', 'S6','S7','S8'])\n",
    "\n",
    "\n",
    "student_data"
   ]
  },
  {
   "cell_type": "code",
   "execution_count": 12,
   "id": "79aa5262",
   "metadata": {},
   "outputs": [
    {
     "data": {
      "text/html": [
       "<div>\n",
       "<style scoped>\n",
       "    .dataframe tbody tr th:only-of-type {\n",
       "        vertical-align: middle;\n",
       "    }\n",
       "\n",
       "    .dataframe tbody tr th {\n",
       "        vertical-align: top;\n",
       "    }\n",
       "\n",
       "    .dataframe thead th {\n",
       "        text-align: right;\n",
       "    }\n",
       "</style>\n",
       "<table border=\"1\" class=\"dataframe\">\n",
       "  <thead>\n",
       "    <tr style=\"text-align: right;\">\n",
       "      <th></th>\n",
       "      <th>school_code</th>\n",
       "      <th>class</th>\n",
       "      <th>name</th>\n",
       "      <th>age</th>\n",
       "      <th>height</th>\n",
       "      <th>weight</th>\n",
       "    </tr>\n",
       "  </thead>\n",
       "  <tbody>\n",
       "    <tr>\n",
       "      <th>S1</th>\n",
       "      <td>s001</td>\n",
       "      <td>V</td>\n",
       "      <td>NaN</td>\n",
       "      <td>12.0</td>\n",
       "      <td>NaN</td>\n",
       "      <td>35</td>\n",
       "    </tr>\n",
       "    <tr>\n",
       "      <th>S3</th>\n",
       "      <td>s003</td>\n",
       "      <td>VI</td>\n",
       "      <td>Ryan Parkes</td>\n",
       "      <td>NaN</td>\n",
       "      <td>186.0</td>\n",
       "      <td>33</td>\n",
       "    </tr>\n",
       "  </tbody>\n",
       "</table>\n",
       "</div>"
      ],
      "text/plain": [
       "   school_code class         name   age  height  weight\n",
       "S1        s001     V          NaN  12.0     NaN      35\n",
       "S3        s003    VI  Ryan Parkes   NaN   186.0      33"
      ]
     },
     "execution_count": 12,
     "metadata": {},
     "output_type": "execute_result"
    }
   ],
   "source": [
    "student_data[student_data.isnull().any(axis=1)]\n",
    "\n",
    "## also corret with `isna().any()` => student_data[student_data.isna().any(axis=1)]"
   ]
  },
  {
   "cell_type": "code",
   "execution_count": null,
   "id": "a0266a41",
   "metadata": {},
   "outputs": [],
   "source": []
  },
  {
   "cell_type": "markdown",
   "id": "2c1c89de",
   "metadata": {},
   "source": [
    "****\n",
    "\n",
    "## Q). Given a dataframe, with a single column \"City/tState\", return the preprocessed dataframe with names of City and State separated."
   ]
  },
  {
   "cell_type": "code",
   "execution_count": 15,
   "id": "997fa328",
   "metadata": {},
   "outputs": [
    {
     "data": {
      "text/html": [
       "<div>\n",
       "<style scoped>\n",
       "    .dataframe tbody tr th:only-of-type {\n",
       "        vertical-align: middle;\n",
       "    }\n",
       "\n",
       "    .dataframe tbody tr th {\n",
       "        vertical-align: top;\n",
       "    }\n",
       "\n",
       "    .dataframe thead th {\n",
       "        text-align: right;\n",
       "    }\n",
       "</style>\n",
       "<table border=\"1\" class=\"dataframe\">\n",
       "  <thead>\n",
       "    <tr style=\"text-align: right;\">\n",
       "      <th></th>\n",
       "      <th>City\\tState</th>\n",
       "    </tr>\n",
       "  </thead>\n",
       "  <tbody>\n",
       "    <tr>\n",
       "      <th>0</th>\n",
       "      <td>Kolkata\\tWest Bengal</td>\n",
       "    </tr>\n",
       "    <tr>\n",
       "      <th>1</th>\n",
       "      <td>Chennai\\tTamil Nadu</td>\n",
       "    </tr>\n",
       "    <tr>\n",
       "      <th>2</th>\n",
       "      <td>Hyderabad\\tTelengana</td>\n",
       "    </tr>\n",
       "    <tr>\n",
       "      <th>3</th>\n",
       "      <td>Bangalore\\tKarnataka</td>\n",
       "    </tr>\n",
       "  </tbody>\n",
       "</table>\n",
       "</div>"
      ],
      "text/plain": [
       "            City\\tState\n",
       "0  Kolkata\\tWest Bengal\n",
       "1   Chennai\\tTamil Nadu\n",
       "2  Hyderabad\\tTelengana\n",
       "3  Bangalore\\tKarnataka"
      ]
     },
     "execution_count": 15,
     "metadata": {},
     "output_type": "execute_result"
    }
   ],
   "source": [
    "df = pd.DataFrame({\"City\\tState\":['Kolkata\\tWest Bengal', 'Chennai\\tTamil Nadu', 'Hyderabad\\tTelengana', 'Bangalore\\tKarnataka']})\n",
    "\n",
    "df"
   ]
  },
  {
   "cell_type": "code",
   "execution_count": 16,
   "id": "2907611b",
   "metadata": {},
   "outputs": [
    {
     "data": {
      "text/html": [
       "<div>\n",
       "<style scoped>\n",
       "    .dataframe tbody tr th:only-of-type {\n",
       "        vertical-align: middle;\n",
       "    }\n",
       "\n",
       "    .dataframe tbody tr th {\n",
       "        vertical-align: top;\n",
       "    }\n",
       "\n",
       "    .dataframe thead th {\n",
       "        text-align: right;\n",
       "    }\n",
       "</style>\n",
       "<table border=\"1\" class=\"dataframe\">\n",
       "  <thead>\n",
       "    <tr style=\"text-align: right;\">\n",
       "      <th></th>\n",
       "      <th>City</th>\n",
       "      <th>State</th>\n",
       "    </tr>\n",
       "  </thead>\n",
       "  <tbody>\n",
       "    <tr>\n",
       "      <th>0</th>\n",
       "      <td>Kolkata</td>\n",
       "      <td>West Bengal</td>\n",
       "    </tr>\n",
       "    <tr>\n",
       "      <th>1</th>\n",
       "      <td>Chennai</td>\n",
       "      <td>Tamil Nadu</td>\n",
       "    </tr>\n",
       "    <tr>\n",
       "      <th>2</th>\n",
       "      <td>Hyderabad</td>\n",
       "      <td>Telengana</td>\n",
       "    </tr>\n",
       "    <tr>\n",
       "      <th>3</th>\n",
       "      <td>Bangalore</td>\n",
       "      <td>Karnataka</td>\n",
       "    </tr>\n",
       "  </tbody>\n",
       "</table>\n",
       "</div>"
      ],
      "text/plain": [
       "        City        State\n",
       "0    Kolkata  West Bengal\n",
       "1    Chennai   Tamil Nadu\n",
       "2  Hyderabad    Telengana\n",
       "3  Bangalore    Karnataka"
      ]
     },
     "execution_count": 16,
     "metadata": {},
     "output_type": "execute_result"
    }
   ],
   "source": [
    "df_new = pd.DataFrame([], [])\n",
    "\n",
    "df_new[['City', 'State']] = df['City\\tState'].str.split('\\t', 1, expand=True)\n",
    "\n",
    "## OR, try this :\n",
    "# df_new = df['City\\tState'].str.split('\\t', expand=True)\n",
    "# df_new.columns = df.columns[0].split('\\t')\n",
    "\n",
    "df_new"
   ]
  },
  {
   "cell_type": "code",
   "execution_count": null,
   "id": "75fa32a4",
   "metadata": {},
   "outputs": [],
   "source": []
  },
  {
   "cell_type": "markdown",
   "id": "43b25319",
   "metadata": {},
   "source": [
    "****\n",
    "\n",
    "## Q). Given a dataframe as shown below, return the series of male names in the age group of 23-30 (inclusive of both 23 and 30)."
   ]
  },
  {
   "cell_type": "code",
   "execution_count": 17,
   "id": "10431b3a",
   "metadata": {},
   "outputs": [
    {
     "data": {
      "text/html": [
       "<div>\n",
       "<style scoped>\n",
       "    .dataframe tbody tr th:only-of-type {\n",
       "        vertical-align: middle;\n",
       "    }\n",
       "\n",
       "    .dataframe tbody tr th {\n",
       "        vertical-align: top;\n",
       "    }\n",
       "\n",
       "    .dataframe thead th {\n",
       "        text-align: right;\n",
       "    }\n",
       "</style>\n",
       "<table border=\"1\" class=\"dataframe\">\n",
       "  <thead>\n",
       "    <tr style=\"text-align: right;\">\n",
       "      <th></th>\n",
       "      <th>name</th>\n",
       "      <th>profession</th>\n",
       "      <th>gender</th>\n",
       "      <th>age</th>\n",
       "      <th>review</th>\n",
       "      <th>rating</th>\n",
       "    </tr>\n",
       "  </thead>\n",
       "  <tbody>\n",
       "    <tr>\n",
       "      <th>0</th>\n",
       "      <td>Mark</td>\n",
       "      <td>dev</td>\n",
       "      <td>male</td>\n",
       "      <td>21</td>\n",
       "      <td>need improvement</td>\n",
       "      <td>10</td>\n",
       "    </tr>\n",
       "    <tr>\n",
       "      <th>1</th>\n",
       "      <td>Ram</td>\n",
       "      <td>mle</td>\n",
       "      <td>male</td>\n",
       "      <td>20</td>\n",
       "      <td>Can be improved</td>\n",
       "      <td>5</td>\n",
       "    </tr>\n",
       "    <tr>\n",
       "      <th>2</th>\n",
       "      <td>Dev</td>\n",
       "      <td>mle</td>\n",
       "      <td>male</td>\n",
       "      <td>30</td>\n",
       "      <td>Scope of improvement</td>\n",
       "      <td>7</td>\n",
       "    </tr>\n",
       "  </tbody>\n",
       "</table>\n",
       "</div>"
      ],
      "text/plain": [
       "   name profession gender  age                review  rating\n",
       "0  Mark        dev   male   21      need improvement      10\n",
       "1   Ram        mle   male   20       Can be improved       5\n",
       "2   Dev        mle   male   30  Scope of improvement       7"
      ]
     },
     "execution_count": 17,
     "metadata": {},
     "output_type": "execute_result"
    }
   ],
   "source": [
    "df = pd.DataFrame({'name':[\"Mark\",\"Ram\",\"Dev\"],\n",
    "                   \"profession\":['dev','mle','mle'],\n",
    "                   \"gender\":['male','male','male'],\n",
    "                   \"age\":[21,20,30],\n",
    "                   \"review\":['need improvement','Can be improved','Scope of improvement'],\n",
    "                   \"rating\":[10,5,7]\n",
    "                  })\n",
    "\n",
    "df"
   ]
  },
  {
   "cell_type": "code",
   "execution_count": 18,
   "id": "6e20c413",
   "metadata": {},
   "outputs": [
    {
     "data": {
      "text/plain": [
       "2    Dev\n",
       "Name: name, dtype: object"
      ]
     },
     "execution_count": 18,
     "metadata": {},
     "output_type": "execute_result"
    }
   ],
   "source": [
    "df[ (df[\"age\"].isin(range(23,31))) & (df[\"gender\"].isin([\"male\"])) ][\"name\"]"
   ]
  },
  {
   "cell_type": "code",
   "execution_count": null,
   "id": "59af7cda",
   "metadata": {},
   "outputs": [],
   "source": []
  },
  {
   "cell_type": "markdown",
   "id": "0d30a617",
   "metadata": {},
   "source": [
    "****\n",
    "\n",
    "## Q). A dataframe consists of the names and ages of a few candidates.\n",
    "\n",
    "You need to convert `age` column into categories according to the following conditions :\n",
    "1. If age<18: kid\n",
    "2. age >=18 and <=50: adult\n",
    "3. age>50: senior\n",
    "\n",
    "Write a program to do so using `apply` function."
   ]
  },
  {
   "cell_type": "code",
   "execution_count": 19,
   "id": "ff7272b4",
   "metadata": {},
   "outputs": [
    {
     "data": {
      "text/html": [
       "<div>\n",
       "<style scoped>\n",
       "    .dataframe tbody tr th:only-of-type {\n",
       "        vertical-align: middle;\n",
       "    }\n",
       "\n",
       "    .dataframe tbody tr th {\n",
       "        vertical-align: top;\n",
       "    }\n",
       "\n",
       "    .dataframe thead th {\n",
       "        text-align: right;\n",
       "    }\n",
       "</style>\n",
       "<table border=\"1\" class=\"dataframe\">\n",
       "  <thead>\n",
       "    <tr style=\"text-align: right;\">\n",
       "      <th></th>\n",
       "      <th>name</th>\n",
       "      <th>age</th>\n",
       "    </tr>\n",
       "  </thead>\n",
       "  <tbody>\n",
       "    <tr>\n",
       "      <th>0</th>\n",
       "      <td>Ram</td>\n",
       "      <td>10</td>\n",
       "    </tr>\n",
       "    <tr>\n",
       "      <th>1</th>\n",
       "      <td>Shyam</td>\n",
       "      <td>18</td>\n",
       "    </tr>\n",
       "    <tr>\n",
       "      <th>2</th>\n",
       "      <td>Mukesh</td>\n",
       "      <td>60</td>\n",
       "    </tr>\n",
       "    <tr>\n",
       "      <th>3</th>\n",
       "      <td>Suresh</td>\n",
       "      <td>50</td>\n",
       "    </tr>\n",
       "  </tbody>\n",
       "</table>\n",
       "</div>"
      ],
      "text/plain": [
       "     name  age\n",
       "0     Ram   10\n",
       "1   Shyam   18\n",
       "2  Mukesh   60\n",
       "3  Suresh   50"
      ]
     },
     "execution_count": 19,
     "metadata": {},
     "output_type": "execute_result"
    }
   ],
   "source": [
    "studs = pd.DataFrame({'name':[\"Ram\",\"Shyam\",\"Mukesh\",\"Suresh\"],'age':[10,18,60,50]})\n",
    "studs"
   ]
  },
  {
   "cell_type": "code",
   "execution_count": 20,
   "id": "7ae41903",
   "metadata": {},
   "outputs": [],
   "source": [
    "def replace_ages(df):\n",
    "    '''a is a dataframe with columns ['name', 'age']\n",
    "       Output A dataframe with same columns but with changed records as per required is expected to be returned'''\n",
    "\n",
    "    # YOUR CODE GOES HERE\n",
    "\n",
    "#     df[\"age_cat\"] = df[\"age\"].apply(apply_category)\n",
    "#     df.drop([\"age\"], axis=1, inplace=True)\n",
    "#     df.rename(columns={\"age_cat\":\"age\"}, inplace=True)\n",
    "#     return df\n",
    "\n",
    "    change   = lambda x: 'senior' if x>50 else 'adult' if x>=18 else 'kid'\n",
    "    df['age'] = df[\"age\"].apply(change)\n",
    "    \n",
    "    return pd.DataFrame(df, columns=['name','age'])\n",
    "\n",
    "\n",
    "def apply_category(x):\n",
    "    if x < 18:\n",
    "        return \"kid\"\n",
    "    elif 18 <= x <= 50:\n",
    "        return \"adult\"\n",
    "    else:\n",
    "        return \"senior\""
   ]
  },
  {
   "cell_type": "code",
   "execution_count": 21,
   "id": "2e67ad08",
   "metadata": {},
   "outputs": [
    {
     "data": {
      "text/html": [
       "<div>\n",
       "<style scoped>\n",
       "    .dataframe tbody tr th:only-of-type {\n",
       "        vertical-align: middle;\n",
       "    }\n",
       "\n",
       "    .dataframe tbody tr th {\n",
       "        vertical-align: top;\n",
       "    }\n",
       "\n",
       "    .dataframe thead th {\n",
       "        text-align: right;\n",
       "    }\n",
       "</style>\n",
       "<table border=\"1\" class=\"dataframe\">\n",
       "  <thead>\n",
       "    <tr style=\"text-align: right;\">\n",
       "      <th></th>\n",
       "      <th>name</th>\n",
       "      <th>age</th>\n",
       "    </tr>\n",
       "  </thead>\n",
       "  <tbody>\n",
       "    <tr>\n",
       "      <th>0</th>\n",
       "      <td>Ram</td>\n",
       "      <td>kid</td>\n",
       "    </tr>\n",
       "    <tr>\n",
       "      <th>1</th>\n",
       "      <td>Shyam</td>\n",
       "      <td>adult</td>\n",
       "    </tr>\n",
       "    <tr>\n",
       "      <th>2</th>\n",
       "      <td>Mukesh</td>\n",
       "      <td>senior</td>\n",
       "    </tr>\n",
       "    <tr>\n",
       "      <th>3</th>\n",
       "      <td>Suresh</td>\n",
       "      <td>adult</td>\n",
       "    </tr>\n",
       "  </tbody>\n",
       "</table>\n",
       "</div>"
      ],
      "text/plain": [
       "     name     age\n",
       "0     Ram     kid\n",
       "1   Shyam   adult\n",
       "2  Mukesh  senior\n",
       "3  Suresh   adult"
      ]
     },
     "execution_count": 21,
     "metadata": {},
     "output_type": "execute_result"
    }
   ],
   "source": [
    "x = replace_ages(studs)\n",
    "x"
   ]
  },
  {
   "cell_type": "code",
   "execution_count": 22,
   "id": "70183d14",
   "metadata": {},
   "outputs": [
    {
     "data": {
      "text/html": [
       "<div>\n",
       "<style scoped>\n",
       "    .dataframe tbody tr th:only-of-type {\n",
       "        vertical-align: middle;\n",
       "    }\n",
       "\n",
       "    .dataframe tbody tr th {\n",
       "        vertical-align: top;\n",
       "    }\n",
       "\n",
       "    .dataframe thead th {\n",
       "        text-align: right;\n",
       "    }\n",
       "</style>\n",
       "<table border=\"1\" class=\"dataframe\">\n",
       "  <thead>\n",
       "    <tr style=\"text-align: right;\">\n",
       "      <th></th>\n",
       "      <th>name</th>\n",
       "      <th>age</th>\n",
       "    </tr>\n",
       "  </thead>\n",
       "  <tbody>\n",
       "    <tr>\n",
       "      <th>0</th>\n",
       "      <td>Ram</td>\n",
       "      <td>kid</td>\n",
       "    </tr>\n",
       "    <tr>\n",
       "      <th>1</th>\n",
       "      <td>Shyam</td>\n",
       "      <td>adult</td>\n",
       "    </tr>\n",
       "    <tr>\n",
       "      <th>2</th>\n",
       "      <td>Mukesh</td>\n",
       "      <td>senior</td>\n",
       "    </tr>\n",
       "    <tr>\n",
       "      <th>3</th>\n",
       "      <td>Suresh</td>\n",
       "      <td>adult</td>\n",
       "    </tr>\n",
       "  </tbody>\n",
       "</table>\n",
       "</div>"
      ],
      "text/plain": [
       "     name     age\n",
       "0     Ram     kid\n",
       "1   Shyam   adult\n",
       "2  Mukesh  senior\n",
       "3  Suresh   adult"
      ]
     },
     "execution_count": 22,
     "metadata": {},
     "output_type": "execute_result"
    }
   ],
   "source": [
    "studs"
   ]
  },
  {
   "cell_type": "code",
   "execution_count": null,
   "id": "0de71c57",
   "metadata": {},
   "outputs": [],
   "source": []
  },
  {
   "cell_type": "markdown",
   "id": "69b5efb3",
   "metadata": {},
   "source": [
    "****\n",
    "\n",
    "## Q). Return a new dataframe with the count of `ord_no` for each `salesman_id` and `customer_id` pair."
   ]
  },
  {
   "cell_type": "code",
   "execution_count": 23,
   "id": "b72d3c11",
   "metadata": {},
   "outputs": [
    {
     "data": {
      "text/html": [
       "<div>\n",
       "<style scoped>\n",
       "    .dataframe tbody tr th:only-of-type {\n",
       "        vertical-align: middle;\n",
       "    }\n",
       "\n",
       "    .dataframe tbody tr th {\n",
       "        vertical-align: top;\n",
       "    }\n",
       "\n",
       "    .dataframe thead th {\n",
       "        text-align: right;\n",
       "    }\n",
       "</style>\n",
       "<table border=\"1\" class=\"dataframe\">\n",
       "  <thead>\n",
       "    <tr style=\"text-align: right;\">\n",
       "      <th></th>\n",
       "      <th>ord_no</th>\n",
       "      <th>purch_amt</th>\n",
       "      <th>ord_date</th>\n",
       "      <th>customer_id</th>\n",
       "      <th>salesman_id</th>\n",
       "    </tr>\n",
       "  </thead>\n",
       "  <tbody>\n",
       "    <tr>\n",
       "      <th>0</th>\n",
       "      <td>70001</td>\n",
       "      <td>150.50</td>\n",
       "      <td>2012-10-05</td>\n",
       "      <td>3005</td>\n",
       "      <td>5002</td>\n",
       "    </tr>\n",
       "    <tr>\n",
       "      <th>1</th>\n",
       "      <td>70009</td>\n",
       "      <td>270.65</td>\n",
       "      <td>2012-09-10</td>\n",
       "      <td>3001</td>\n",
       "      <td>5005</td>\n",
       "    </tr>\n",
       "    <tr>\n",
       "      <th>2</th>\n",
       "      <td>70002</td>\n",
       "      <td>65.26</td>\n",
       "      <td>2012-10-05</td>\n",
       "      <td>3002</td>\n",
       "      <td>5001</td>\n",
       "    </tr>\n",
       "    <tr>\n",
       "      <th>3</th>\n",
       "      <td>70004</td>\n",
       "      <td>110.50</td>\n",
       "      <td>2012-08-17</td>\n",
       "      <td>3009</td>\n",
       "      <td>5003</td>\n",
       "    </tr>\n",
       "    <tr>\n",
       "      <th>4</th>\n",
       "      <td>70007</td>\n",
       "      <td>948.50</td>\n",
       "      <td>2012-09-10</td>\n",
       "      <td>3005</td>\n",
       "      <td>5002</td>\n",
       "    </tr>\n",
       "    <tr>\n",
       "      <th>5</th>\n",
       "      <td>70005</td>\n",
       "      <td>2400.60</td>\n",
       "      <td>2012-07-27</td>\n",
       "      <td>3007</td>\n",
       "      <td>5001</td>\n",
       "    </tr>\n",
       "    <tr>\n",
       "      <th>6</th>\n",
       "      <td>70008</td>\n",
       "      <td>5760.00</td>\n",
       "      <td>2012-09-10</td>\n",
       "      <td>3002</td>\n",
       "      <td>5001</td>\n",
       "    </tr>\n",
       "    <tr>\n",
       "      <th>7</th>\n",
       "      <td>70010</td>\n",
       "      <td>1983.43</td>\n",
       "      <td>2012-10-10</td>\n",
       "      <td>3004</td>\n",
       "      <td>5006</td>\n",
       "    </tr>\n",
       "    <tr>\n",
       "      <th>8</th>\n",
       "      <td>70003</td>\n",
       "      <td>2480.40</td>\n",
       "      <td>2012-10-10</td>\n",
       "      <td>3009</td>\n",
       "      <td>5003</td>\n",
       "    </tr>\n",
       "    <tr>\n",
       "      <th>9</th>\n",
       "      <td>70012</td>\n",
       "      <td>250.45</td>\n",
       "      <td>2012-06-27</td>\n",
       "      <td>3008</td>\n",
       "      <td>5002</td>\n",
       "    </tr>\n",
       "    <tr>\n",
       "      <th>10</th>\n",
       "      <td>70011</td>\n",
       "      <td>75.29</td>\n",
       "      <td>2012-08-17</td>\n",
       "      <td>3003</td>\n",
       "      <td>5007</td>\n",
       "    </tr>\n",
       "    <tr>\n",
       "      <th>11</th>\n",
       "      <td>70013</td>\n",
       "      <td>3045.60</td>\n",
       "      <td>2012-04-25</td>\n",
       "      <td>3002</td>\n",
       "      <td>5001</td>\n",
       "    </tr>\n",
       "  </tbody>\n",
       "</table>\n",
       "</div>"
      ],
      "text/plain": [
       "    ord_no  purch_amt    ord_date  customer_id  salesman_id\n",
       "0    70001     150.50  2012-10-05         3005         5002\n",
       "1    70009     270.65  2012-09-10         3001         5005\n",
       "2    70002      65.26  2012-10-05         3002         5001\n",
       "3    70004     110.50  2012-08-17         3009         5003\n",
       "4    70007     948.50  2012-09-10         3005         5002\n",
       "5    70005    2400.60  2012-07-27         3007         5001\n",
       "6    70008    5760.00  2012-09-10         3002         5001\n",
       "7    70010    1983.43  2012-10-10         3004         5006\n",
       "8    70003    2480.40  2012-10-10         3009         5003\n",
       "9    70012     250.45  2012-06-27         3008         5002\n",
       "10   70011      75.29  2012-08-17         3003         5007\n",
       "11   70013    3045.60  2012-04-25         3002         5001"
      ]
     },
     "execution_count": 23,
     "metadata": {},
     "output_type": "execute_result"
    }
   ],
   "source": [
    "orders = pd.DataFrame({'ord_no'     :[70001,70009,70002,70004,70007,70005,70008,70010,70003,70012,70011,70013],\n",
    "                       'purch_amt'  : [150.5,270.65,65.26,110.5,948.5,2400.6,5760,1983.43,2480.4,250.45, 75.29,3045.6],\n",
    "                       'ord_date'   : ['2012-10-05','2012-09-10','2012-10-05','2012-08-17','2012-09-10','2012-07-27',\n",
    "                                       '2012-09-10','2012-10-10','2012-10-10','2012-06-27','2012-08-17','2012-04-25'],\n",
    "                       'customer_id': [3005,3001,3002,3009,3005,3007,3002,3004,3009,3008,3003,3002],\n",
    "                       'salesman_id': [5002,5005,5001,5003,5002,5001,5001,5006,5003,5002,5007,5001]\n",
    "                      })\n",
    "\n",
    "orders"
   ]
  },
  {
   "cell_type": "code",
   "execution_count": 24,
   "id": "87cb3eaf",
   "metadata": {},
   "outputs": [
    {
     "data": {
      "text/html": [
       "<div>\n",
       "<style scoped>\n",
       "    .dataframe tbody tr th:only-of-type {\n",
       "        vertical-align: middle;\n",
       "    }\n",
       "\n",
       "    .dataframe tbody tr th {\n",
       "        vertical-align: top;\n",
       "    }\n",
       "\n",
       "    .dataframe thead th {\n",
       "        text-align: right;\n",
       "    }\n",
       "</style>\n",
       "<table border=\"1\" class=\"dataframe\">\n",
       "  <thead>\n",
       "    <tr style=\"text-align: right;\">\n",
       "      <th></th>\n",
       "      <th>salesman_id</th>\n",
       "      <th>customer_id</th>\n",
       "      <th>ord_no</th>\n",
       "    </tr>\n",
       "  </thead>\n",
       "  <tbody>\n",
       "    <tr>\n",
       "      <th>0</th>\n",
       "      <td>5001</td>\n",
       "      <td>3002</td>\n",
       "      <td>3</td>\n",
       "    </tr>\n",
       "    <tr>\n",
       "      <th>1</th>\n",
       "      <td>5001</td>\n",
       "      <td>3007</td>\n",
       "      <td>1</td>\n",
       "    </tr>\n",
       "    <tr>\n",
       "      <th>2</th>\n",
       "      <td>5002</td>\n",
       "      <td>3005</td>\n",
       "      <td>2</td>\n",
       "    </tr>\n",
       "    <tr>\n",
       "      <th>3</th>\n",
       "      <td>5002</td>\n",
       "      <td>3008</td>\n",
       "      <td>1</td>\n",
       "    </tr>\n",
       "    <tr>\n",
       "      <th>4</th>\n",
       "      <td>5003</td>\n",
       "      <td>3009</td>\n",
       "      <td>2</td>\n",
       "    </tr>\n",
       "    <tr>\n",
       "      <th>5</th>\n",
       "      <td>5005</td>\n",
       "      <td>3001</td>\n",
       "      <td>1</td>\n",
       "    </tr>\n",
       "    <tr>\n",
       "      <th>6</th>\n",
       "      <td>5006</td>\n",
       "      <td>3004</td>\n",
       "      <td>1</td>\n",
       "    </tr>\n",
       "    <tr>\n",
       "      <th>7</th>\n",
       "      <td>5007</td>\n",
       "      <td>3003</td>\n",
       "      <td>1</td>\n",
       "    </tr>\n",
       "  </tbody>\n",
       "</table>\n",
       "</div>"
      ],
      "text/plain": [
       "   salesman_id  customer_id  ord_no\n",
       "0         5001         3002       3\n",
       "1         5001         3007       1\n",
       "2         5002         3005       2\n",
       "3         5002         3008       1\n",
       "4         5003         3009       2\n",
       "5         5005         3001       1\n",
       "6         5006         3004       1\n",
       "7         5007         3003       1"
      ]
     },
     "execution_count": 24,
     "metadata": {},
     "output_type": "execute_result"
    }
   ],
   "source": [
    "orders.groupby([\"salesman_id\",\"customer_id\"])[\"ord_no\"].count().reset_index()"
   ]
  },
  {
   "cell_type": "code",
   "execution_count": null,
   "id": "39604c1f",
   "metadata": {},
   "outputs": [],
   "source": []
  },
  {
   "cell_type": "markdown",
   "id": "ae29cbb2",
   "metadata": {},
   "source": [
    "## Q). Given a data frame `df`, try to form a code where you'd delete all such columns that have only 1 unique value :"
   ]
  },
  {
   "cell_type": "code",
   "execution_count": null,
   "id": "d19da793",
   "metadata": {},
   "outputs": [],
   "source": [
    "for col_name in df.columns:\n",
    "    if df[col_name].nunique() == 1:\n",
    "        df.drop(col_name, axis=1, inplace=True)\n",
    "\n",
    "\n",
    "## axis = 1, because this is gonna be horizontal operation."
   ]
  },
  {
   "cell_type": "markdown",
   "id": "764a01d2",
   "metadata": {},
   "source": [
    "## Q). Given the dataframe `df` as input, do the following steps for preprocessing:\n",
    "\n",
    "1. Remove the row if all the columns have missing values.\n",
    "\n",
    "2. Replace the missing values of \"Roll_ID\" column with 0 and \"Name\" column with \"Anonymous\"\n",
    "\n",
    "3. Replace the missing values in \"Marks\" column with the median value of the column\n",
    "\n",
    "4. Change the numerical columns (Roll_ID and Marks) to int datatype in the output"
   ]
  },
  {
   "cell_type": "code",
   "execution_count": 78,
   "id": "27792c52",
   "metadata": {},
   "outputs": [
    {
     "data": {
      "text/html": [
       "<div>\n",
       "<style scoped>\n",
       "    .dataframe tbody tr th:only-of-type {\n",
       "        vertical-align: middle;\n",
       "    }\n",
       "\n",
       "    .dataframe tbody tr th {\n",
       "        vertical-align: top;\n",
       "    }\n",
       "\n",
       "    .dataframe thead th {\n",
       "        text-align: right;\n",
       "    }\n",
       "</style>\n",
       "<table border=\"1\" class=\"dataframe\">\n",
       "  <thead>\n",
       "    <tr style=\"text-align: right;\">\n",
       "      <th></th>\n",
       "      <th>Roll_ID</th>\n",
       "      <th>Name</th>\n",
       "      <th>Marks</th>\n",
       "    </tr>\n",
       "  </thead>\n",
       "  <tbody>\n",
       "    <tr>\n",
       "      <th>0</th>\n",
       "      <td>412.0</td>\n",
       "      <td>Thor</td>\n",
       "      <td>NaN</td>\n",
       "    </tr>\n",
       "    <tr>\n",
       "      <th>1</th>\n",
       "      <td>NaN</td>\n",
       "      <td>Peter</td>\n",
       "      <td>32.0</td>\n",
       "    </tr>\n",
       "    <tr>\n",
       "      <th>2</th>\n",
       "      <td>456.0</td>\n",
       "      <td>Banner</td>\n",
       "      <td>25.0</td>\n",
       "    </tr>\n",
       "    <tr>\n",
       "      <th>3</th>\n",
       "      <td>NaN</td>\n",
       "      <td>NaN</td>\n",
       "      <td>NaN</td>\n",
       "    </tr>\n",
       "    <tr>\n",
       "      <th>4</th>\n",
       "      <td>434.0</td>\n",
       "      <td>Nick</td>\n",
       "      <td>35.0</td>\n",
       "    </tr>\n",
       "    <tr>\n",
       "      <th>5</th>\n",
       "      <td>429.0</td>\n",
       "      <td>Hill</td>\n",
       "      <td>28.0</td>\n",
       "    </tr>\n",
       "    <tr>\n",
       "      <th>6</th>\n",
       "      <td>418.0</td>\n",
       "      <td>NaN</td>\n",
       "      <td>38.0</td>\n",
       "    </tr>\n",
       "  </tbody>\n",
       "</table>\n",
       "</div>"
      ],
      "text/plain": [
       "   Roll_ID    Name  Marks\n",
       "0    412.0    Thor    NaN\n",
       "1      NaN   Peter   32.0\n",
       "2    456.0  Banner   25.0\n",
       "3      NaN     NaN    NaN\n",
       "4    434.0    Nick   35.0\n",
       "5    429.0    Hill   28.0\n",
       "6    418.0     NaN   38.0"
      ]
     },
     "execution_count": 78,
     "metadata": {},
     "output_type": "execute_result"
    }
   ],
   "source": [
    "roll_id = [412, np.NaN, 456, np.NaN, 434, 429, 418]\n",
    "name = [\"Thor\", \"Peter\",\"Banner\", np.NaN, \"Nick\", \"Hill\", np.NaN]\n",
    "marks = [np.nan, 32, 25, np.NaN, 35, 28, 38]\n",
    "\n",
    "df = pd.DataFrame({'Roll_ID':roll_id,\n",
    "                   'Name':name,\n",
    "                   'Marks':marks\n",
    "                  })\n",
    "\n",
    "df"
   ]
  },
  {
   "cell_type": "code",
   "execution_count": 79,
   "id": "1149b540",
   "metadata": {},
   "outputs": [
    {
     "data": {
      "text/html": [
       "<div>\n",
       "<style scoped>\n",
       "    .dataframe tbody tr th:only-of-type {\n",
       "        vertical-align: middle;\n",
       "    }\n",
       "\n",
       "    .dataframe tbody tr th {\n",
       "        vertical-align: top;\n",
       "    }\n",
       "\n",
       "    .dataframe thead th {\n",
       "        text-align: right;\n",
       "    }\n",
       "</style>\n",
       "<table border=\"1\" class=\"dataframe\">\n",
       "  <thead>\n",
       "    <tr style=\"text-align: right;\">\n",
       "      <th></th>\n",
       "      <th>Roll_ID</th>\n",
       "      <th>Name</th>\n",
       "      <th>Marks</th>\n",
       "    </tr>\n",
       "  </thead>\n",
       "  <tbody>\n",
       "    <tr>\n",
       "      <th>0</th>\n",
       "      <td>412</td>\n",
       "      <td>Thor</td>\n",
       "      <td>32</td>\n",
       "    </tr>\n",
       "    <tr>\n",
       "      <th>1</th>\n",
       "      <td>0</td>\n",
       "      <td>Peter</td>\n",
       "      <td>32</td>\n",
       "    </tr>\n",
       "    <tr>\n",
       "      <th>2</th>\n",
       "      <td>456</td>\n",
       "      <td>Banner</td>\n",
       "      <td>25</td>\n",
       "    </tr>\n",
       "    <tr>\n",
       "      <th>4</th>\n",
       "      <td>434</td>\n",
       "      <td>Nick</td>\n",
       "      <td>35</td>\n",
       "    </tr>\n",
       "    <tr>\n",
       "      <th>5</th>\n",
       "      <td>429</td>\n",
       "      <td>Hill</td>\n",
       "      <td>28</td>\n",
       "    </tr>\n",
       "    <tr>\n",
       "      <th>6</th>\n",
       "      <td>418</td>\n",
       "      <td>Anonymous</td>\n",
       "      <td>38</td>\n",
       "    </tr>\n",
       "  </tbody>\n",
       "</table>\n",
       "</div>"
      ],
      "text/plain": [
       "   Roll_ID       Name  Marks\n",
       "0      412       Thor     32\n",
       "1        0      Peter     32\n",
       "2      456     Banner     25\n",
       "4      434       Nick     35\n",
       "5      429       Hill     28\n",
       "6      418  Anonymous     38"
      ]
     },
     "execution_count": 79,
     "metadata": {},
     "output_type": "execute_result"
    }
   ],
   "source": [
    "def preprocess(df):\n",
    "    \"\"\"Takes df as input, do the preprocessing as asked. Return the preprocessed dataframe\"\"\"\n",
    "    \n",
    "    # Drop the rows with all null values\n",
    "    df.dropna(how='all', inplace=True)\n",
    "\n",
    "    # Replace the missing values of \"Roll_ID\" column with 0 and \"Name\" column with \"Anonymous\"\n",
    "    df[\"Roll_ID\"] = df[\"Roll_ID\"].fillna(\"0\")\n",
    "    df[\"Name\"]    = df[\"Name\"].fillna(\"Anonymous\")\n",
    "    df[\"Marks\"] = df[\"Marks\"].astype('float')\n",
    "  \n",
    "    # Replace the missing values in \"Marks\" column with the median value of the column\n",
    "    df[\"Marks\"] = df[\"Marks\"].fillna(df[\"Marks\"].median())\n",
    "  \n",
    "    # Change the numerical columns (Roll_ID and Marks) to int datatype in the output\n",
    "    df[\"Roll_ID\"] = df[\"Roll_ID\"].astype('int')\n",
    "    df[\"Marks\"] = df[\"Marks\"].astype('int')\n",
    "\n",
    "    return df\n",
    "\n",
    "    \n",
    "preprocess(df)"
   ]
  },
  {
   "cell_type": "code",
   "execution_count": null,
   "id": "c90f008f",
   "metadata": {},
   "outputs": [],
   "source": []
  },
  {
   "cell_type": "markdown",
   "id": "c3468efd",
   "metadata": {},
   "source": [
    "## Q). A dataset about sales of a certain electronics sale shop is given.\n",
    "\n",
    "### a.) Write a Pandas program to create a Pivot table and find -> units sold for each item, per region or region-wise."
   ]
  },
  {
   "cell_type": "code",
   "execution_count": 8,
   "id": "ad17cd7e",
   "metadata": {},
   "outputs": [
    {
     "data": {
      "text/html": [
       "<div>\n",
       "<style scoped>\n",
       "    .dataframe tbody tr th:only-of-type {\n",
       "        vertical-align: middle;\n",
       "    }\n",
       "\n",
       "    .dataframe tbody tr th {\n",
       "        vertical-align: top;\n",
       "    }\n",
       "\n",
       "    .dataframe thead th {\n",
       "        text-align: right;\n",
       "    }\n",
       "</style>\n",
       "<table border=\"1\" class=\"dataframe\">\n",
       "  <thead>\n",
       "    <tr style=\"text-align: right;\">\n",
       "      <th></th>\n",
       "      <th>Region</th>\n",
       "      <th>Manager</th>\n",
       "      <th>SalesMan</th>\n",
       "      <th>Item</th>\n",
       "      <th>Units</th>\n",
       "      <th>Unit_price</th>\n",
       "      <th>Sale_amt</th>\n",
       "    </tr>\n",
       "  </thead>\n",
       "  <tbody>\n",
       "    <tr>\n",
       "      <th>0</th>\n",
       "      <td>East</td>\n",
       "      <td>Martha</td>\n",
       "      <td>Alexander</td>\n",
       "      <td>Television</td>\n",
       "      <td>95.0</td>\n",
       "      <td>1198.0</td>\n",
       "      <td>113810.0</td>\n",
       "    </tr>\n",
       "    <tr>\n",
       "      <th>1</th>\n",
       "      <td>Central</td>\n",
       "      <td>Hermann</td>\n",
       "      <td>Shelli</td>\n",
       "      <td>Home Theater</td>\n",
       "      <td>50.0</td>\n",
       "      <td>500.0</td>\n",
       "      <td>25000.0</td>\n",
       "    </tr>\n",
       "    <tr>\n",
       "      <th>2</th>\n",
       "      <td>Central</td>\n",
       "      <td>Hermann</td>\n",
       "      <td>Luis</td>\n",
       "      <td>Television</td>\n",
       "      <td>36.0</td>\n",
       "      <td>1198.0</td>\n",
       "      <td>43128.0</td>\n",
       "    </tr>\n",
       "    <tr>\n",
       "      <th>3</th>\n",
       "      <td>Central</td>\n",
       "      <td>Timothy</td>\n",
       "      <td>David</td>\n",
       "      <td>Cell Phone</td>\n",
       "      <td>27.0</td>\n",
       "      <td>225.0</td>\n",
       "      <td>6075.0</td>\n",
       "    </tr>\n",
       "    <tr>\n",
       "      <th>4</th>\n",
       "      <td>West</td>\n",
       "      <td>Timothy</td>\n",
       "      <td>Stephen</td>\n",
       "      <td>Television</td>\n",
       "      <td>56.0</td>\n",
       "      <td>1198.0</td>\n",
       "      <td>67088.0</td>\n",
       "    </tr>\n",
       "  </tbody>\n",
       "</table>\n",
       "</div>"
      ],
      "text/plain": [
       "    Region  Manager   SalesMan          Item  Units  Unit_price  Sale_amt\n",
       "0     East   Martha  Alexander    Television   95.0      1198.0  113810.0\n",
       "1  Central  Hermann     Shelli  Home Theater   50.0       500.0   25000.0\n",
       "2  Central  Hermann       Luis    Television   36.0      1198.0   43128.0\n",
       "3  Central  Timothy      David    Cell Phone   27.0       225.0    6075.0\n",
       "4     West  Timothy    Stephen    Television   56.0      1198.0   67088.0"
      ]
     },
     "execution_count": 8,
     "metadata": {},
     "output_type": "execute_result"
    }
   ],
   "source": [
    "df = pd.DataFrame({'Region': {0: 'East', 1: 'Central', 2: 'Central', 3: 'Central', 4: 'West'},\n",
    "                   'Manager': {0: 'Martha', 1: 'Hermann', 2: 'Hermann', 3: 'Timothy', 4: 'Timothy'},\n",
    "                   'SalesMan': {0: 'Alexander', 1: 'Shelli', 2: 'Luis', 3: 'David', 4: 'Stephen'},\n",
    "                   'Item': {0: 'Television', 1: 'Home Theater', 2: 'Television', 3: 'Cell Phone', 4: 'Television'},\n",
    "                   'Units': {0: 95.0, 1: 50.0, 2: 36.0, 3: 27.0, 4: 56.0},\n",
    "                   'Unit_price': {0: 1198.0, 1: 500.0, 2: 1198.0, 3: 225.0, 4: 1198.0},\n",
    "                   'Sale_amt': {0: 113810.0, 1: 25000.0, 2: 43128.0, 3: 6075.0, 4: 67088.0}\n",
    "                  })\n",
    "\n",
    "df"
   ]
  },
  {
   "cell_type": "code",
   "execution_count": 9,
   "id": "4ff7b718",
   "metadata": {},
   "outputs": [
    {
     "data": {
      "text/html": [
       "<div>\n",
       "<style scoped>\n",
       "    .dataframe tbody tr th:only-of-type {\n",
       "        vertical-align: middle;\n",
       "    }\n",
       "\n",
       "    .dataframe tbody tr th {\n",
       "        vertical-align: top;\n",
       "    }\n",
       "\n",
       "    .dataframe thead th {\n",
       "        text-align: right;\n",
       "    }\n",
       "</style>\n",
       "<table border=\"1\" class=\"dataframe\">\n",
       "  <thead>\n",
       "    <tr style=\"text-align: right;\">\n",
       "      <th></th>\n",
       "      <th></th>\n",
       "      <th>Units</th>\n",
       "    </tr>\n",
       "    <tr>\n",
       "      <th>Region</th>\n",
       "      <th>Item</th>\n",
       "      <th></th>\n",
       "    </tr>\n",
       "  </thead>\n",
       "  <tbody>\n",
       "    <tr>\n",
       "      <th rowspan=\"3\" valign=\"top\">Central</th>\n",
       "      <th>Cell Phone</th>\n",
       "      <td>27.0</td>\n",
       "    </tr>\n",
       "    <tr>\n",
       "      <th>Home Theater</th>\n",
       "      <td>50.0</td>\n",
       "    </tr>\n",
       "    <tr>\n",
       "      <th>Television</th>\n",
       "      <td>36.0</td>\n",
       "    </tr>\n",
       "    <tr>\n",
       "      <th>East</th>\n",
       "      <th>Television</th>\n",
       "      <td>95.0</td>\n",
       "    </tr>\n",
       "    <tr>\n",
       "      <th>West</th>\n",
       "      <th>Television</th>\n",
       "      <td>56.0</td>\n",
       "    </tr>\n",
       "  </tbody>\n",
       "</table>\n",
       "</div>"
      ],
      "text/plain": [
       "                      Units\n",
       "Region  Item               \n",
       "Central Cell Phone     27.0\n",
       "        Home Theater   50.0\n",
       "        Television     36.0\n",
       "East    Television     95.0\n",
       "West    Television     56.0"
      ]
     },
     "execution_count": 9,
     "metadata": {},
     "output_type": "execute_result"
    }
   ],
   "source": [
    "df.pivot_table(index=[\"Region\", \"Item\"],\n",
    "               values=\"Units\"\n",
    "              )"
   ]
  },
  {
   "cell_type": "markdown",
   "id": "fedf93a8",
   "metadata": {},
   "source": [
    "### b). Show only first 5 records (from `df`) for columns - `Region`, `SalesMan`, and `Sale_amt`."
   ]
  },
  {
   "cell_type": "code",
   "execution_count": 15,
   "id": "fcad82b9",
   "metadata": {},
   "outputs": [
    {
     "data": {
      "text/html": [
       "<div>\n",
       "<style scoped>\n",
       "    .dataframe tbody tr th:only-of-type {\n",
       "        vertical-align: middle;\n",
       "    }\n",
       "\n",
       "    .dataframe tbody tr th {\n",
       "        vertical-align: top;\n",
       "    }\n",
       "\n",
       "    .dataframe thead th {\n",
       "        text-align: right;\n",
       "    }\n",
       "</style>\n",
       "<table border=\"1\" class=\"dataframe\">\n",
       "  <thead>\n",
       "    <tr style=\"text-align: right;\">\n",
       "      <th></th>\n",
       "      <th>Region</th>\n",
       "      <th>SalesMan</th>\n",
       "      <th>Sale_amt</th>\n",
       "    </tr>\n",
       "  </thead>\n",
       "  <tbody>\n",
       "    <tr>\n",
       "      <th>0</th>\n",
       "      <td>East</td>\n",
       "      <td>Alexander</td>\n",
       "      <td>113810.0</td>\n",
       "    </tr>\n",
       "    <tr>\n",
       "      <th>1</th>\n",
       "      <td>Central</td>\n",
       "      <td>Shelli</td>\n",
       "      <td>25000.0</td>\n",
       "    </tr>\n",
       "    <tr>\n",
       "      <th>2</th>\n",
       "      <td>Central</td>\n",
       "      <td>Luis</td>\n",
       "      <td>43128.0</td>\n",
       "    </tr>\n",
       "    <tr>\n",
       "      <th>3</th>\n",
       "      <td>Central</td>\n",
       "      <td>David</td>\n",
       "      <td>6075.0</td>\n",
       "    </tr>\n",
       "    <tr>\n",
       "      <th>4</th>\n",
       "      <td>West</td>\n",
       "      <td>Stephen</td>\n",
       "      <td>67088.0</td>\n",
       "    </tr>\n",
       "  </tbody>\n",
       "</table>\n",
       "</div>"
      ],
      "text/plain": [
       "    Region   SalesMan  Sale_amt\n",
       "0     East  Alexander  113810.0\n",
       "1  Central     Shelli   25000.0\n",
       "2  Central       Luis   43128.0\n",
       "3  Central      David    6075.0\n",
       "4     West    Stephen   67088.0"
      ]
     },
     "execution_count": 15,
     "metadata": {},
     "output_type": "execute_result"
    }
   ],
   "source": [
    "df.iloc[:5, [0, 2, 6]]"
   ]
  },
  {
   "cell_type": "markdown",
   "id": "d4222123",
   "metadata": {},
   "source": [
    "### c). Show only first 5 records (from `df`) taking last 3 columns only."
   ]
  },
  {
   "cell_type": "code",
   "execution_count": 21,
   "id": "df48b5bf",
   "metadata": {},
   "outputs": [
    {
     "data": {
      "text/html": [
       "<div>\n",
       "<style scoped>\n",
       "    .dataframe tbody tr th:only-of-type {\n",
       "        vertical-align: middle;\n",
       "    }\n",
       "\n",
       "    .dataframe tbody tr th {\n",
       "        vertical-align: top;\n",
       "    }\n",
       "\n",
       "    .dataframe thead th {\n",
       "        text-align: right;\n",
       "    }\n",
       "</style>\n",
       "<table border=\"1\" class=\"dataframe\">\n",
       "  <thead>\n",
       "    <tr style=\"text-align: right;\">\n",
       "      <th></th>\n",
       "      <th>Units</th>\n",
       "      <th>Unit_price</th>\n",
       "      <th>Sale_amt</th>\n",
       "    </tr>\n",
       "  </thead>\n",
       "  <tbody>\n",
       "    <tr>\n",
       "      <th>0</th>\n",
       "      <td>95.0</td>\n",
       "      <td>1198.0</td>\n",
       "      <td>113810.0</td>\n",
       "    </tr>\n",
       "    <tr>\n",
       "      <th>1</th>\n",
       "      <td>50.0</td>\n",
       "      <td>500.0</td>\n",
       "      <td>25000.0</td>\n",
       "    </tr>\n",
       "    <tr>\n",
       "      <th>2</th>\n",
       "      <td>36.0</td>\n",
       "      <td>1198.0</td>\n",
       "      <td>43128.0</td>\n",
       "    </tr>\n",
       "    <tr>\n",
       "      <th>3</th>\n",
       "      <td>27.0</td>\n",
       "      <td>225.0</td>\n",
       "      <td>6075.0</td>\n",
       "    </tr>\n",
       "    <tr>\n",
       "      <th>4</th>\n",
       "      <td>56.0</td>\n",
       "      <td>1198.0</td>\n",
       "      <td>67088.0</td>\n",
       "    </tr>\n",
       "  </tbody>\n",
       "</table>\n",
       "</div>"
      ],
      "text/plain": [
       "   Units  Unit_price  Sale_amt\n",
       "0   95.0      1198.0  113810.0\n",
       "1   50.0       500.0   25000.0\n",
       "2   36.0      1198.0   43128.0\n",
       "3   27.0       225.0    6075.0\n",
       "4   56.0      1198.0   67088.0"
      ]
     },
     "execution_count": 21,
     "metadata": {},
     "output_type": "execute_result"
    }
   ],
   "source": [
    "df.iloc[:5, -3:]"
   ]
  },
  {
   "cell_type": "markdown",
   "id": "5b8f5427",
   "metadata": {},
   "source": [
    "### d). Correct code to print every row of `SalesMan` column :\n",
    "\n",
    "- `df[\"SalesMan\"]`  ✅\n",
    "\n",
    "\n",
    "- `df.iloc[:,'disp']` ❌\n",
    "\n",
    "\n",
    "- `df.loc[:, \"SalesMan\"]` ✅"
   ]
  },
  {
   "cell_type": "code",
   "execution_count": null,
   "id": "771a9c43",
   "metadata": {},
   "outputs": [],
   "source": []
  },
  {
   "cell_type": "markdown",
   "id": "f86e7c78",
   "metadata": {},
   "source": [
    "****\n",
    "\n",
    "## Q). How to pivot below mentioned dataframe such that each customer would have a value that is the total quantity of a particular type of accessories he holds ?"
   ]
  },
  {
   "cell_type": "code",
   "execution_count": 32,
   "id": "1fcaf3f3",
   "metadata": {},
   "outputs": [
    {
     "data": {
      "text/html": [
       "<div>\n",
       "<style scoped>\n",
       "    .dataframe tbody tr th:only-of-type {\n",
       "        vertical-align: middle;\n",
       "    }\n",
       "\n",
       "    .dataframe tbody tr th {\n",
       "        vertical-align: top;\n",
       "    }\n",
       "\n",
       "    .dataframe thead th {\n",
       "        text-align: right;\n",
       "    }\n",
       "</style>\n",
       "<table border=\"1\" class=\"dataframe\">\n",
       "  <thead>\n",
       "    <tr style=\"text-align: right;\">\n",
       "      <th></th>\n",
       "      <th>Accessories</th>\n",
       "      <th>customer</th>\n",
       "      <th>quantity</th>\n",
       "    </tr>\n",
       "  </thead>\n",
       "  <tbody>\n",
       "    <tr>\n",
       "      <th>0</th>\n",
       "      <td>Laptop</td>\n",
       "      <td>Andrew</td>\n",
       "      <td>1</td>\n",
       "    </tr>\n",
       "    <tr>\n",
       "      <th>1</th>\n",
       "      <td>Laptop</td>\n",
       "      <td>Andrew</td>\n",
       "      <td>2</td>\n",
       "    </tr>\n",
       "    <tr>\n",
       "      <th>2</th>\n",
       "      <td>Ipad</td>\n",
       "      <td>Tom</td>\n",
       "      <td>2</td>\n",
       "    </tr>\n",
       "    <tr>\n",
       "      <th>3</th>\n",
       "      <td>Ipad</td>\n",
       "      <td>Andrew</td>\n",
       "      <td>3</td>\n",
       "    </tr>\n",
       "    <tr>\n",
       "      <th>4</th>\n",
       "      <td>Tablet</td>\n",
       "      <td>Tobey</td>\n",
       "      <td>1</td>\n",
       "    </tr>\n",
       "    <tr>\n",
       "      <th>5</th>\n",
       "      <td>Laptop</td>\n",
       "      <td>Peter</td>\n",
       "      <td>2</td>\n",
       "    </tr>\n",
       "  </tbody>\n",
       "</table>\n",
       "</div>"
      ],
      "text/plain": [
       "  Accessories customer  quantity\n",
       "0      Laptop   Andrew         1\n",
       "1      Laptop   Andrew         2\n",
       "2        Ipad      Tom         2\n",
       "3        Ipad   Andrew         3\n",
       "4      Tablet    Tobey         1\n",
       "5      Laptop    Peter         2"
      ]
     },
     "execution_count": 32,
     "metadata": {},
     "output_type": "execute_result"
    }
   ],
   "source": [
    "df = pd.DataFrame({\n",
    "  \"Accessories\": [\"Laptop\", \"Laptop\", \"Ipad\", \"Ipad\", \"Tablet\", \"Laptop\"],\n",
    "  \"customer\": [\"Andrew\", \"Andrew\", \"Tom\", \"Andrew\", \"Tobey\", \"Peter\"],\n",
    "  \"quantity\": [1, 2, 2, 3, 1, 2],\n",
    "})\n",
    "\n",
    "df"
   ]
  },
  {
   "cell_type": "code",
   "execution_count": 33,
   "id": "cf49e494",
   "metadata": {},
   "outputs": [
    {
     "data": {
      "text/plain": [
       "Accessories  customer\n",
       "Laptop       Andrew      1\n",
       "             Andrew      2\n",
       "Ipad         Tom         2\n",
       "             Andrew      3\n",
       "Tablet       Tobey       1\n",
       "Laptop       Peter       2\n",
       "Name: quantity, dtype: int64"
      ]
     },
     "execution_count": 33,
     "metadata": {},
     "output_type": "execute_result"
    }
   ],
   "source": [
    "df.set_index([\"Accessories\", \"customer\"])[\"quantity\"]            ## ⛔ - this mechanism is wrong. Yields incorrect output"
   ]
  },
  {
   "cell_type": "code",
   "execution_count": 34,
   "id": "628d184a",
   "metadata": {},
   "outputs": [
    {
     "data": {
      "text/plain": [
       "Accessories  customer\n",
       "Ipad         Andrew      3\n",
       "             Tom         2\n",
       "Laptop       Andrew      3\n",
       "             Peter       2\n",
       "Tablet       Tobey       1\n",
       "Name: quantity, dtype: int64"
      ]
     },
     "execution_count": 34,
     "metadata": {},
     "output_type": "execute_result"
    }
   ],
   "source": [
    "df.groupby(['Accessories', 'customer']).quantity.sum()      ## ✅ - this mechanism is right! Correct output."
   ]
  },
  {
   "cell_type": "code",
   "execution_count": null,
   "id": "379aeaff",
   "metadata": {},
   "outputs": [],
   "source": []
  },
  {
   "cell_type": "markdown",
   "id": "f6024efa",
   "metadata": {},
   "source": [
    "*****\n",
    "\n",
    "## Q). Calculate \"Date\", \"Month\", \"Year\", \"Day\" columns."
   ]
  },
  {
   "cell_type": "code",
   "execution_count": 37,
   "id": "5e46c34b",
   "metadata": {},
   "outputs": [],
   "source": [
    "reg_ids = [\"498\", \"721\", \"375\", \"464\", \"813\", \"853\", \"918\", \"422\", \"380\", \"403\", \"445\", \"665\", \"43\", \"281\", \"730\", \"39\", \"63\", \"560\"]\n",
    "\n",
    "reg_dates = [\"2015-12-06\", \"2011-12-27\", \"2015-09-07\", \"2012-12-21\", \"2020-02-13\", \"2015-06-09\", \"2013-03-21\",\n",
    "             \"2012-09-22\", \"2013-06-19\", \"2016-03-05\", \"2017-08-27\", \"2012-06-24\", \"2018-11-20\", \"2018-05-24\",\n",
    "             \"2019-08-17\", \"2018-08-22\", \"2021-02-07\", \"2016-09-01\"]"
   ]
  },
  {
   "cell_type": "code",
   "execution_count": 41,
   "id": "df1abca4",
   "metadata": {},
   "outputs": [
    {
     "data": {
      "text/html": [
       "<div>\n",
       "<style scoped>\n",
       "    .dataframe tbody tr th:only-of-type {\n",
       "        vertical-align: middle;\n",
       "    }\n",
       "\n",
       "    .dataframe tbody tr th {\n",
       "        vertical-align: top;\n",
       "    }\n",
       "\n",
       "    .dataframe thead th {\n",
       "        text-align: right;\n",
       "    }\n",
       "</style>\n",
       "<table border=\"1\" class=\"dataframe\">\n",
       "  <thead>\n",
       "    <tr style=\"text-align: right;\">\n",
       "      <th></th>\n",
       "      <th>RID</th>\n",
       "      <th>RDate</th>\n",
       "    </tr>\n",
       "  </thead>\n",
       "  <tbody>\n",
       "    <tr>\n",
       "      <th>0</th>\n",
       "      <td>498</td>\n",
       "      <td>2015-12-06</td>\n",
       "    </tr>\n",
       "    <tr>\n",
       "      <th>1</th>\n",
       "      <td>721</td>\n",
       "      <td>2011-12-27</td>\n",
       "    </tr>\n",
       "    <tr>\n",
       "      <th>2</th>\n",
       "      <td>375</td>\n",
       "      <td>2015-09-07</td>\n",
       "    </tr>\n",
       "    <tr>\n",
       "      <th>3</th>\n",
       "      <td>464</td>\n",
       "      <td>2012-12-21</td>\n",
       "    </tr>\n",
       "    <tr>\n",
       "      <th>4</th>\n",
       "      <td>813</td>\n",
       "      <td>2020-02-13</td>\n",
       "    </tr>\n",
       "  </tbody>\n",
       "</table>\n",
       "</div>"
      ],
      "text/plain": [
       "   RID       RDate\n",
       "0  498  2015-12-06\n",
       "1  721  2011-12-27\n",
       "2  375  2015-09-07\n",
       "3  464  2012-12-21\n",
       "4  813  2020-02-13"
      ]
     },
     "execution_count": 41,
     "metadata": {},
     "output_type": "execute_result"
    }
   ],
   "source": [
    "reg_df = pd.DataFrame(zip(reg_ids, reg_dates), columns=[\"RID\", \"RDate\"])\n",
    "\n",
    "reg_df.head()"
   ]
  },
  {
   "cell_type": "code",
   "execution_count": 43,
   "id": "306141d9",
   "metadata": {},
   "outputs": [
    {
     "data": {
      "text/html": [
       "<div>\n",
       "<style scoped>\n",
       "    .dataframe tbody tr th:only-of-type {\n",
       "        vertical-align: middle;\n",
       "    }\n",
       "\n",
       "    .dataframe tbody tr th {\n",
       "        vertical-align: top;\n",
       "    }\n",
       "\n",
       "    .dataframe thead th {\n",
       "        text-align: right;\n",
       "    }\n",
       "</style>\n",
       "<table border=\"1\" class=\"dataframe\">\n",
       "  <thead>\n",
       "    <tr style=\"text-align: right;\">\n",
       "      <th></th>\n",
       "      <th>RID</th>\n",
       "      <th>RDate</th>\n",
       "      <th>RMonth</th>\n",
       "      <th>RYear</th>\n",
       "      <th>RDay</th>\n",
       "    </tr>\n",
       "  </thead>\n",
       "  <tbody>\n",
       "    <tr>\n",
       "      <th>0</th>\n",
       "      <td>498</td>\n",
       "      <td>2015-12-06</td>\n",
       "      <td>12</td>\n",
       "      <td>2015</td>\n",
       "      <td>6</td>\n",
       "    </tr>\n",
       "    <tr>\n",
       "      <th>1</th>\n",
       "      <td>721</td>\n",
       "      <td>2011-12-27</td>\n",
       "      <td>12</td>\n",
       "      <td>2011</td>\n",
       "      <td>27</td>\n",
       "    </tr>\n",
       "    <tr>\n",
       "      <th>2</th>\n",
       "      <td>375</td>\n",
       "      <td>2015-09-07</td>\n",
       "      <td>9</td>\n",
       "      <td>2015</td>\n",
       "      <td>7</td>\n",
       "    </tr>\n",
       "    <tr>\n",
       "      <th>3</th>\n",
       "      <td>464</td>\n",
       "      <td>2012-12-21</td>\n",
       "      <td>12</td>\n",
       "      <td>2012</td>\n",
       "      <td>21</td>\n",
       "    </tr>\n",
       "    <tr>\n",
       "      <th>4</th>\n",
       "      <td>813</td>\n",
       "      <td>2020-02-13</td>\n",
       "      <td>2</td>\n",
       "      <td>2020</td>\n",
       "      <td>13</td>\n",
       "    </tr>\n",
       "  </tbody>\n",
       "</table>\n",
       "</div>"
      ],
      "text/plain": [
       "   RID      RDate  RMonth  RYear  RDay\n",
       "0  498 2015-12-06      12   2015     6\n",
       "1  721 2011-12-27      12   2011    27\n",
       "2  375 2015-09-07       9   2015     7\n",
       "3  464 2012-12-21      12   2012    21\n",
       "4  813 2020-02-13       2   2020    13"
      ]
     },
     "execution_count": 43,
     "metadata": {},
     "output_type": "execute_result"
    }
   ],
   "source": [
    "reg_df[\"RDate\"]  = pd.to_datetime(reg_df[\"RDate\"])\n",
    "reg_df[\"RMonth\"] = reg_df[\"RDate\"].dt.month\n",
    "reg_df[\"RYear\"]  = reg_df[\"RDate\"].dt.year\n",
    "reg_df[\"RDay\"]   = reg_df[\"RDate\"].dt.day\n",
    "\n",
    "reg_df.head()"
   ]
  },
  {
   "cell_type": "code",
   "execution_count": null,
   "id": "e6196471",
   "metadata": {},
   "outputs": [],
   "source": []
  },
  {
   "cell_type": "markdown",
   "id": "ab530b02",
   "metadata": {},
   "source": [
    "****\n",
    "\n",
    "## Q). A dataframe containing the details of students of a college with the features `['Person', 'House', 'Age', 'Books', 'Movies']`.\n",
    "\n",
    "#### Restructure the dataframe to a long format, in such a way that the final dataframe would have features `['Person', 'House', 'variable', 'value']` where the `'variable'` will have one of {'Age', 'Books', 'Movies'} and `'value'` has the values corresponding to  these variables.\n",
    "\n",
    "(sort the result on \"Person\" column, to display it clearer fashion.)"
   ]
  },
  {
   "cell_type": "code",
   "execution_count": 2,
   "id": "7880c69c",
   "metadata": {},
   "outputs": [
    {
     "data": {
      "text/html": [
       "<div>\n",
       "<style scoped>\n",
       "    .dataframe tbody tr th:only-of-type {\n",
       "        vertical-align: middle;\n",
       "    }\n",
       "\n",
       "    .dataframe tbody tr th {\n",
       "        vertical-align: top;\n",
       "    }\n",
       "\n",
       "    .dataframe thead th {\n",
       "        text-align: right;\n",
       "    }\n",
       "</style>\n",
       "<table border=\"1\" class=\"dataframe\">\n",
       "  <thead>\n",
       "    <tr style=\"text-align: right;\">\n",
       "      <th></th>\n",
       "      <th>Person</th>\n",
       "      <th>House</th>\n",
       "      <th>Age</th>\n",
       "      <th>Books</th>\n",
       "      <th>Movies</th>\n",
       "    </tr>\n",
       "  </thead>\n",
       "  <tbody>\n",
       "    <tr>\n",
       "      <th>0</th>\n",
       "      <td>Alan</td>\n",
       "      <td>A-34</td>\n",
       "      <td>3</td>\n",
       "      <td>0</td>\n",
       "      <td>0</td>\n",
       "    </tr>\n",
       "    <tr>\n",
       "      <th>1</th>\n",
       "      <td>Berta</td>\n",
       "      <td>A-45</td>\n",
       "      <td>46</td>\n",
       "      <td>30</td>\n",
       "      <td>20</td>\n",
       "    </tr>\n",
       "    <tr>\n",
       "      <th>2</th>\n",
       "      <td>Charlie</td>\n",
       "      <td>Greenwich-37</td>\n",
       "      <td>20</td>\n",
       "      <td>20</td>\n",
       "      <td>80</td>\n",
       "    </tr>\n",
       "    <tr>\n",
       "      <th>3</th>\n",
       "      <td>Danielle</td>\n",
       "      <td>Belador-43</td>\n",
       "      <td>74</td>\n",
       "      <td>40</td>\n",
       "      <td>60</td>\n",
       "    </tr>\n",
       "  </tbody>\n",
       "</table>\n",
       "</div>"
      ],
      "text/plain": [
       "     Person         House  Age  Books  Movies\n",
       "0      Alan          A-34    3      0       0\n",
       "1     Berta          A-45   46     30      20\n",
       "2   Charlie  Greenwich-37   20     20      80\n",
       "3  Danielle    Belador-43   74     40      60"
      ]
     },
     "execution_count": 2,
     "metadata": {},
     "output_type": "execute_result"
    }
   ],
   "source": [
    "students = {'Person': {0: 'Alan', 1: 'Berta', 2: 'Charlie', 3: 'Danielle'},\n",
    "            'House': {0: 'A-34', 1: 'A-45', 2: 'Greenwich-37', 3: 'Belador-43'},\n",
    "            'Age': {0: 3, 1: 46, 2: 20, 3: 74},\n",
    "            'Books': {0: 0, 1: 30, 2: 20, 3: 40},\n",
    "            'Movies': {0: 0, 1: 20, 2: 80, 3: 60}\n",
    "           }\n",
    "\n",
    "students = pd.DataFrame(students)\n",
    "\n",
    "students"
   ]
  },
  {
   "cell_type": "code",
   "execution_count": 4,
   "id": "d8b458dc",
   "metadata": {},
   "outputs": [
    {
     "data": {
      "text/html": [
       "<div>\n",
       "<style scoped>\n",
       "    .dataframe tbody tr th:only-of-type {\n",
       "        vertical-align: middle;\n",
       "    }\n",
       "\n",
       "    .dataframe tbody tr th {\n",
       "        vertical-align: top;\n",
       "    }\n",
       "\n",
       "    .dataframe thead th {\n",
       "        text-align: right;\n",
       "    }\n",
       "</style>\n",
       "<table border=\"1\" class=\"dataframe\">\n",
       "  <thead>\n",
       "    <tr style=\"text-align: right;\">\n",
       "      <th></th>\n",
       "      <th>Person</th>\n",
       "      <th>House</th>\n",
       "      <th>variable</th>\n",
       "      <th>value</th>\n",
       "    </tr>\n",
       "  </thead>\n",
       "  <tbody>\n",
       "    <tr>\n",
       "      <th>0</th>\n",
       "      <td>Alan</td>\n",
       "      <td>A-34</td>\n",
       "      <td>Age</td>\n",
       "      <td>3</td>\n",
       "    </tr>\n",
       "    <tr>\n",
       "      <th>4</th>\n",
       "      <td>Alan</td>\n",
       "      <td>A-34</td>\n",
       "      <td>Books</td>\n",
       "      <td>0</td>\n",
       "    </tr>\n",
       "    <tr>\n",
       "      <th>8</th>\n",
       "      <td>Alan</td>\n",
       "      <td>A-34</td>\n",
       "      <td>Movies</td>\n",
       "      <td>0</td>\n",
       "    </tr>\n",
       "    <tr>\n",
       "      <th>1</th>\n",
       "      <td>Berta</td>\n",
       "      <td>A-45</td>\n",
       "      <td>Age</td>\n",
       "      <td>46</td>\n",
       "    </tr>\n",
       "    <tr>\n",
       "      <th>5</th>\n",
       "      <td>Berta</td>\n",
       "      <td>A-45</td>\n",
       "      <td>Books</td>\n",
       "      <td>30</td>\n",
       "    </tr>\n",
       "    <tr>\n",
       "      <th>9</th>\n",
       "      <td>Berta</td>\n",
       "      <td>A-45</td>\n",
       "      <td>Movies</td>\n",
       "      <td>20</td>\n",
       "    </tr>\n",
       "    <tr>\n",
       "      <th>2</th>\n",
       "      <td>Charlie</td>\n",
       "      <td>Greenwich-37</td>\n",
       "      <td>Age</td>\n",
       "      <td>20</td>\n",
       "    </tr>\n",
       "    <tr>\n",
       "      <th>6</th>\n",
       "      <td>Charlie</td>\n",
       "      <td>Greenwich-37</td>\n",
       "      <td>Books</td>\n",
       "      <td>20</td>\n",
       "    </tr>\n",
       "    <tr>\n",
       "      <th>10</th>\n",
       "      <td>Charlie</td>\n",
       "      <td>Greenwich-37</td>\n",
       "      <td>Movies</td>\n",
       "      <td>80</td>\n",
       "    </tr>\n",
       "    <tr>\n",
       "      <th>3</th>\n",
       "      <td>Danielle</td>\n",
       "      <td>Belador-43</td>\n",
       "      <td>Age</td>\n",
       "      <td>74</td>\n",
       "    </tr>\n",
       "    <tr>\n",
       "      <th>7</th>\n",
       "      <td>Danielle</td>\n",
       "      <td>Belador-43</td>\n",
       "      <td>Books</td>\n",
       "      <td>40</td>\n",
       "    </tr>\n",
       "    <tr>\n",
       "      <th>11</th>\n",
       "      <td>Danielle</td>\n",
       "      <td>Belador-43</td>\n",
       "      <td>Movies</td>\n",
       "      <td>60</td>\n",
       "    </tr>\n",
       "  </tbody>\n",
       "</table>\n",
       "</div>"
      ],
      "text/plain": [
       "      Person         House variable  value\n",
       "0       Alan          A-34      Age      3\n",
       "4       Alan          A-34    Books      0\n",
       "8       Alan          A-34   Movies      0\n",
       "1      Berta          A-45      Age     46\n",
       "5      Berta          A-45    Books     30\n",
       "9      Berta          A-45   Movies     20\n",
       "2    Charlie  Greenwich-37      Age     20\n",
       "6    Charlie  Greenwich-37    Books     20\n",
       "10   Charlie  Greenwich-37   Movies     80\n",
       "3   Danielle    Belador-43      Age     74\n",
       "7   Danielle    Belador-43    Books     40\n",
       "11  Danielle    Belador-43   Movies     60"
      ]
     },
     "execution_count": 4,
     "metadata": {},
     "output_type": "execute_result"
    }
   ],
   "source": [
    "students.melt(id_vars=[\"Person\",\"House\"],\n",
    "              value_vars=[\"Age\",\"Books\",\"Movies\"]\n",
    "             ).sort_values([\"Person\"])"
   ]
  },
  {
   "cell_type": "code",
   "execution_count": null,
   "id": "fce85c54",
   "metadata": {},
   "outputs": [],
   "source": []
  },
  {
   "cell_type": "markdown",
   "id": "531b0db7",
   "metadata": {},
   "source": [
    "## Q). What is meaning of each operation performed with `car` dataset?\n",
    "\n",
    "dataset : `car-sales-extended-missing-data.csv`"
   ]
  },
  {
   "cell_type": "code",
   "execution_count": 44,
   "id": "eddef494",
   "metadata": {},
   "outputs": [
    {
     "data": {
      "text/html": [
       "<div>\n",
       "<style scoped>\n",
       "    .dataframe tbody tr th:only-of-type {\n",
       "        vertical-align: middle;\n",
       "    }\n",
       "\n",
       "    .dataframe tbody tr th {\n",
       "        vertical-align: top;\n",
       "    }\n",
       "\n",
       "    .dataframe thead th {\n",
       "        text-align: right;\n",
       "    }\n",
       "</style>\n",
       "<table border=\"1\" class=\"dataframe\">\n",
       "  <thead>\n",
       "    <tr style=\"text-align: right;\">\n",
       "      <th></th>\n",
       "      <th>Make</th>\n",
       "      <th>Colour</th>\n",
       "      <th>Odometer (KM)</th>\n",
       "      <th>Doors</th>\n",
       "      <th>Price</th>\n",
       "    </tr>\n",
       "  </thead>\n",
       "  <tbody>\n",
       "    <tr>\n",
       "      <th>0</th>\n",
       "      <td>Honda</td>\n",
       "      <td>White</td>\n",
       "      <td>35431.0</td>\n",
       "      <td>4.0</td>\n",
       "      <td>15323.0</td>\n",
       "    </tr>\n",
       "    <tr>\n",
       "      <th>1</th>\n",
       "      <td>BMW</td>\n",
       "      <td>Blue</td>\n",
       "      <td>192714.0</td>\n",
       "      <td>5.0</td>\n",
       "      <td>19943.0</td>\n",
       "    </tr>\n",
       "    <tr>\n",
       "      <th>2</th>\n",
       "      <td>Honda</td>\n",
       "      <td>White</td>\n",
       "      <td>84714.0</td>\n",
       "      <td>4.0</td>\n",
       "      <td>28343.0</td>\n",
       "    </tr>\n",
       "    <tr>\n",
       "      <th>3</th>\n",
       "      <td>Toyota</td>\n",
       "      <td>White</td>\n",
       "      <td>154365.0</td>\n",
       "      <td>4.0</td>\n",
       "      <td>13434.0</td>\n",
       "    </tr>\n",
       "    <tr>\n",
       "      <th>4</th>\n",
       "      <td>Nissan</td>\n",
       "      <td>Blue</td>\n",
       "      <td>181577.0</td>\n",
       "      <td>3.0</td>\n",
       "      <td>14043.0</td>\n",
       "    </tr>\n",
       "    <tr>\n",
       "      <th>...</th>\n",
       "      <td>...</td>\n",
       "      <td>...</td>\n",
       "      <td>...</td>\n",
       "      <td>...</td>\n",
       "      <td>...</td>\n",
       "    </tr>\n",
       "    <tr>\n",
       "      <th>995</th>\n",
       "      <td>Toyota</td>\n",
       "      <td>Black</td>\n",
       "      <td>35820.0</td>\n",
       "      <td>4.0</td>\n",
       "      <td>32042.0</td>\n",
       "    </tr>\n",
       "    <tr>\n",
       "      <th>996</th>\n",
       "      <td>NaN</td>\n",
       "      <td>White</td>\n",
       "      <td>155144.0</td>\n",
       "      <td>3.0</td>\n",
       "      <td>5716.0</td>\n",
       "    </tr>\n",
       "    <tr>\n",
       "      <th>997</th>\n",
       "      <td>Nissan</td>\n",
       "      <td>Blue</td>\n",
       "      <td>66604.0</td>\n",
       "      <td>4.0</td>\n",
       "      <td>31570.0</td>\n",
       "    </tr>\n",
       "    <tr>\n",
       "      <th>998</th>\n",
       "      <td>Honda</td>\n",
       "      <td>White</td>\n",
       "      <td>215883.0</td>\n",
       "      <td>4.0</td>\n",
       "      <td>4001.0</td>\n",
       "    </tr>\n",
       "    <tr>\n",
       "      <th>999</th>\n",
       "      <td>Toyota</td>\n",
       "      <td>Blue</td>\n",
       "      <td>248360.0</td>\n",
       "      <td>4.0</td>\n",
       "      <td>12732.0</td>\n",
       "    </tr>\n",
       "  </tbody>\n",
       "</table>\n",
       "<p>1000 rows × 5 columns</p>\n",
       "</div>"
      ],
      "text/plain": [
       "       Make Colour  Odometer (KM)  Doors    Price\n",
       "0     Honda  White        35431.0    4.0  15323.0\n",
       "1       BMW   Blue       192714.0    5.0  19943.0\n",
       "2     Honda  White        84714.0    4.0  28343.0\n",
       "3    Toyota  White       154365.0    4.0  13434.0\n",
       "4    Nissan   Blue       181577.0    3.0  14043.0\n",
       "..      ...    ...            ...    ...      ...\n",
       "995  Toyota  Black        35820.0    4.0  32042.0\n",
       "996     NaN  White       155144.0    3.0   5716.0\n",
       "997  Nissan   Blue        66604.0    4.0  31570.0\n",
       "998   Honda  White       215883.0    4.0   4001.0\n",
       "999  Toyota   Blue       248360.0    4.0  12732.0\n",
       "\n",
       "[1000 rows x 5 columns]"
      ]
     },
     "execution_count": 44,
     "metadata": {},
     "output_type": "execute_result"
    }
   ],
   "source": [
    "carDF = pd.read_csv(\"./../datasets/car-sales-extended-missing-data.csv\")\n",
    "\n",
    "carDF"
   ]
  },
  {
   "cell_type": "markdown",
   "id": "99971979",
   "metadata": {},
   "source": [
    "- #### gives the number of null values in each column :"
   ]
  },
  {
   "cell_type": "code",
   "execution_count": 46,
   "id": "1dc6278a",
   "metadata": {},
   "outputs": [
    {
     "data": {
      "text/plain": [
       "Make             49\n",
       "Colour           50\n",
       "Odometer (KM)    50\n",
       "Doors            50\n",
       "Price            50\n",
       "dtype: int64"
      ]
     },
     "execution_count": 46,
     "metadata": {},
     "output_type": "execute_result"
    }
   ],
   "source": [
    "carDF.isnull().sum()"
   ]
  },
  {
   "cell_type": "markdown",
   "id": "439c5fb9",
   "metadata": {},
   "source": [
    "- #### gives the number of `null` values in the whole dataframe :"
   ]
  },
  {
   "cell_type": "code",
   "execution_count": 47,
   "id": "cae7c265",
   "metadata": {},
   "outputs": [
    {
     "data": {
      "text/plain": [
       "249"
      ]
     },
     "execution_count": 47,
     "metadata": {},
     "output_type": "execute_result"
    }
   ],
   "source": [
    "carDF.isnull().sum().sum()"
   ]
  },
  {
   "cell_type": "markdown",
   "id": "adaa1e95",
   "metadata": {},
   "source": [
    "- #### gives the number of null values in the 8th row."
   ]
  },
  {
   "cell_type": "code",
   "execution_count": 48,
   "id": "0acb92e3",
   "metadata": {},
   "outputs": [
    {
     "data": {
      "text/plain": [
       "1"
      ]
     },
     "execution_count": 48,
     "metadata": {},
     "output_type": "execute_result"
    }
   ],
   "source": [
    "carDF.loc[[7]].isna().sum().sum()"
   ]
  },
  {
   "cell_type": "markdown",
   "id": "1994b041",
   "metadata": {},
   "source": [
    "- #### gives the indices of all such rows that have atleast one `NaN` (or, `null`) in \"any\" column."
   ]
  },
  {
   "cell_type": "code",
   "execution_count": 52,
   "id": "5f7bc065",
   "metadata": {},
   "outputs": [
    {
     "data": {
      "text/plain": [
       "Int64Index([  7,   8,  13,  20,  21,  31,  37,  40,  47,  51,\n",
       "            ...\n",
       "            957, 959, 960, 968, 972, 974, 975, 983, 985, 996],\n",
       "           dtype='int64', length=227)"
      ]
     },
     "execution_count": 52,
     "metadata": {},
     "output_type": "execute_result"
    }
   ],
   "source": [
    "carDF[carDF.isna().any(axis=1)].index"
   ]
  },
  {
   "cell_type": "markdown",
   "id": "f95d8e52",
   "metadata": {},
   "source": [
    "- #### drops all such columns that have \"any\" row as `null` value"
   ]
  },
  {
   "cell_type": "code",
   "execution_count": 55,
   "id": "6ba6e353",
   "metadata": {},
   "outputs": [],
   "source": [
    "carDF.dropna(axis=1, how='any')\n",
    "\n",
    "## since every column has atleast 1 null. So all columns would get dropped."
   ]
  },
  {
   "cell_type": "markdown",
   "id": "16de3c4b",
   "metadata": {},
   "source": [
    "- #### drop those columns that having \"all\" of the row-values as `NaN` only."
   ]
  },
  {
   "cell_type": "code",
   "execution_count": 56,
   "id": "b7b2f20b",
   "metadata": {},
   "outputs": [],
   "source": [
    "carDF.dropna(axis=1, how='all')\n",
    "\n",
    "## since there is no column where all the rows are `null`. So, no column would drop."
   ]
  },
  {
   "cell_type": "markdown",
   "id": "fb6f067f",
   "metadata": {},
   "source": [
    "- #### fill all the `NaN` values according to key, value pairs of replacement\n",
    "\n",
    "`df.fillna(value=replacement)`"
   ]
  },
  {
   "cell_type": "code",
   "execution_count": null,
   "id": "c1e75e19",
   "metadata": {},
   "outputs": [],
   "source": [
    "carDF.fillna(value={\"Make\":\"UNKNOWN\", \"Colour\":\"NA\", \"Door\":\"-\"})"
   ]
  },
  {
   "cell_type": "code",
   "execution_count": null,
   "id": "cb94fd0f",
   "metadata": {},
   "outputs": [],
   "source": []
  },
  {
   "cell_type": "markdown",
   "id": "4577f6b0",
   "metadata": {},
   "source": [
    "## Q). Find out the month that observed the maximum registrations?"
   ]
  },
  {
   "cell_type": "code",
   "execution_count": 57,
   "id": "1dce635b",
   "metadata": {},
   "outputs": [
    {
     "data": {
      "text/html": [
       "<div>\n",
       "<style scoped>\n",
       "    .dataframe tbody tr th:only-of-type {\n",
       "        vertical-align: middle;\n",
       "    }\n",
       "\n",
       "    .dataframe tbody tr th {\n",
       "        vertical-align: top;\n",
       "    }\n",
       "\n",
       "    .dataframe thead th {\n",
       "        text-align: right;\n",
       "    }\n",
       "</style>\n",
       "<table border=\"1\" class=\"dataframe\">\n",
       "  <thead>\n",
       "    <tr style=\"text-align: right;\">\n",
       "      <th></th>\n",
       "      <th>Date</th>\n",
       "      <th>RID</th>\n",
       "      <th>Phy</th>\n",
       "      <th>Chem</th>\n",
       "      <th>Math</th>\n",
       "    </tr>\n",
       "  </thead>\n",
       "  <tbody>\n",
       "    <tr>\n",
       "      <th>0</th>\n",
       "      <td>2014-11-16</td>\n",
       "      <td>1498</td>\n",
       "      <td>72</td>\n",
       "      <td>62</td>\n",
       "      <td>73</td>\n",
       "    </tr>\n",
       "    <tr>\n",
       "      <th>1</th>\n",
       "      <td>2012-01-27</td>\n",
       "      <td>7421</td>\n",
       "      <td>65</td>\n",
       "      <td>76</td>\n",
       "      <td>77</td>\n",
       "    </tr>\n",
       "    <tr>\n",
       "      <th>2</th>\n",
       "      <td>2013-04-17</td>\n",
       "      <td>1375</td>\n",
       "      <td>71</td>\n",
       "      <td>72</td>\n",
       "      <td>68</td>\n",
       "    </tr>\n",
       "    <tr>\n",
       "      <th>3</th>\n",
       "      <td>2012-11-20</td>\n",
       "      <td>4165</td>\n",
       "      <td>65</td>\n",
       "      <td>60</td>\n",
       "      <td>72</td>\n",
       "    </tr>\n",
       "    <tr>\n",
       "      <th>4</th>\n",
       "      <td>2020-11-13</td>\n",
       "      <td>8013</td>\n",
       "      <td>52</td>\n",
       "      <td>74</td>\n",
       "      <td>83</td>\n",
       "    </tr>\n",
       "    <tr>\n",
       "      <th>5</th>\n",
       "      <td>2015-04-29</td>\n",
       "      <td>8053</td>\n",
       "      <td>57</td>\n",
       "      <td>81</td>\n",
       "      <td>72</td>\n",
       "    </tr>\n",
       "  </tbody>\n",
       "</table>\n",
       "</div>"
      ],
      "text/plain": [
       "         Date   RID  Phy  Chem  Math\n",
       "0  2014-11-16  1498   72    62    73\n",
       "1  2012-01-27  7421   65    76    77\n",
       "2  2013-04-17  1375   71    72    68\n",
       "3  2012-11-20  4165   65    60    72\n",
       "4  2020-11-13  8013   52    74    83\n",
       "5  2015-04-29  8053   57    81    72"
      ]
     },
     "execution_count": 57,
     "metadata": {},
     "output_type": "execute_result"
    }
   ],
   "source": [
    "df = pd.DataFrame({'Date':[\"2014-11-16\", \"2012-01-27\", \"2013-04-17\", \"2012-11-20\", \"2020-11-13\", \"2015-04-29\"],\n",
    "                   'RID':[1498, 7421, 1375, 4165, 8013, 8053],\n",
    "                   'Phy':[72, 65, 71, 65, 52, 57],\n",
    "                   'Chem':[62, 76, 72, 60, 74, 81],\n",
    "                   'Math':[73, 77, 68, 72, 83, 72]\n",
    "                  })\n",
    "\n",
    "df"
   ]
  },
  {
   "cell_type": "code",
   "execution_count": 58,
   "id": "a3596c9e",
   "metadata": {},
   "outputs": [],
   "source": [
    "def solve(df):\n",
    "    \"\"\"\n",
    "    input: pandas dataframe with columns ['Date', 'RID', 'Phy', 'Chem', 'Math']\n",
    "    output: pandas series\n",
    "    \"\"\"\n",
    "    \n",
    "    # code for taking input and printing output is already taken care of just return the list with required elements.\n",
    "    \"\"\"\n",
    "        You need to return a series where the elements will be the most occuring month,\n",
    "        most occuring month's frequency, average chemistry,physics and maths marks in \n",
    "        most occuring months upto two decimal places in this order.\n",
    "    \"\"\"\n",
    "    # YOUR CODE GOES HERE\n",
    "\n",
    "    df['Month'] = pd.to_datetime(df['Date']).dt.month_name().str[:3].str.upper()\n",
    "    most_occuring_month = df['Month'].mode()[0]\n",
    "    df = df[df['Month'] == most_occuring_month]\n",
    "\n",
    "    temp = []\n",
    "    max_reg_month      = (df['Month'].value_counts().idxmax()).upper()[:3]\n",
    "    max_reg_month_mode = df['Month'].value_counts().max()\n",
    "\n",
    "    temp.append(max_reg_month)\n",
    "    temp.append(max_reg_month_mode)\n",
    "\n",
    "    avgDF    = df.groupby(\"Month\")[['Chem','Phy','Math']].mean().round(2)\n",
    "    avg_list = avgDF.loc[max_reg_month, :].to_list()\n",
    "\n",
    "    return pd.Series(temp + avg_list)"
   ]
  },
  {
   "cell_type": "code",
   "execution_count": 59,
   "id": "fd7d6b3d",
   "metadata": {},
   "outputs": [
    {
     "data": {
      "text/plain": [
       "0      NOV\n",
       "1        3\n",
       "2    65.33\n",
       "3     63.0\n",
       "4     76.0\n",
       "dtype: object"
      ]
     },
     "execution_count": 59,
     "metadata": {},
     "output_type": "execute_result"
    }
   ],
   "source": [
    "solve(df)"
   ]
  },
  {
   "cell_type": "code",
   "execution_count": null,
   "id": "272c909b",
   "metadata": {},
   "outputs": [],
   "source": []
  },
  {
   "cell_type": "markdown",
   "id": "f7d43bee",
   "metadata": {},
   "source": [
    "## Q). What's the color of point `X` ?\n",
    "\n",
    "Assume we have some points in a 2D plane, some of which are of red color and the others are green in color.\n",
    "\n",
    "Now we have a new point - `X`, that does not have any color.<br>\n",
    "We would like to assign `X` a color (either red or green) based on the color of it's \"K\" nearest points.\n",
    "\n",
    "For example, 3 of the 5 nearest points have color as red and hence we may assign the point `X` with red color.\n",
    "\n",
    "In this process we were required to calculate the distance of point `X` from all others and pick the nearest \"K\" points. This algorithm is known as __K-Nearest-Neighbors__ that is a use case for calculating the distances of multiple points from a given point (in our case, `X`) efficiently.\n",
    "\n",
    "Given that,<br>\n",
    "`all_points = [[1, 2, 3, 4], [2, 3, 0, -4], [-1, 4, 1, 0], [0, 1, 2, 5], [1, 10, 0, 0], [0,0,0,0]]` ;<br>\n",
    "`point_x = [4, 1, 0, 3]`"
   ]
  },
  {
   "cell_type": "code",
   "execution_count": 2,
   "id": "bdbe9d8e",
   "metadata": {},
   "outputs": [],
   "source": [
    "all_points = [[1, 2, 3, 4], [2, 3, 0, -4], [-1, 4, 1, 0], [0, 1, 2, 5], [1, 10, 0, 0], [0,0,0,0]]\n",
    "\n",
    "point_x = [4, 1, 0, 3]"
   ]
  },
  {
   "cell_type": "code",
   "execution_count": 4,
   "id": "41352922",
   "metadata": {},
   "outputs": [
    {
     "name": "stdout",
     "output_type": "stream",
     "text": [
      "[4.47213595499958, 7.54983443527075, 6.6332495807108, 4.898979485566356, 9.9498743710662, 5.0990195135927845]\n"
     ]
    },
    {
     "data": {
      "text/plain": [
       "array([0, 3, 5, 2, 1], dtype=int64)"
      ]
     },
     "execution_count": 4,
     "metadata": {},
     "output_type": "execute_result"
    }
   ],
   "source": [
    "# Brute Force solution (#1)\n",
    "distances = []\n",
    "for point in all_points:\n",
    "    distances.append(np.sqrt(np.sum((np.array(point_x) - np.array(point))**2)))\n",
    "print(distances)\n",
    "\n",
    "np.argsort(distances)[:5]"
   ]
  },
  {
   "cell_type": "code",
   "execution_count": 5,
   "id": "fdd12732",
   "metadata": {},
   "outputs": [],
   "source": [
    "# Solution 2"
   ]
  },
  {
   "cell_type": "code",
   "execution_count": 7,
   "id": "ad034dc0",
   "metadata": {},
   "outputs": [
    {
     "data": {
      "text/plain": [
       "array([[ 3, -1, -3, -1],\n",
       "       [ 2, -2,  0,  7],\n",
       "       [ 5, -3, -1,  3],\n",
       "       [ 4,  0, -2, -2],\n",
       "       [ 3, -9,  0,  3],\n",
       "       [ 4,  1,  0,  3]])"
      ]
     },
     "execution_count": 7,
     "metadata": {},
     "output_type": "execute_result"
    }
   ],
   "source": [
    "np.tile(np.array([point_x]), (len(all_points), 1)) -  np.array(all_points)"
   ]
  },
  {
   "cell_type": "code",
   "execution_count": 8,
   "id": "f97f1b6c",
   "metadata": {},
   "outputs": [
    {
     "data": {
      "text/plain": [
       "array([4.47213595, 7.54983444, 6.63324958, 4.89897949, 9.94987437,\n",
       "       5.09901951])"
      ]
     },
     "execution_count": 8,
     "metadata": {},
     "output_type": "execute_result"
    }
   ],
   "source": [
    "# lets remove for loop and repeat point_x 'N' times\n",
    "np.sqrt(np.sum((np.tile(np.array([point_x]), (6,1)) - np.array(all_points))**2, axis=1))"
   ]
  },
  {
   "cell_type": "code",
   "execution_count": 9,
   "id": "179b876f",
   "metadata": {},
   "outputs": [
    {
     "data": {
      "text/plain": [
       "array([4.47213595, 7.54983444, 6.63324958, 4.89897949, 9.94987437,\n",
       "       5.09901951])"
      ]
     },
     "execution_count": 9,
     "metadata": {},
     "output_type": "execute_result"
    }
   ],
   "source": [
    "# Broadcasting solution (#3)\n",
    "\n",
    "np.sqrt(np.sum((np.array([point_x]) - np.array(all_points))**2, axis=1))"
   ]
  },
  {
   "cell_type": "code",
   "execution_count": 1,
   "id": "6d09f919",
   "metadata": {},
   "outputs": [],
   "source": []
  },
  {
   "cell_type": "markdown",
   "id": "d47c463e",
   "metadata": {},
   "source": [
    "## Q). 2D Average Pooling:\n",
    "\n",
    "Given a 2 dimensional array of size `m x m`, and a 2 dimensional window of size `d x d`. Take the average of the elements of the 2D array that fall inside the window while moving the window by (slide=) `d` units from left-right and top-bottom."
   ]
  },
  {
   "cell_type": "markdown",
   "id": "ad78803f",
   "metadata": {},
   "source": [
    "__Eg :__\n",
    "\n",
    "> INPUT\n",
    "\n",
    "```python\n",
    "# m=4, i.e array size = 4x4\n",
    "# d=2, i.e window size = 2x2\n",
    "# s=d, i.e stride=2\n",
    "\n",
    "\n",
    "[[ 0,  1,  2,  3]\n",
    "[ 4,  5,  6,  7]\n",
    "[ 8,  9, 10, 11]\n",
    "[12, 13, 14, 15]]\n",
    "```\n",
    "\n",
    "> OUTPUT\n",
    "\n",
    "```python\n",
    "[2.5, 4.5]\n",
    "[10.5, 12.5]\n",
    "\n",
    "```"
   ]
  },
  {
   "cell_type": "code",
   "execution_count": 2,
   "id": "00bae9b1",
   "metadata": {},
   "outputs": [
    {
     "data": {
      "text/plain": [
       "array([[ 0,  1,  2,  3],\n",
       "       [ 4,  5,  6,  7],\n",
       "       [ 8,  9, 10, 11],\n",
       "       [12, 13, 14, 15]])"
      ]
     },
     "execution_count": 2,
     "metadata": {},
     "output_type": "execute_result"
    }
   ],
   "source": [
    "A = np.arange(16).reshape((4,4))\n",
    "\n",
    "A"
   ]
  },
  {
   "cell_type": "markdown",
   "id": "ec019ba6",
   "metadata": {},
   "source": [
    "Let's extract the smaller matrices, that're bounded by sliding window :"
   ]
  },
  {
   "cell_type": "code",
   "execution_count": 3,
   "id": "f9e0c5b6",
   "metadata": {},
   "outputs": [
    {
     "data": {
      "text/plain": [
       "array([[0, 1],\n",
       "       [4, 5]])"
      ]
     },
     "execution_count": 3,
     "metadata": {},
     "output_type": "execute_result"
    }
   ],
   "source": [
    "np.vsplit(np.hsplit(A, 2)[0], 2)[0] # extract first part (0,0)"
   ]
  },
  {
   "cell_type": "code",
   "execution_count": 4,
   "id": "1be32c63",
   "metadata": {},
   "outputs": [
    {
     "data": {
      "text/plain": [
       "array([[2, 3],\n",
       "       [6, 7]])"
      ]
     },
     "execution_count": 4,
     "metadata": {},
     "output_type": "execute_result"
    }
   ],
   "source": [
    "np.vsplit(np.hsplit(A, 2)[1], 2)[0] # extract second part (0,1)"
   ]
  },
  {
   "cell_type": "markdown",
   "id": "f1333810",
   "metadata": {},
   "source": [
    "#### Approach #1 :"
   ]
  },
  {
   "cell_type": "code",
   "execution_count": 5,
   "id": "0413417b",
   "metadata": {},
   "outputs": [
    {
     "name": "stdout",
     "output_type": "stream",
     "text": [
      "[[ 2.5  4.5]\n",
      " [10.5 12.5]]\n"
     ]
    }
   ],
   "source": [
    "result = np.zeros((2,2))\n",
    "for i in range(2):\n",
    "    for j in range(2):\n",
    "        result[i,j] = np.vsplit(np.hsplit(A, 2)[j], 2)[i].mean()\n",
    "\n",
    "print(result)\n",
    "\n",
    "# brute force solution"
   ]
  },
  {
   "cell_type": "markdown",
   "id": "5c7be0b1",
   "metadata": {},
   "source": [
    "#### Approach #2 :"
   ]
  },
  {
   "cell_type": "code",
   "execution_count": 13,
   "id": "82952aa7",
   "metadata": {},
   "outputs": [
    {
     "name": "stdout",
     "output_type": "stream",
     "text": [
      "[[0 1]\n",
      " [4 5]]\n",
      "\n",
      "shape =>  (2, 2)\n",
      "--------------------------------------------------\n",
      "[[ 8  9]\n",
      " [12 13]]\n",
      "\n",
      "shape =>  (2, 2)\n",
      "--------------------------------------------------\n",
      "[[2 3]\n",
      " [6 7]]\n",
      "\n",
      "shape =>  (2, 2)\n",
      "--------------------------------------------------\n",
      "[[10 11]\n",
      " [14 15]]\n",
      "\n",
      "shape =>  (2, 2)\n",
      "--------------------------------------------------\n"
     ]
    }
   ],
   "source": [
    "splits = np.split(np.concatenate(np.split(A, 2, axis=1), axis=0), 4, axis=0)\n",
    "\n",
    "for i in splits:\n",
    "    print(i)\n",
    "    print()\n",
    "    print(\"shape => \",i.shape)\n",
    "    print(\"-\" * 50)\n",
    "\n",
    "## only printing all smaller arrays; further below we'll calculate mean of all elements enclosed inside a smaller array"
   ]
  },
  {
   "cell_type": "code",
   "execution_count": 17,
   "id": "a92d5c11",
   "metadata": {},
   "outputs": [
    {
     "name": "stdout",
     "output_type": "stream",
     "text": [
      "[[ 2.5  4.5]\n",
      " [10.5 12.5]]\n"
     ]
    }
   ],
   "source": [
    "result = []\n",
    "splits = np.split(np.concatenate(np.split(A, 2, axis=1), axis=0), 4, axis=0)\n",
    "for split in splits:\n",
    "    result.append(split.mean())\n",
    "\n",
    "print(np.array(result).reshape(2,2).T)\n",
    "\n",
    "## now, calculate the desired result as per above logic"
   ]
  },
  {
   "cell_type": "code",
   "execution_count": 18,
   "id": "a3d04b9b",
   "metadata": {},
   "outputs": [
    {
     "data": {
      "text/plain": [
       "array([[ 5.,  6.],\n",
       "       [ 9., 10.]])"
      ]
     },
     "execution_count": 18,
     "metadata": {},
     "output_type": "execute_result"
    }
   ],
   "source": [
    "np.array(splits).mean(axis=0)"
   ]
  },
  {
   "cell_type": "code",
   "execution_count": 19,
   "id": "c70134e1",
   "metadata": {},
   "outputs": [
    {
     "data": {
      "text/plain": [
       "array([[ 2.,  3.],\n",
       "       [10., 11.],\n",
       "       [ 4.,  5.],\n",
       "       [12., 13.]])"
      ]
     },
     "execution_count": 19,
     "metadata": {},
     "output_type": "execute_result"
    }
   ],
   "source": [
    "np.array(splits).mean(axis=1)"
   ]
  },
  {
   "cell_type": "code",
   "execution_count": 20,
   "id": "4e2bc3a6",
   "metadata": {},
   "outputs": [
    {
     "data": {
      "text/plain": [
       "array([[ 0.5,  4.5],\n",
       "       [ 8.5, 12.5],\n",
       "       [ 2.5,  6.5],\n",
       "       [10.5, 14.5]])"
      ]
     },
     "execution_count": 20,
     "metadata": {},
     "output_type": "execute_result"
    }
   ],
   "source": [
    "np.array(splits).mean(axis=2)"
   ]
  },
  {
   "cell_type": "code",
   "execution_count": 21,
   "id": "4eade608",
   "metadata": {},
   "outputs": [
    {
     "data": {
      "text/plain": [
       "array([[ 2.5,  4.5],\n",
       "       [10.5, 12.5]])"
      ]
     },
     "execution_count": 21,
     "metadata": {},
     "output_type": "execute_result"
    }
   ],
   "source": [
    "np.array(splits).mean(axis=(1,2)).reshape(2,2).T"
   ]
  },
  {
   "cell_type": "code",
   "execution_count": null,
   "id": "7e2de6e4",
   "metadata": {},
   "outputs": [],
   "source": []
  },
  {
   "cell_type": "markdown",
   "id": "aec488a2",
   "metadata": {},
   "source": [
    "Let's create a generic code that calcultaes the mean of numbers falling inside a sliding window."
   ]
  },
  {
   "cell_type": "code",
   "execution_count": 25,
   "id": "96e6929f",
   "metadata": {},
   "outputs": [],
   "source": [
    "def avg_bulk(A, d=2):\n",
    "    m = A.shape[0]\n",
    "    # m = dimension of matrix\n",
    "    # d = dimension of window\n",
    "    \n",
    "    ## int(m/d) => no. of parts the matrix A will get splitted into\n",
    "    \n",
    "    result = np.array(np.split(np.concatenate(np.split(A, int(m/d), axis=1)), int(m/d)**2)).mean(axis=(1,2))\n",
    "    return result.reshape(int(m/d), int(m/d)).T"
   ]
  },
  {
   "cell_type": "code",
   "execution_count": 26,
   "id": "91ba30de",
   "metadata": {},
   "outputs": [
    {
     "data": {
      "text/plain": [
       "array([[ 0,  1,  2,  3,  4,  5,  6,  7,  8,  9],\n",
       "       [10, 11, 12, 13, 14, 15, 16, 17, 18, 19],\n",
       "       [20, 21, 22, 23, 24, 25, 26, 27, 28, 29],\n",
       "       [30, 31, 32, 33, 34, 35, 36, 37, 38, 39],\n",
       "       [40, 41, 42, 43, 44, 45, 46, 47, 48, 49],\n",
       "       [50, 51, 52, 53, 54, 55, 56, 57, 58, 59],\n",
       "       [60, 61, 62, 63, 64, 65, 66, 67, 68, 69],\n",
       "       [70, 71, 72, 73, 74, 75, 76, 77, 78, 79],\n",
       "       [80, 81, 82, 83, 84, 85, 86, 87, 88, 89],\n",
       "       [90, 91, 92, 93, 94, 95, 96, 97, 98, 99]])"
      ]
     },
     "execution_count": 26,
     "metadata": {},
     "output_type": "execute_result"
    }
   ],
   "source": [
    "B = np.arange(100).reshape(10,10)\n",
    "\n",
    "B"
   ]
  },
  {
   "cell_type": "code",
   "execution_count": 27,
   "id": "27f2fd1a",
   "metadata": {},
   "outputs": [
    {
     "data": {
      "text/plain": [
       "array([[ 5.5,  7.5,  9.5, 11.5, 13.5],\n",
       "       [25.5, 27.5, 29.5, 31.5, 33.5],\n",
       "       [45.5, 47.5, 49.5, 51.5, 53.5],\n",
       "       [65.5, 67.5, 69.5, 71.5, 73.5],\n",
       "       [85.5, 87.5, 89.5, 91.5, 93.5]])"
      ]
     },
     "execution_count": 27,
     "metadata": {},
     "output_type": "execute_result"
    }
   ],
   "source": [
    "avg_bulk(B)"
   ]
  },
  {
   "cell_type": "code",
   "execution_count": 32,
   "id": "5a51f80b",
   "metadata": {},
   "outputs": [
    {
     "name": "stdout",
     "output_type": "stream",
     "text": [
      "[[ 0  1  2  3  4  5]\n",
      " [ 6  7  8  9 10 11]\n",
      " [12 13 14 15 16 17]\n",
      " [18 19 20 21 22 23]\n",
      " [24 25 26 27 28 29]\n",
      " [30 31 32 33 34 35]]\n",
      "(6, 6)\n",
      "====================\n",
      "[[ 3.5  5.5  7.5]\n",
      " [15.5 17.5 19.5]\n",
      " [27.5 29.5 31.5]]\n",
      "(3, 3)\n"
     ]
    }
   ],
   "source": [
    "B = np.arange(36).reshape((6,6))\n",
    "\n",
    "print(B)\n",
    "print(B.shape)\n",
    "\n",
    "print(\"=\" * 20)\n",
    "\n",
    "B_avg_bulk = avg_bulk(B)\n",
    "print(B_avg_bulk)\n",
    "print(B_avg_bulk.shape)"
   ]
  },
  {
   "cell_type": "markdown",
   "id": "1c574c69",
   "metadata": {},
   "source": [
    "#### `avg_bulk()` function finds an application in Computer Vision, in the areas of Scaling/Rendering  higher quality (1080x720 ie. HD) image to lower quality (540x360) image."
   ]
  },
  {
   "cell_type": "code",
   "execution_count": null,
   "id": "ae74662b",
   "metadata": {},
   "outputs": [],
   "source": []
  }
 ],
 "metadata": {
  "kernelspec": {
   "display_name": "Python 3 (ipykernel)",
   "language": "python",
   "name": "python3"
  },
  "language_info": {
   "codemirror_mode": {
    "name": "ipython",
    "version": 3
   },
   "file_extension": ".py",
   "mimetype": "text/x-python",
   "name": "python",
   "nbconvert_exporter": "python",
   "pygments_lexer": "ipython3",
   "version": "3.8.10"
  }
 },
 "nbformat": 4,
 "nbformat_minor": 5
}
