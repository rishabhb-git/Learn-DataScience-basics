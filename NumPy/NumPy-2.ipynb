{
 "cells": [
  {
   "cell_type": "markdown",
   "id": "b366fc1d",
   "metadata": {},
   "source": [
    "## Aggregate Functions (continued...)"
   ]
  },
  {
   "cell_type": "code",
   "execution_count": 13,
   "id": "f5591716",
   "metadata": {},
   "outputs": [
    {
     "data": {
      "text/plain": [
       "array([[ 1,  2,  3,  4],\n",
       "       [ 5,  6,  7,  8],\n",
       "       [ 9, 10, 11, 12]])"
      ]
     },
     "execution_count": 13,
     "metadata": {},
     "output_type": "execute_result"
    }
   ],
   "source": [
    "a = np.arange(1, 13).reshape(3, -1)\n",
    "\n",
    "a"
   ]
  },
  {
   "cell_type": "markdown",
   "id": "f3fed03f",
   "metadata": {},
   "source": [
    "<b>1. `.sum()`</b>\n",
    "- `np.sum(array_variable)` = Sum of all numeric elements\n",
    "\n",
    "- `array_variable.sum()` = another way to find cummulative sum; same as np.sum(). Returns sum of all numeric elements.<br>\n",
    "\n",
    "But there is a internal computing difference between above 2 ways -<br>\n",
    "1st way is where np.sum() is called on a numpy array; whereas in 2nd way the .sum() evaluates on a object. If this object is not a numpy array, it will get converted to numpy array. *Same behivor holds true with other functions.*<br><br>\n",
    "\n",
    "- `np.sum(a, axis=1)` = sum of all elements along horizontal direction\n",
    "\n",
    "- `np.sum(a, axis=0)` = sum of all elements along vertical direction"
   ]
  },
  {
   "cell_type": "code",
   "execution_count": 15,
   "id": "5cd70535",
   "metadata": {},
   "outputs": [
    {
     "name": "stdout",
     "output_type": "stream",
     "text": [
      "78\n",
      "78\n"
     ]
    }
   ],
   "source": [
    "print(a.sum())\n",
    "\n",
    "print(np.sum(a))"
   ]
  },
  {
   "cell_type": "code",
   "execution_count": 21,
   "id": "81e91bd2",
   "metadata": {},
   "outputs": [
    {
     "data": {
      "text/plain": [
       "array([10, 26, 42])"
      ]
     },
     "execution_count": 21,
     "metadata": {},
     "output_type": "execute_result"
    }
   ],
   "source": [
    "np.sum(a, axis=1)\n",
    "\n",
    "## or, a.sum(axis=1)"
   ]
  },
  {
   "cell_type": "code",
   "execution_count": 22,
   "id": "5b4fa0a6",
   "metadata": {},
   "outputs": [
    {
     "data": {
      "text/plain": [
       "array([15, 18, 21, 24])"
      ]
     },
     "execution_count": 22,
     "metadata": {},
     "output_type": "execute_result"
    }
   ],
   "source": [
    "a.sum(axis=0)\n",
    "\n",
    "## sum along vertical direction"
   ]
  },
  {
   "cell_type": "code",
   "execution_count": 28,
   "id": "b44cb897",
   "metadata": {},
   "outputs": [
    {
     "name": "stdout",
     "output_type": "stream",
     "text": [
      "[18  6]\n"
     ]
    },
    {
     "ename": "AttributeError",
     "evalue": "'list' object has no attribute 'sum'",
     "output_type": "error",
     "traceback": [
      "\u001b[1;31m---------------------------------------------------------------------------\u001b[0m",
      "\u001b[1;31mAttributeError\u001b[0m                            Traceback (most recent call last)",
      "Input \u001b[1;32mIn [28]\u001b[0m, in \u001b[0;36m<module>\u001b[1;34m\u001b[0m\n\u001b[0;32m      3\u001b[0m b \u001b[38;5;241m=\u001b[39m [[\u001b[38;5;241m3\u001b[39m,\u001b[38;5;241m4\u001b[39m,\u001b[38;5;241m5\u001b[39m,\u001b[38;5;241m6\u001b[39m], [\u001b[38;5;241m2\u001b[39m,\u001b[38;5;241m5\u001b[39m,\u001b[38;5;241m-\u001b[39m\u001b[38;5;241m1\u001b[39m,\u001b[38;5;241m0\u001b[39m]]\n\u001b[0;32m      5\u001b[0m \u001b[38;5;28mprint\u001b[39m( np\u001b[38;5;241m.\u001b[39msum(b, axis\u001b[38;5;241m=\u001b[39m\u001b[38;5;241m1\u001b[39m) )\n\u001b[1;32m----> 7\u001b[0m \u001b[38;5;28mprint\u001b[39m( \u001b[43mb\u001b[49m\u001b[38;5;241;43m.\u001b[39;49m\u001b[43msum\u001b[49m() )\n",
      "\u001b[1;31mAttributeError\u001b[0m: 'list' object has no attribute 'sum'"
     ]
    }
   ],
   "source": [
    "## `b` is Python list\n",
    "\n",
    "b = [[3,4,5,6], [2,5,-1,0]]\n",
    "\n",
    "print( np.sum(b, axis=1) )       ## this works fine, because Python list gets converted to Numpy array internally\n",
    "\n",
    "print( b.sum() )                 ## ERROR !!"
   ]
  },
  {
   "cell_type": "markdown",
   "id": "af3c81ad",
   "metadata": {},
   "source": [
    "<br>\n",
    "<hr>\n",
    "\n",
    "### How to determine `axis` in any operation :\n",
    "\n",
    "For Numpy arrays (and, Pandas dataframes), if :\n",
    "\n",
    "- Operation occurs along the **VERTICAL** direction => `axis = 0`\n",
    "<br><br>\n",
    "- Operation occurs along the **HORIZONTAL** direction => `axis = 1`\n",
    "\n",
    "Above convention/intution holds generally for ***any kind of operation*** like - sum, stacking, drop, merge, etc.\n",
    "\n",
    "<hr>"
   ]
  },
  {
   "cell_type": "markdown",
   "id": "958b00b8",
   "metadata": {},
   "source": [
    "<b>2. `.mean()`</b>\n",
    "- `np.mean(array_variable)` = Mean of all numeric elements\n",
    "\n",
    "- `array_variable.mean()` = another way to find cummulative sum; same as np.mean(). Returns mean of all numeric elements.<br>"
   ]
  },
  {
   "cell_type": "code",
   "execution_count": null,
   "id": "008f1642",
   "metadata": {},
   "outputs": [],
   "source": [
    "a = np.arange(1, 13).reshape(3, 4)"
   ]
  },
  {
   "cell_type": "code",
   "execution_count": 38,
   "id": "84a2b2c6",
   "metadata": {},
   "outputs": [
    {
     "name": "stdout",
     "output_type": "stream",
     "text": [
      "6.5\n",
      "[ 2.5  6.5 10.5]\n",
      "[5. 6. 7. 8.]\n"
     ]
    }
   ],
   "source": [
    "print( a.mean() )                ## mean of all numbers\n",
    "\n",
    "print( np.mean(a, axis=1) )      ## mean along horizontal direction only\n",
    "\n",
    "print( np.mean(a, axis=0) )      ## mean along vertical direction only"
   ]
  },
  {
   "cell_type": "markdown",
   "id": "8ea41e75",
   "metadata": {},
   "source": [
    "<b>3. `.min()`</b>\n",
    "\n",
    "\n",
    "<b>4. `.max()`</b>"
   ]
  },
  {
   "cell_type": "code",
   "execution_count": 41,
   "id": "f6f04722",
   "metadata": {},
   "outputs": [
    {
     "name": "stdout",
     "output_type": "stream",
     "text": [
      "12\n",
      "[ 9 10 11 12]\n",
      "[ 4  8 12]\n",
      "--------------------\n",
      "1\n",
      "[1 5 9]\n"
     ]
    }
   ],
   "source": [
    "print( np.max(a) )\n",
    "print( np.max(a, axis=0) )\n",
    "print( a.max(axis=1) )\n",
    "\n",
    "print(\"-\" * 20)\n",
    "\n",
    "print( np.min(a) )\n",
    "print( np.min(a, axis=1) )\n",
    "\n"
   ]
  },
  {
   "cell_type": "markdown",
   "id": "2851ea21",
   "metadata": {},
   "source": [
    "****\n",
    "\n",
    "**Example** : Operate `.sum()` along different axes in 3-D array."
   ]
  },
  {
   "cell_type": "code",
   "execution_count": 50,
   "id": "bc11549e",
   "metadata": {},
   "outputs": [
    {
     "name": "stdout",
     "output_type": "stream",
     "text": [
      "78\n",
      "198\n",
      "126\n"
     ]
    },
    {
     "data": {
      "text/plain": [
       "array([[[ 1,  2,  3,  4],\n",
       "        [ 5,  6,  7,  8],\n",
       "        [ 9, 10, 11, 12]],\n",
       "\n",
       "       [[11, 12, 13, 14],\n",
       "        [15, 16, 17, 18],\n",
       "        [19, 20, 21, 22]],\n",
       "\n",
       "       [[ 5,  6,  7,  8],\n",
       "        [ 9, 10, 11, 12],\n",
       "        [13, 14, 15, 16]]])"
      ]
     },
     "execution_count": 50,
     "metadata": {},
     "output_type": "execute_result"
    }
   ],
   "source": [
    "## example :\n",
    "\n",
    "a = np.arange(1, 13).reshape(3, -1)\n",
    "print(a.sum())\n",
    "\n",
    "b = np.arange(11, 23).reshape(3, -1)\n",
    "print(b.sum())\n",
    "\n",
    "c = np.arange(5, 17).reshape(3, -1)\n",
    "print(c.sum())\n",
    "\n",
    "D = np.array([a,b,c])\n",
    "\n",
    "D"
   ]
  },
  {
   "cell_type": "code",
   "execution_count": 59,
   "id": "45863454",
   "metadata": {},
   "outputs": [
    {
     "name": "stdout",
     "output_type": "stream",
     "text": [
      "D.sum() = 402 \t D.shape = (3, 3, 4) \t D.ndim = 3 \t D.size = 36\n"
     ]
    }
   ],
   "source": [
    "print(f'D.sum() = {D.sum()} \\t D.shape = {D.shape} \\t D.ndim = {D.ndim} \\t D.size = {D.size}')"
   ]
  },
  {
   "cell_type": "code",
   "execution_count": 71,
   "id": "ed910e19",
   "metadata": {},
   "outputs": [
    {
     "data": {
      "text/plain": [
       "array([[17, 20, 23, 26],\n",
       "       [29, 32, 35, 38],\n",
       "       [41, 44, 47, 50]])"
      ]
     },
     "execution_count": 71,
     "metadata": {},
     "output_type": "execute_result"
    }
   ],
   "source": [
    "## sum along the depth direction\n",
    "\n",
    "D.sum(axis=0)"
   ]
  },
  {
   "cell_type": "code",
   "execution_count": 68,
   "id": "0598a9d1",
   "metadata": {},
   "outputs": [
    {
     "data": {
      "text/plain": [
       "array([[15, 18, 21, 24],\n",
       "       [45, 48, 51, 54],\n",
       "       [27, 30, 33, 36]])"
      ]
     },
     "execution_count": 68,
     "metadata": {},
     "output_type": "execute_result"
    }
   ],
   "source": [
    "## sum along vertical direction\n",
    "\n",
    "D.sum(axis=1)"
   ]
  },
  {
   "cell_type": "code",
   "execution_count": 69,
   "id": "768dfe94",
   "metadata": {},
   "outputs": [
    {
     "data": {
      "text/plain": [
       "array([[10, 26, 42],\n",
       "       [50, 66, 82],\n",
       "       [26, 42, 58]])"
      ]
     },
     "execution_count": 69,
     "metadata": {},
     "output_type": "execute_result"
    }
   ],
   "source": [
    "## sum along horizontal direction\n",
    "\n",
    "D.sum(axis=2)"
   ]
  },
  {
   "cell_type": "markdown",
   "id": "d7210fc0",
   "metadata": {},
   "source": [
    "****\n",
    "\n",
    "****\n",
    "\n",
    "### Logical Functions\n",
    "- `any`\n",
    "- `all`\n",
    "\n",
    "<b>`np.any()`</b>\n",
    "\n",
    "- checks if there is atleast 1 non-zero value - i.e. `True` - in the array. If so, it returns `True`. Otherwise `False`.\n",
    "\n",
    "- if at least 1 True value => returns `True`."
   ]
  },
  {
   "cell_type": "code",
   "execution_count": 72,
   "id": "fe459936",
   "metadata": {},
   "outputs": [
    {
     "data": {
      "text/plain": [
       "True"
      ]
     },
     "execution_count": 72,
     "metadata": {},
     "output_type": "execute_result"
    }
   ],
   "source": [
    "a = np.array([1,2,3,4])\n",
    "\n",
    "np.any(a)    ## all values in a are non-zero"
   ]
  },
  {
   "cell_type": "code",
   "execution_count": 75,
   "id": "d35bd671",
   "metadata": {},
   "outputs": [
    {
     "data": {
      "text/plain": [
       "True"
      ]
     },
     "execution_count": 75,
     "metadata": {},
     "output_type": "execute_result"
    }
   ],
   "source": [
    "np.any([8,0,1,-9])       ## has three non-zero values and one 0"
   ]
  },
  {
   "cell_type": "code",
   "execution_count": 77,
   "id": "b01adeb5",
   "metadata": {},
   "outputs": [
    {
     "data": {
      "text/plain": [
       "True"
      ]
     },
     "execution_count": 77,
     "metadata": {},
     "output_type": "execute_result"
    }
   ],
   "source": [
    "a = np.array([False, False, True, False])        ## has 1 True (non-zero) value\n",
    "\n",
    "a.any()"
   ]
  },
  {
   "cell_type": "code",
   "execution_count": 80,
   "id": "660c9c45",
   "metadata": {},
   "outputs": [
    {
     "data": {
      "text/plain": [
       "False"
      ]
     },
     "execution_count": 80,
     "metadata": {},
     "output_type": "execute_result"
    }
   ],
   "source": [
    "a = np.array([False] * 3)\n",
    "\n",
    "a.any()"
   ]
  },
  {
   "cell_type": "code",
   "execution_count": 104,
   "id": "86be2084",
   "metadata": {},
   "outputs": [
    {
     "data": {
      "text/plain": [
       "False"
      ]
     },
     "execution_count": 104,
     "metadata": {},
     "output_type": "execute_result"
    }
   ],
   "source": [
    "np.any(np.zeros(5))"
   ]
  },
  {
   "cell_type": "markdown",
   "id": "fd3a207a",
   "metadata": {},
   "source": [
    "<br>\n",
    "\n",
    "Given `arr` array, say True if there is at least one value in `arr` which is less than or equal to 0.6, otherwise print False.\n",
    "\n"
   ]
  },
  {
   "cell_type": "code",
   "execution_count": 3,
   "id": "669ebda2",
   "metadata": {},
   "outputs": [
    {
     "data": {
      "text/plain": [
       "array([0., 1., 2., 3.])"
      ]
     },
     "execution_count": 3,
     "metadata": {},
     "output_type": "execute_result"
    }
   ],
   "source": [
    "arr = 2 * np.arange(0,2,0.5)\n",
    "arr"
   ]
  },
  {
   "cell_type": "code",
   "execution_count": 4,
   "id": "aab59717",
   "metadata": {},
   "outputs": [
    {
     "data": {
      "text/plain": [
       "True"
      ]
     },
     "execution_count": 4,
     "metadata": {},
     "output_type": "execute_result"
    }
   ],
   "source": [
    "np.any(arr < 0.6)"
   ]
  },
  {
   "cell_type": "markdown",
   "id": "fbfac41f",
   "metadata": {},
   "source": [
    "<br>\n",
    "\n",
    "<b>`np.all()`</b>\n",
    "\n",
    "- checks if all elements are non-0 values (i.e, True).\n",
    "\n",
    "- if all elements are 0 (or, False) => returns `False`.\n",
    "\n",
    "- if all True values => returns `True`."
   ]
  },
  {
   "cell_type": "code",
   "execution_count": 83,
   "id": "c14a20c3",
   "metadata": {},
   "outputs": [
    {
     "data": {
      "text/plain": [
       "True"
      ]
     },
     "execution_count": 83,
     "metadata": {},
     "output_type": "execute_result"
    }
   ],
   "source": [
    "np.all(np.array([True, True, True, True]))"
   ]
  },
  {
   "cell_type": "code",
   "execution_count": 89,
   "id": "da593ed3",
   "metadata": {},
   "outputs": [
    {
     "data": {
      "text/plain": [
       "False"
      ]
     },
     "execution_count": 89,
     "metadata": {},
     "output_type": "execute_result"
    }
   ],
   "source": [
    "np.all(np.array([1,1,1,0,1]))"
   ]
  },
  {
   "cell_type": "code",
   "execution_count": 99,
   "id": "f76b6611",
   "metadata": {},
   "outputs": [
    {
     "data": {
      "text/plain": [
       "True"
      ]
     },
     "execution_count": 99,
     "metadata": {},
     "output_type": "execute_result"
    }
   ],
   "source": [
    "np.all(np.array([3,1,9,-1]))"
   ]
  },
  {
   "cell_type": "code",
   "execution_count": 110,
   "id": "50b5d855",
   "metadata": {},
   "outputs": [
    {
     "data": {
      "text/plain": [
       "False"
      ]
     },
     "execution_count": 110,
     "metadata": {},
     "output_type": "execute_result"
    }
   ],
   "source": [
    "np.all(np.array([False, False, True]))"
   ]
  },
  {
   "cell_type": "code",
   "execution_count": 109,
   "id": "0b0c139f",
   "metadata": {},
   "outputs": [
    {
     "name": "stdout",
     "output_type": "stream",
     "text": [
      "[False False  True False False]\n"
     ]
    },
    {
     "data": {
      "text/plain": [
       "True"
      ]
     },
     "execution_count": 109,
     "metadata": {},
     "output_type": "execute_result"
    }
   ],
   "source": [
    "a = np.array([4, 5, 8, 2, 0])\n",
    "b = np.array([1, 3, 8, 4, -1])\n",
    "\n",
    "mask = (a == b)\n",
    "\n",
    "print(mask)\n",
    "\n",
    "np.any(a == b)\n",
    "\n",
    "## want to know if any one value in `m` which is equal to a corresponding value in `n`. So, use .any()"
   ]
  },
  {
   "cell_type": "code",
   "execution_count": 119,
   "id": "1a21133a",
   "metadata": {},
   "outputs": [
    {
     "name": "stdout",
     "output_type": "stream",
     "text": [
      "[[ 1  2  3  4]\n",
      " [ 5  6  7  8]\n",
      " [ 9 10 11 12]]\n",
      "--------------------\n",
      "[[ 2  3  4  5]\n",
      " [ 6  4  8  9]\n",
      " [10 11  1 13]]\n"
     ]
    }
   ],
   "source": [
    "## example :\n",
    "\n",
    "g = np.arange(1, 13).reshape(3,4)\n",
    "h = np.arange(2, 14).reshape(3,4)\n",
    "h[1,1] = 4\n",
    "h[2,2] = 1\n",
    "\n",
    "print(g)\n",
    "print(\"-\" * 20)\n",
    "print(h)"
   ]
  },
  {
   "cell_type": "code",
   "execution_count": 120,
   "id": "e7d4ba60",
   "metadata": {},
   "outputs": [
    {
     "data": {
      "text/plain": [
       "array([False,  True,  True, False])"
      ]
     },
     "execution_count": 120,
     "metadata": {},
     "output_type": "execute_result"
    }
   ],
   "source": [
    "np.any(h < g, axis=0)      ## operation along vertical direction"
   ]
  },
  {
   "cell_type": "markdown",
   "id": "edf65edf",
   "metadata": {},
   "source": [
    "<br>\n",
    "<hr>\n",
    "\n",
    "### Sorting\n",
    "\n",
    "`.sort()` results in ascending sort only. Descending order can not be obtained. However, it can be worked around in a hacky way."
   ]
  },
  {
   "cell_type": "code",
   "execution_count": 128,
   "id": "55c8ac0b",
   "metadata": {},
   "outputs": [
    {
     "name": "stdout",
     "output_type": "stream",
     "text": [
      "[ 2 30 41  7  1 13 52]\n"
     ]
    },
    {
     "data": {
      "text/plain": [
       "array([ 1,  2,  7, 13, 30, 41, 52])"
      ]
     },
     "execution_count": 128,
     "metadata": {},
     "output_type": "execute_result"
    }
   ],
   "source": [
    "arr = np.array([2, 30, 41, 7, 1, 13, 52])\n",
    "print(arr)\n",
    "\n",
    "np.sort(arr)"
   ]
  },
  {
   "cell_type": "markdown",
   "id": "cadf7f11",
   "metadata": {},
   "source": [
    "Back find the indexes of sorted values in the original array => `.argsort()`\n",
    "\n",
    "Like, in original array `arr` :<br>\n",
    "13 is at index `5`<br>\n",
    "41 is at index `2`"
   ]
  },
  {
   "cell_type": "code",
   "execution_count": 129,
   "id": "7535e382",
   "metadata": {},
   "outputs": [
    {
     "data": {
      "text/plain": [
       "array([4, 0, 3, 5, 1, 2, 6], dtype=int64)"
      ]
     },
     "execution_count": 129,
     "metadata": {},
     "output_type": "execute_result"
    }
   ],
   "source": [
    "np.argsort(arr)"
   ]
  },
  {
   "cell_type": "markdown",
   "id": "6c4345d0",
   "metadata": {},
   "source": [
    "<br>\n",
    "\n",
    "Find index of minimum value :"
   ]
  },
  {
   "cell_type": "code",
   "execution_count": 130,
   "id": "83c64397",
   "metadata": {},
   "outputs": [
    {
     "data": {
      "text/plain": [
       "4"
      ]
     },
     "execution_count": 130,
     "metadata": {},
     "output_type": "execute_result"
    }
   ],
   "source": [
    "np.argmin(arr)\n",
    "\n",
    "## index `4` is the index of minimum value of arr"
   ]
  },
  {
   "cell_type": "markdown",
   "id": "480ef6aa",
   "metadata": {},
   "source": [
    "<br>\n",
    "\n",
    "Find index of maximum value :"
   ]
  },
  {
   "cell_type": "code",
   "execution_count": 131,
   "id": "0432125f",
   "metadata": {},
   "outputs": [
    {
     "data": {
      "text/plain": [
       "6"
      ]
     },
     "execution_count": 131,
     "metadata": {},
     "output_type": "execute_result"
    }
   ],
   "source": [
    "np.argmax(arr)"
   ]
  },
  {
   "cell_type": "markdown",
   "id": "600e5ddb",
   "metadata": {},
   "source": [
    "<br>\n",
    "\n",
    "<u>Sorting of 2-D arrays</u>\n",
    "\n",
    "**NOTE : last axis is taken as default axis of operation.**\n",
    "\n",
    "default axis for :\n",
    "- 3D array => 2\n",
    "- 2D array => 1"
   ]
  },
  {
   "cell_type": "code",
   "execution_count": 134,
   "id": "8c1c10d1",
   "metadata": {},
   "outputs": [
    {
     "name": "stdout",
     "output_type": "stream",
     "text": [
      "[[ 32  45  11]\n",
      " [  4   8   1]\n",
      " [ 10   3   7]\n",
      " [ 98  75 110]]\n"
     ]
    }
   ],
   "source": [
    "k = np.array([[32, 45, 11], [4, 8, 1], [10, 3, 7], [98, 75, 110]])\n",
    "\n",
    "print(k)"
   ]
  },
  {
   "cell_type": "code",
   "execution_count": 137,
   "id": "cb7007cf",
   "metadata": {},
   "outputs": [
    {
     "data": {
      "text/plain": [
       "array([[  4,   3,   1],\n",
       "       [ 10,   8,   7],\n",
       "       [ 32,  45,  11],\n",
       "       [ 98,  75, 110]])"
      ]
     },
     "execution_count": 137,
     "metadata": {},
     "output_type": "execute_result"
    }
   ],
   "source": [
    "np.sort(k, axis=0)    ## sorting in vertical direction"
   ]
  },
  {
   "cell_type": "code",
   "execution_count": 138,
   "id": "55960407",
   "metadata": {},
   "outputs": [
    {
     "data": {
      "text/plain": [
       "array([[ 11,  32,  45],\n",
       "       [  1,   4,   8],\n",
       "       [  3,   7,  10],\n",
       "       [ 75,  98, 110]])"
      ]
     },
     "execution_count": 138,
     "metadata": {},
     "output_type": "execute_result"
    }
   ],
   "source": [
    "np.sort(k, axis=1)   ## sort in horizontal direction"
   ]
  },
  {
   "cell_type": "code",
   "execution_count": 143,
   "id": "0dc8670f",
   "metadata": {},
   "outputs": [
    {
     "data": {
      "text/plain": [
       "array([[ 11,  32,  45],\n",
       "       [  1,   4,   8],\n",
       "       [  3,   7,  10],\n",
       "       [ 75,  98, 110]])"
      ]
     },
     "execution_count": 143,
     "metadata": {},
     "output_type": "execute_result"
    }
   ],
   "source": [
    "np.sort(k)\n",
    "\n",
    "## the last axis is taken to be default axis i.e. axis=1 in case of 2-D arrays"
   ]
  },
  {
   "cell_type": "code",
   "execution_count": null,
   "id": "a9d77301",
   "metadata": {},
   "outputs": [],
   "source": []
  },
  {
   "cell_type": "markdown",
   "id": "05f64460",
   "metadata": {},
   "source": [
    "<hr><hr><br>\n",
    "\n",
    "## Analyse a real-world dataset using Numpy\n",
    "\n",
    "Let's see and work with a Fitbit dataset of a person..."
   ]
  },
  {
   "cell_type": "code",
   "execution_count": 3,
   "id": "55f272a5",
   "metadata": {},
   "outputs": [],
   "source": [
    "fit_data = np.loadtxt(\"./datasets/fitness.txt\", dtype=\"str\")\n",
    "\n",
    "## dtype='str' will make every column's values to str type"
   ]
  },
  {
   "cell_type": "code",
   "execution_count": 4,
   "id": "ee34b8ce",
   "metadata": {},
   "outputs": [
    {
     "data": {
      "text/plain": [
       "array([['06-10-2017', '5464', '200', '181', '5', '0', '66'],\n",
       "       ['07-10-2017', '6041', '100', '197', '8', '0', '66'],\n",
       "       ['08-10-2017', '25', '100', '0', '5', '0', '66'],\n",
       "       ['09-10-2017', '5461', '100', '174', '4', '0', '66'],\n",
       "       ['10-10-2017', '6915', '200', '223', '5', '500', '66'],\n",
       "       ['11-10-2017', '4545', '100', '149', '6', '0', '66'],\n",
       "       ['12-10-2017', '4340', '100', '140', '6', '0', '66'],\n",
       "       ['13-10-2017', '1230', '100', '38', '7', '0', '66'],\n",
       "       ['14-10-2017', '61', '100', '1', '5', '0', '66'],\n",
       "       ['15-10-2017', '1258', '100', '40', '6', '0', '65'],\n",
       "       ['16-10-2017', '3148', '100', '101', '8', '0', '65'],\n",
       "       ['17-10-2017', '4687', '100', '152', '5', '0', '65'],\n",
       "       ['18-10-2017', '4732', '300', '150', '6', '500', '65'],\n",
       "       ['19-10-2017', '3519', '100', '113', '7', '0', '65'],\n",
       "       ['20-10-2017', '1580', '100', '49', '5', '0', '65'],\n",
       "       ['21-10-2017', '2822', '100', '86', '6', '0', '65'],\n",
       "       ['22-10-2017', '181', '100', '6', '8', '0', '65'],\n",
       "       ['23-10-2017', '3158', '200', '99', '5', '0', '65'],\n",
       "       ['24-10-2017', '4383', '200', '143', '4', '0', '64'],\n",
       "       ['25-10-2017', '3881', '200', '125', '5', '0', '64'],\n",
       "       ['26-10-2017', '4037', '200', '129', '6', '0', '64'],\n",
       "       ['27-10-2017', '202', '200', '6', '8', '0', '64'],\n",
       "       ['28-10-2017', '292', '200', '9', '5', '0', '64'],\n",
       "       ['29-10-2017', '330', '300', '10', '6', '0', '64'],\n",
       "       ['30-10-2017', '2209', '200', '72', '5', '0', '64'],\n",
       "       ['31-10-2017', '4550', '300', '150', '8', '500', '64'],\n",
       "       ['01-11-2017', '4435', '300', '141', '5', '0', '64'],\n",
       "       ['02-11-2017', '4779', '300', '156', '4', '0', '64'],\n",
       "       ['03-11-2017', '1831', '300', '57', '5', '0', '64'],\n",
       "       ['04-11-2017', '2255', '300', '72', '4', '0', '64'],\n",
       "       ['05-11-2017', '539', '300', '17', '5', '500', '64'],\n",
       "       ['06-11-2017', '5464', '300', '181', '4', '0', '64'],\n",
       "       ['07-11-2017', '6041', '200', '197', '3', '0', '64'],\n",
       "       ['08-11-2017', '4068', '300', '131', '2', '0', '64'],\n",
       "       ['09-11-2017', '4683', '300', '154', '9', '0', '64'],\n",
       "       ['10-11-2017', '4033', '300', '137', '5', '0', '64'],\n",
       "       ['11-11-2017', '6314', '300', '193', '6', '500', '64'],\n",
       "       ['12-11-2017', '614', '300', '19', '4', '500', '64'],\n",
       "       ['13-11-2017', '3149', '300', '101', '5', '500', '64'],\n",
       "       ['14-11-2017', '4005', '300', '139', '8', '500', '64'],\n",
       "       ['15-11-2017', '4880', '300', '164', '4', '500', '64'],\n",
       "       ['16-11-2017', '4136', '300', '137', '5', '500', '64'],\n",
       "       ['17-11-2017', '705', '300', '22', '6', '500', '64'],\n",
       "       ['18-11-2017', '570', '200', '17', '5', '500', '64'],\n",
       "       ['19-11-2017', '269', '300', '9', '6', '500', '64'],\n",
       "       ['20-11-2017', '4275', '300', '145', '5', '0', '64'],\n",
       "       ['21-11-2017', '5999', '300', '192', '6', '0', '64'],\n",
       "       ['22-11-2017', '4421', '300', '146', '5', '0', '64'],\n",
       "       ['23-11-2017', '6930', '300', '234', '6', '0', '64'],\n",
       "       ['24-11-2017', '5195', '300', '167', '5', '0', '64'],\n",
       "       ['25-11-2017', '546', '300', '16', '6', '0', '64'],\n",
       "       ['26-11-2017', '493', '300', '17', '7', '500', '64'],\n",
       "       ['27-11-2017', '995', '300', '32', '6', '500', '64'],\n",
       "       ['28-11-2017', '1163', '200', '35', '7', '500', '64'],\n",
       "       ['29-11-2017', '6676', '100', '220', '6', '500', '64'],\n",
       "       ['30-11-2017', '3608', '300', '116', '5', '500', '64'],\n",
       "       ['01-12-2017', '774', '300', '23', '6', '500', '64'],\n",
       "       ['02-12-2017', '1421', '300', '44', '7', '500', '64'],\n",
       "       ['03-12-2017', '4064', '300', '131', '8', '500', '64'],\n",
       "       ['04-12-2017', '2725', '300', '86', '8', '500', '64'],\n",
       "       ['05-12-2017', '5934', '300', '194', '7', '500', '64'],\n",
       "       ['06-12-2017', '1867', '300', '60', '8', '500', '64'],\n",
       "       ['07-12-2017', '3721', '100', '121', '5', '500', '64'],\n",
       "       ['08-12-2017', '2374', '200', '76', '4', '0', '64'],\n",
       "       ['09-12-2017', '2909', '200', '93', '3', '500', '64'],\n",
       "       ['10-12-2017', '1648', '100', '53', '3', '500', '64'],\n",
       "       ['11-12-2017', '799', '100', '25', '4', '0', '64'],\n",
       "       ['12-12-2017', '7102', '200', '227', '5', '500', '64'],\n",
       "       ['13-12-2017', '3941', '200', '125', '5', '500', '64'],\n",
       "       ['14-12-2017', '7422', '300', '243', '5', '500', '64'],\n",
       "       ['15-12-2017', '437', '200', '14', '3', '500', '64'],\n",
       "       ['16-12-2017', '1231', '200', '39', '4', '500', '64'],\n",
       "       ['17-12-2017', '1696', '100', '55', '4', '0', '64'],\n",
       "       ['18-12-2017', '4921', '200', '158', '5', '500', '64'],\n",
       "       ['19-12-2017', '221', '100', '7', '5', '500', '64'],\n",
       "       ['20-12-2017', '6500', '200', '213', '5', '500', '64'],\n",
       "       ['21-12-2017', '3575', '200', '116', '5', '500', '64'],\n",
       "       ['22-12-2017', '4061', '100', '129', '5', '0', '64'],\n",
       "       ['23-12-2017', '651', '100', '21', '5', '0', '64'],\n",
       "       ['24-12-2017', '753', '100', '28', '4', '0', '64'],\n",
       "       ['25-12-2017', '518', '100', '16', '3', '0', '64'],\n",
       "       ['26-12-2017', '5537', '300', '180', '4', '500', '64'],\n",
       "       ['27-12-2017', '4108', '200', '138', '5', '500', '64'],\n",
       "       ['28-12-2017', '5376', '300', '176', '5', '500', '64'],\n",
       "       ['29-12-2017', '3066', '200', '99', '4', '500', '64'],\n",
       "       ['30-12-2017', '177', '100', '5', '5', '0', '64'],\n",
       "       ['31-12-2017', '36', '100', '1', '3', '0', '64'],\n",
       "       ['01-01-2018', '299', '100', '10', '3', '0', '64'],\n",
       "       ['02-01-2018', '1447', '200', '47', '3', '0', '64'],\n",
       "       ['03-01-2018', '2599', '200', '84', '2', '0', '64'],\n",
       "       ['04-01-2018', '702', '100', '23', '3', '0', '64'],\n",
       "       ['05-01-2018', '133', '100', '4', '2', '0', '64'],\n",
       "       ['06-01-2018', '153', '300', '0', '8', '0', '64'],\n",
       "       ['07-01-2018', '500', '200', '0', '5', '500', '64'],\n",
       "       ['08-01-2018', '2127', '200', '0', '5', '0', '64'],\n",
       "       ['09-01-2018', '2203', '300', '0', '5', '500', '64']], dtype='<U10')"
      ]
     },
     "execution_count": 4,
     "metadata": {},
     "output_type": "execute_result"
    }
   ],
   "source": [
    "fit_data"
   ]
  },
  {
   "cell_type": "code",
   "execution_count": 5,
   "id": "d623c6db",
   "metadata": {},
   "outputs": [
    {
     "name": "stdout",
     "output_type": "stream",
     "text": [
      "2\n",
      "(96, 7)\n",
      "672\n"
     ]
    }
   ],
   "source": [
    "print(fit_data.ndim)\n",
    "\n",
    "print(fit_data.shape)\n",
    "\n",
    "print(fit_data.size)"
   ]
  },
  {
   "cell_type": "code",
   "execution_count": 6,
   "id": "cee110ec",
   "metadata": {},
   "outputs": [],
   "source": [
    "## let's unpack all columns into respective variables\n",
    "\n",
    "date, step_count, mood, calories_burned, hours_of_sleep, bool_active, weight = fit_data.T"
   ]
  },
  {
   "cell_type": "code",
   "execution_count": 7,
   "id": "a6b13e30",
   "metadata": {},
   "outputs": [
    {
     "data": {
      "text/plain": [
       "array([5464, 6041,   25, 5461, 6915, 4545, 4340, 1230,   61, 1258, 3148,\n",
       "       4687, 4732, 3519, 1580, 2822,  181, 3158, 4383, 3881, 4037,  202,\n",
       "        292,  330, 2209, 4550, 4435, 4779, 1831, 2255,  539, 5464, 6041,\n",
       "       4068, 4683, 4033, 6314,  614, 3149, 4005, 4880, 4136,  705,  570,\n",
       "        269, 4275, 5999, 4421, 6930, 5195,  546,  493,  995, 1163, 6676,\n",
       "       3608,  774, 1421, 4064, 2725, 5934, 1867, 3721, 2374, 2909, 1648,\n",
       "        799, 7102, 3941, 7422,  437, 1231, 1696, 4921,  221, 6500, 3575,\n",
       "       4061,  651,  753,  518, 5537, 4108, 5376, 3066,  177,   36,  299,\n",
       "       1447, 2599,  702,  133,  153,  500, 2127, 2203])"
      ]
     },
     "execution_count": 7,
     "metadata": {},
     "output_type": "execute_result"
    }
   ],
   "source": [
    "step_count      = step_count.astype(int)\n",
    "calories_burned = calories_burned.astype('int')\n",
    "hours_of_sleep  = hours_of_sleep.astype('int')\n",
    "\n",
    "step_count\n",
    "\n",
    "## convert step_count, calories_burned, hours_of_sleep to integer type, as it's obvious to do so."
   ]
  },
  {
   "cell_type": "markdown",
   "id": "b65f007a",
   "metadata": {},
   "source": [
    "`mood` and `bool_active` columns looks categorical in nature, as it only contains string-type values like -> \"300\" , \"200\" & \"100\".\n",
    "\n",
    "This can be pre-processed into more intuitive way, using Boolean Masking, like below :\n",
    "\n",
    "`mood` :\n",
    "- \"300\" => \"Happy\"\n",
    "- \"200\" => \"Neutral\"\n",
    "- \"100\" => \"Sad\"\n",
    "\n",
    "`bool_active` :\n",
    "- \"500\" => \"Active\"\n",
    "- \"0\" => \"Inactive\""
   ]
  },
  {
   "cell_type": "code",
   "execution_count": 10,
   "id": "8c115324",
   "metadata": {},
   "outputs": [],
   "source": [
    "mood[mood == \"300\"] = \"Happy\"\n",
    "mood[mood == \"200\"] = \"Neutral\"\n",
    "mood[mood == \"100\"] = \"Sad\"\n",
    "\n",
    "bool_active[bool_active == \"500\"] = \"Active\"\n",
    "bool_active[bool_active == \"0\"]   = \"Inactive\""
   ]
  },
  {
   "cell_type": "code",
   "execution_count": 16,
   "id": "289957a1",
   "metadata": {},
   "outputs": [
    {
     "name": "stdout",
     "output_type": "stream",
     "text": [
      "['Neutral' 'Sad' 'Sad' 'Sad' 'Neutral' 'Sad' 'Sad' 'Sad' 'Sad' 'Sad' 'Sad'\n",
      " 'Sad' 'Happy' 'Sad' 'Sad' 'Sad' 'Sad' 'Neutral' 'Neutral' 'Neutral'\n",
      " 'Neutral' 'Neutral' 'Neutral' 'Happy' 'Neutral' 'Happy' 'Happy' 'Happy'\n",
      " 'Happy' 'Happy' 'Happy' 'Happy' 'Neutral' 'Happy' 'Happy' 'Happy' 'Happy'\n",
      " 'Happy' 'Happy' 'Happy' 'Happy' 'Happy' 'Happy' 'Neutral' 'Happy' 'Happy'\n",
      " 'Happy' 'Happy' 'Happy' 'Happy' 'Happy' 'Happy' 'Happy' 'Neutral' 'Sad'\n",
      " 'Happy' 'Happy' 'Happy' 'Happy' 'Happy' 'Happy' 'Happy' 'Sad' 'Neutral'\n",
      " 'Neutral' 'Sad' 'Sad' 'Neutral' 'Neutral' 'Happy' 'Neutral' 'Neutral'\n",
      " 'Sad' 'Neutral' 'Sad' 'Neutral' 'Neutral' 'Sad' 'Sad' 'Sad' 'Sad' 'Happy'\n",
      " 'Neutral' 'Happy' 'Neutral' 'Sad' 'Sad' 'Sad' 'Neutral' 'Neutral' 'Sad'\n",
      " 'Sad' 'Happy' 'Neutral' 'Neutral' 'Happy']\n",
      "----------------------------------------------------------------------------------------------------\n",
      "['Inactive' 'Inactive' 'Inactive' 'Inactive' 'Active' 'Inactive'\n",
      " 'Inactive' 'Inactive' 'Inactive' 'Inactive' 'Inactive' 'Inactive'\n",
      " 'Active' 'Inactive' 'Inactive' 'Inactive' 'Inactive' 'Inactive'\n",
      " 'Inactive' 'Inactive' 'Inactive' 'Inactive' 'Inactive' 'Inactive'\n",
      " 'Inactive' 'Active' 'Inactive' 'Inactive' 'Inactive' 'Inactive' 'Active'\n",
      " 'Inactive' 'Inactive' 'Inactive' 'Inactive' 'Inactive' 'Active' 'Active'\n",
      " 'Active' 'Active' 'Active' 'Active' 'Active' 'Active' 'Active' 'Inactive'\n",
      " 'Inactive' 'Inactive' 'Inactive' 'Inactive' 'Inactive' 'Active' 'Active'\n",
      " 'Active' 'Active' 'Active' 'Active' 'Active' 'Active' 'Active' 'Active'\n",
      " 'Active' 'Active' 'Inactive' 'Active' 'Active' 'Inactive' 'Active'\n",
      " 'Active' 'Active' 'Active' 'Active' 'Inactive' 'Active' 'Active' 'Active'\n",
      " 'Active' 'Inactive' 'Inactive' 'Inactive' 'Inactive' 'Active' 'Active'\n",
      " 'Active' 'Active' 'Inactive' 'Inactive' 'Inactive' 'Inactive' 'Inactive'\n",
      " 'Inactive' 'Inactive' 'Inactive' 'Active' 'Inactive' 'Active']\n"
     ]
    }
   ],
   "source": [
    "print(mood)\n",
    "\n",
    "print(\"-\" * 100)\n",
    "\n",
    "print(bool_active)"
   ]
  },
  {
   "cell_type": "markdown",
   "id": "d1f96b37",
   "metadata": {},
   "source": [
    "<br>\n",
    "\n",
    "What is average step counts that the person took each day?"
   ]
  },
  {
   "cell_type": "code",
   "execution_count": 17,
   "id": "5c276ec1",
   "metadata": {},
   "outputs": [
    {
     "data": {
      "text/plain": [
       "2935.9375"
      ]
     },
     "execution_count": 17,
     "metadata": {},
     "output_type": "execute_result"
    }
   ],
   "source": [
    "np.mean(step_count)"
   ]
  },
  {
   "cell_type": "code",
   "execution_count": 18,
   "id": "b3aa6b82",
   "metadata": {},
   "outputs": [
    {
     "name": "stdout",
     "output_type": "stream",
     "text": [
      "Object `has` not found.\n"
     ]
    }
   ],
   "source": [
    "Highest step count that the person has?"
   ]
  },
  {
   "cell_type": "markdown",
   "id": "5292bad0",
   "metadata": {},
   "source": [
    "<br>\n",
    "\n",
    "Find the dates, when he took maximum and minumum number of steps?"
   ]
  },
  {
   "cell_type": "code",
   "execution_count": 20,
   "id": "faaed9cd",
   "metadata": {},
   "outputs": [
    {
     "data": {
      "text/plain": [
       "'14-12-2017'"
      ]
     },
     "execution_count": 20,
     "metadata": {},
     "output_type": "execute_result"
    }
   ],
   "source": [
    "date[step_count.argmax()]\n",
    "\n",
    "## 14-Dec-2017"
   ]
  },
  {
   "cell_type": "code",
   "execution_count": 21,
   "id": "894e63d9",
   "metadata": {},
   "outputs": [
    {
     "data": {
      "text/plain": [
       "'08-10-2017'"
      ]
     },
     "execution_count": 21,
     "metadata": {},
     "output_type": "execute_result"
    }
   ],
   "source": [
    "date[step_count.argmin()]\n",
    "\n",
    "## find the index of minimum `step_count` and use that index to fetch the date"
   ]
  },
  {
   "cell_type": "markdown",
   "id": "b424a4cb",
   "metadata": {},
   "source": [
    "<br>\n",
    "\n",
    "Find the no. of times he was Happy, Sad or Neutral ?"
   ]
  },
  {
   "cell_type": "code",
   "execution_count": 22,
   "id": "0044425c",
   "metadata": {},
   "outputs": [
    {
     "data": {
      "text/plain": [
       "(40,)"
      ]
     },
     "execution_count": 22,
     "metadata": {},
     "output_type": "execute_result"
    }
   ],
   "source": [
    "## since this is a 1-D array. We can get the count of \"Happy\", via .shape\n",
    "\n",
    "mood[mood == \"Happy\"].shape\n",
    "\n",
    "## 40 times Happy"
   ]
  },
  {
   "cell_type": "code",
   "execution_count": 23,
   "id": "48e8f98d",
   "metadata": {},
   "outputs": [
    {
     "data": {
      "text/plain": [
       "(27,)"
      ]
     },
     "execution_count": 23,
     "metadata": {},
     "output_type": "execute_result"
    }
   ],
   "source": [
    "mood[mood == \"Neutral\"].shape\n",
    "\n",
    "## 27 times Neutral"
   ]
  },
  {
   "cell_type": "code",
   "execution_count": 24,
   "id": "7fcf113b",
   "metadata": {},
   "outputs": [
    {
     "data": {
      "text/plain": [
       "(29,)"
      ]
     },
     "execution_count": 24,
     "metadata": {},
     "output_type": "execute_result"
    }
   ],
   "source": [
    "mood[mood == \"Sad\"].shape\n",
    "\n",
    "## 29 times Sad"
   ]
  },
  {
   "cell_type": "markdown",
   "id": "4c2ae4da",
   "metadata": {},
   "source": [
    "can also be done by using **`np.unique()`** :\n",
    "\n",
    "- `return_counts` arg gives the frequency of each unique occurence."
   ]
  },
  {
   "cell_type": "code",
   "execution_count": 26,
   "id": "f837c382",
   "metadata": {},
   "outputs": [
    {
     "data": {
      "text/plain": [
       "(array(['Happy', 'Neutral', 'Sad'], dtype='<U10'),\n",
       " array([40, 27, 29], dtype=int64))"
      ]
     },
     "execution_count": 26,
     "metadata": {},
     "output_type": "execute_result"
    }
   ],
   "source": [
    "np.unique(mood, return_counts=True)"
   ]
  },
  {
   "cell_type": "markdown",
   "id": "61b1aa6e",
   "metadata": {},
   "source": [
    "<br>\n",
    "\n",
    "Similarly, number of Active and Inactive days can be determined :"
   ]
  },
  {
   "cell_type": "code",
   "execution_count": 27,
   "id": "7a72abf8",
   "metadata": {},
   "outputs": [
    {
     "data": {
      "text/plain": [
       "(array(['Active', 'Inactive'], dtype='<U10'), array([42, 54], dtype=int64))"
      ]
     },
     "execution_count": 27,
     "metadata": {},
     "output_type": "execute_result"
    }
   ],
   "source": [
    "np.unique(bool_active, return_counts=True)\n",
    "\n",
    "## Active days   = 42\n",
    "## Inactive days = 54"
   ]
  },
  {
   "cell_type": "markdown",
   "id": "99e34ccf",
   "metadata": {},
   "source": [
    "<br>\n",
    "\n",
    "Let's determine, if he is \"Happy\" or \"Sad\" then what's the average count of steps he takes ?"
   ]
  },
  {
   "cell_type": "code",
   "execution_count": 28,
   "id": "a9205a9d",
   "metadata": {},
   "outputs": [
    {
     "data": {
      "text/plain": [
       "3392.725"
      ]
     },
     "execution_count": 28,
     "metadata": {},
     "output_type": "execute_result"
    }
   ],
   "source": [
    "np.mean(step_count[mood == \"Happy\"])\n",
    "\n",
    "## ie. on an average, the person walks ~3392 steps on Happy days"
   ]
  },
  {
   "cell_type": "code",
   "execution_count": 29,
   "id": "3a631c4b",
   "metadata": {},
   "outputs": [
    {
     "data": {
      "text/plain": [
       "2103.0689655172414"
      ]
     },
     "execution_count": 29,
     "metadata": {},
     "output_type": "execute_result"
    }
   ],
   "source": [
    "np.mean(step_count[mood == \"Sad\"])"
   ]
  },
  {
   "cell_type": "markdown",
   "id": "631eafcb",
   "metadata": {},
   "source": [
    "<br>\n",
    "\n",
    "*In this way, we can derive various insights by understanding relationship between person's mood, weight, walking steps, etc features.*\n",
    "\n",
    "<br>\n",
    "What are his mood patterns, when he was walking >4000 steps each day?"
   ]
  },
  {
   "cell_type": "code",
   "execution_count": 30,
   "id": "33520b4a",
   "metadata": {},
   "outputs": [
    {
     "data": {
      "text/plain": [
       "(array(['Happy', 'Neutral', 'Sad'], dtype='<U10'),\n",
       " array([22,  9,  7], dtype=int64))"
      ]
     },
     "execution_count": 30,
     "metadata": {},
     "output_type": "execute_result"
    }
   ],
   "source": [
    "np.unique(mood[step_count > 4000], return_counts=True)\n",
    "\n",
    "## 22 days were Happy,\n",
    "## 9 days were Neutral,\n",
    "## 7 days he was Dad"
   ]
  },
  {
   "cell_type": "code",
   "execution_count": 31,
   "id": "3d818dc0",
   "metadata": {},
   "outputs": [
    {
     "data": {
      "text/plain": [
       "(array(['Happy', 'Neutral', 'Sad'], dtype='<U10'),\n",
       " array([13,  8, 18], dtype=int64))"
      ]
     },
     "execution_count": 31,
     "metadata": {},
     "output_type": "execute_result"
    }
   ],
   "source": [
    "np.unique(mood[step_count < 2000], return_counts=True)"
   ]
  },
  {
   "cell_type": "code",
   "execution_count": null,
   "id": "838faccb",
   "metadata": {},
   "outputs": [],
   "source": []
  }
 ],
 "metadata": {
  "kernelspec": {
   "display_name": "Python 3 (ipykernel)",
   "language": "python",
   "name": "python3"
  },
  "language_info": {
   "codemirror_mode": {
    "name": "ipython",
    "version": 3
   },
   "file_extension": ".py",
   "mimetype": "text/x-python",
   "name": "python",
   "nbconvert_exporter": "python",
   "pygments_lexer": "ipython3",
   "version": "3.8.10"
  }
 },
 "nbformat": 4,
 "nbformat_minor": 5
}
