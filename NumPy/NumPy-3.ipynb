{
 "cells": [
  {
   "cell_type": "markdown",
   "id": "ad4ec384",
   "metadata": {},
   "source": [
    "### Concatenate\n",
    "\n",
    "This involves join/stack multiple arrays together in vertical or horizontal manner.\n",
    "\n",
    "By default, concatenate happens in vertical direction, where `axis=0`.\n",
    "- With 1-D arrays, their last (and also, first) axis is `0`. So axis=1 would error because it doesn't exist for a 1D array.\n",
    "<br>\n",
    "\n",
    "- `c = np.concatenate(a, b)` is possible ; iff `a.ndim` == `b.ndim`. Resultingly, dimension of `c` will also be same."
   ]
  },
  {
   "cell_type": "code",
   "execution_count": 8,
   "id": "53e4acab",
   "metadata": {},
   "outputs": [
    {
     "name": "stdout",
     "output_type": "stream",
     "text": [
      "[1 2 3 4]\n",
      "(4,)\n",
      "[10 11 12 13 14]\n",
      "(5,)\n"
     ]
    }
   ],
   "source": [
    "## 1D array\n",
    "\n",
    "a = np.arange(1,5)\n",
    "b = np.arange(10,15)\n",
    "\n",
    "print(a)\n",
    "print(a.shape)\n",
    "\n",
    "print(b)\n",
    "print(b.shape)"
   ]
  },
  {
   "cell_type": "code",
   "execution_count": 9,
   "id": "7c1d24b3",
   "metadata": {},
   "outputs": [
    {
     "data": {
      "text/plain": [
       "array([ 1,  2,  3,  4, 10, 11, 12, 13, 14])"
      ]
     },
     "execution_count": 9,
     "metadata": {},
     "output_type": "execute_result"
    }
   ],
   "source": [
    "np.concatenate([a,b])\n",
    "\n",
    "## this appears to be a horizontal concatenation, but since 1-D arrays are vectors, so on being displayed their elements\n",
    "## appear in horizontal manner"
   ]
  },
  {
   "cell_type": "code",
   "execution_count": 11,
   "id": "d59a1be9",
   "metadata": {},
   "outputs": [
    {
     "ename": "AxisError",
     "evalue": "axis 1 is out of bounds for array of dimension 1",
     "output_type": "error",
     "traceback": [
      "\u001b[1;31m---------------------------------------------------------------------------\u001b[0m",
      "\u001b[1;31mAxisError\u001b[0m                                 Traceback (most recent call last)",
      "Input \u001b[1;32mIn [11]\u001b[0m, in \u001b[0;36m<module>\u001b[1;34m\u001b[0m\n\u001b[1;32m----> 1\u001b[0m \u001b[43mnp\u001b[49m\u001b[38;5;241;43m.\u001b[39;49m\u001b[43mconcatenate\u001b[49m\u001b[43m(\u001b[49m\u001b[43m[\u001b[49m\u001b[43ma\u001b[49m\u001b[43m,\u001b[49m\u001b[43mb\u001b[49m\u001b[43m]\u001b[49m\u001b[43m,\u001b[49m\u001b[43m \u001b[49m\u001b[43maxis\u001b[49m\u001b[38;5;241;43m=\u001b[39;49m\u001b[38;5;241;43m1\u001b[39;49m\u001b[43m)\u001b[49m\n",
      "File \u001b[1;32m<__array_function__ internals>:180\u001b[0m, in \u001b[0;36mconcatenate\u001b[1;34m(*args, **kwargs)\u001b[0m\n",
      "\u001b[1;31mAxisError\u001b[0m: axis 1 is out of bounds for array of dimension 1"
     ]
    }
   ],
   "source": [
    "np.concatenate([a,b], axis=1)\n",
    "\n",
    "## vertical concate isn't possible in 1-D arrays"
   ]
  },
  {
   "cell_type": "code",
   "execution_count": 12,
   "id": "c29ec4ea",
   "metadata": {},
   "outputs": [
    {
     "data": {
      "text/plain": [
       "array([ 1,  2,  3,  4, 10, 11, 12, 13, 14])"
      ]
     },
     "execution_count": 12,
     "metadata": {},
     "output_type": "execute_result"
    }
   ],
   "source": [
    "np.concatenate([a,b], axis=0)"
   ]
  },
  {
   "cell_type": "code",
   "execution_count": 18,
   "id": "5d917ce5",
   "metadata": {},
   "outputs": [
    {
     "name": "stdout",
     "output_type": "stream",
     "text": [
      "[[1 2 3 4]]\n",
      "(1, 4)\n",
      "2\n",
      "--------------------\n",
      "[[1 2 3 4]]\n",
      "(1, 4)\n",
      "2\n"
     ]
    }
   ],
   "source": [
    "## 2-D array\n",
    "\n",
    "d = np.arange(1,5).reshape((1,4))\n",
    "e = np.arange(1,5).reshape((1,4))\n",
    "\n",
    "print(d)\n",
    "print(d.shape)\n",
    "print(d.ndim)\n",
    "\n",
    "print(\"-\" * 20)\n",
    "\n",
    "print(e)\n",
    "print(e.shape)\n",
    "print(e.ndim)"
   ]
  },
  {
   "cell_type": "code",
   "execution_count": 19,
   "id": "5922fbdc",
   "metadata": {},
   "outputs": [
    {
     "data": {
      "text/plain": [
       "array([[1, 2, 3, 4],\n",
       "       [1, 2, 3, 4]])"
      ]
     },
     "execution_count": 19,
     "metadata": {},
     "output_type": "execute_result"
    }
   ],
   "source": [
    "np.concatenate((d,e))\n",
    "\n",
    "## default concateneation would happen vertically ie. axis=0"
   ]
  },
  {
   "cell_type": "code",
   "execution_count": 20,
   "id": "263269ad",
   "metadata": {},
   "outputs": [
    {
     "data": {
      "text/plain": [
       "array([[1, 2, 3, 4, 1, 2, 3, 4]])"
      ]
     },
     "execution_count": 20,
     "metadata": {},
     "output_type": "execute_result"
    }
   ],
   "source": [
    "np.concatenate((d,e), axis=1)"
   ]
  },
  {
   "cell_type": "code",
   "execution_count": 21,
   "id": "57f0dd49",
   "metadata": {},
   "outputs": [
    {
     "data": {
      "text/plain": [
       "array([[1, 2, 3, 4],\n",
       "       [1, 2, 3, 4]])"
      ]
     },
     "execution_count": 21,
     "metadata": {},
     "output_type": "execute_result"
    }
   ],
   "source": [
    "np.concatenate((d,e), axis=0)\n",
    "\n",
    "## concateneation in vertical direction"
   ]
  },
  {
   "cell_type": "code",
   "execution_count": 32,
   "id": "f7400791",
   "metadata": {},
   "outputs": [
    {
     "data": {
      "text/plain": [
       "array([[ 1,  2,  3,  4],\n",
       "       [ 5,  6,  7,  8],\n",
       "       [ 9, 10, 11, 12],\n",
       "       [ 1,  2,  3,  4],\n",
       "       [ 5,  6,  7,  8],\n",
       "       [ 9, 10, 11, 12]])"
      ]
     },
     "execution_count": 32,
     "metadata": {},
     "output_type": "execute_result"
    }
   ],
   "source": [
    "## example :\n",
    "\n",
    "## default concate happens along vertical direction\n",
    "\n",
    "x = np.arange(1,13).reshape(3,4)\n",
    "y = np.arange(1,13).reshape(3,4)\n",
    "\n",
    "np.concatenate((x,y))"
   ]
  },
  {
   "cell_type": "code",
   "execution_count": 33,
   "id": "a58a6693",
   "metadata": {},
   "outputs": [
    {
     "data": {
      "text/plain": [
       "array([[ 1,  2,  3,  4,  1,  2,  3,  4],\n",
       "       [ 5,  6,  7,  8,  5,  6,  7,  8],\n",
       "       [ 9, 10, 11, 12,  9, 10, 11, 12]])"
      ]
     },
     "execution_count": 33,
     "metadata": {},
     "output_type": "execute_result"
    }
   ],
   "source": [
    "np.concatenate((x,y), axis=1)\n",
    "\n",
    "## horizontal direction"
   ]
  },
  {
   "cell_type": "code",
   "execution_count": null,
   "id": "861fc3de",
   "metadata": {},
   "outputs": [],
   "source": []
  },
  {
   "cell_type": "code",
   "execution_count": 37,
   "id": "a77ccfb1",
   "metadata": {},
   "outputs": [
    {
     "name": "stdout",
     "output_type": "stream",
     "text": [
      "[[ 1  2  3  4]\n",
      " [ 5  6  7  8]\n",
      " [ 9 10 11 12]]\n",
      "(3, 4)\n",
      "2\n",
      "------------------------------\n",
      "[[-1 -2 -3 -4]]\n",
      "(1, 4)\n",
      "2\n"
     ]
    }
   ],
   "source": [
    "## example:\n",
    "\n",
    "d = np.arange(1,13).reshape(3,4)\n",
    "e = np.arange(-1,-5,-1).reshape(1,4)\n",
    "\n",
    "print(d)\n",
    "print(d.shape)\n",
    "print(d.ndim)\n",
    "\n",
    "print(\"-\" * 30)\n",
    "\n",
    "print(e)\n",
    "print(e.shape)\n",
    "print(e.ndim)"
   ]
  },
  {
   "cell_type": "code",
   "execution_count": 38,
   "id": "fcc791e7",
   "metadata": {},
   "outputs": [
    {
     "data": {
      "text/plain": [
       "array([[ 1,  2,  3,  4],\n",
       "       [ 5,  6,  7,  8],\n",
       "       [ 9, 10, 11, 12],\n",
       "       [-1, -2, -3, -4]])"
      ]
     },
     "execution_count": 38,
     "metadata": {},
     "output_type": "execute_result"
    }
   ],
   "source": [
    "np.concatenate((d,e))"
   ]
  },
  {
   "cell_type": "code",
   "execution_count": 39,
   "id": "0c4a90db",
   "metadata": {},
   "outputs": [
    {
     "ename": "ValueError",
     "evalue": "all the input array dimensions for the concatenation axis must match exactly, but along dimension 0, the array at index 0 has size 3 and the array at index 1 has size 1",
     "output_type": "error",
     "traceback": [
      "\u001b[1;31m---------------------------------------------------------------------------\u001b[0m",
      "\u001b[1;31mValueError\u001b[0m                                Traceback (most recent call last)",
      "Input \u001b[1;32mIn [39]\u001b[0m, in \u001b[0;36m<module>\u001b[1;34m\u001b[0m\n\u001b[1;32m----> 1\u001b[0m \u001b[43mnp\u001b[49m\u001b[38;5;241;43m.\u001b[39;49m\u001b[43mconcatenate\u001b[49m\u001b[43m(\u001b[49m\u001b[43m(\u001b[49m\u001b[43md\u001b[49m\u001b[43m,\u001b[49m\u001b[43me\u001b[49m\u001b[43m)\u001b[49m\u001b[43m,\u001b[49m\u001b[43m \u001b[49m\u001b[43maxis\u001b[49m\u001b[38;5;241;43m=\u001b[39;49m\u001b[38;5;241;43m1\u001b[39;49m\u001b[43m)\u001b[49m\n",
      "File \u001b[1;32m<__array_function__ internals>:180\u001b[0m, in \u001b[0;36mconcatenate\u001b[1;34m(*args, **kwargs)\u001b[0m\n",
      "\u001b[1;31mValueError\u001b[0m: all the input array dimensions for the concatenation axis must match exactly, but along dimension 0, the array at index 0 has size 3 and the array at index 1 has size 1"
     ]
    }
   ],
   "source": [
    "np.concatenate((d,e), axis=1)\n",
    "\n",
    "## this will NOT workout"
   ]
  },
  {
   "cell_type": "markdown",
   "id": "9b41b120",
   "metadata": {},
   "source": [
    "<br>\n",
    "\n",
    "For arrays with 2-D or higher dimention, logically, if concatenation is to be done in :<br>\n",
    "- horizontal direction => `a` and `b` should have equal number of **rows**.\n",
    "<br>\n",
    "\n",
    "- vertical direction => `a` and `b` should have equal number of **columns**.\n",
    "\n",
    "(keep in mind, a.ndim == b.ndim is a prerequisite for concatenation)"
   ]
  },
  {
   "cell_type": "code",
   "execution_count": null,
   "id": "fe9d1f03",
   "metadata": {},
   "outputs": [],
   "source": []
  },
  {
   "cell_type": "markdown",
   "id": "ed119046",
   "metadata": {},
   "source": [
    "### Stacking\n",
    "\n",
    "- `hstack`\n",
    "- `vstack`"
   ]
  },
  {
   "cell_type": "code",
   "execution_count": 41,
   "id": "ca5917d1",
   "metadata": {},
   "outputs": [
    {
     "name": "stdout",
     "output_type": "stream",
     "text": [
      "[1 2 3 4]\n",
      "(4,)\n",
      "1\n",
      "--------------------\n",
      "[1 2 3 4]\n",
      "(4,)\n",
      "1\n"
     ]
    }
   ],
   "source": [
    "## 1-D array\n",
    "\n",
    "## both arrays are 1-D\n",
    "\n",
    "x = np.arange(1,5)\n",
    "y = np.arange(1,5)\n",
    "\n",
    "print(x)\n",
    "print(x.shape)\n",
    "print(x.ndim)\n",
    "\n",
    "print(\"-\" * 20)\n",
    "\n",
    "print(y)\n",
    "print(y.shape)\n",
    "print(y.ndim)"
   ]
  },
  {
   "cell_type": "code",
   "execution_count": 46,
   "id": "c8211430",
   "metadata": {},
   "outputs": [
    {
     "name": "stdout",
     "output_type": "stream",
     "text": [
      "after h-stacking =>  [1 2 3 4 1 2 3 4]\n",
      "1\n",
      "(8,)\n"
     ]
    }
   ],
   "source": [
    "h_xy = np.hstack((x, y))\n",
    "\n",
    "print(\"after h-stacking => \",h_xy)\n",
    "print(h_xy.ndim)\n",
    "print(h_xy.shape)"
   ]
  },
  {
   "cell_type": "code",
   "execution_count": 49,
   "id": "6bb906ff",
   "metadata": {},
   "outputs": [
    {
     "name": "stdout",
     "output_type": "stream",
     "text": [
      "after v-stacking =>  [[1 2 3 4]\n",
      " [1 2 3 4]]\n",
      "----------\n",
      "2\n",
      "(2, 4)\n"
     ]
    }
   ],
   "source": [
    "v_xy = np.vstack((x,y))\n",
    "\n",
    "print(\"after v-stacking => \",v_xy)\n",
    "print(\"-\" * 10)\n",
    "print(v_xy.ndim)\n",
    "print(v_xy.shape)\n",
    "\n",
    "## here, the dimension of resultant array gets upcasted to 2 dimension"
   ]
  },
  {
   "cell_type": "code",
   "execution_count": 52,
   "id": "fc87956a",
   "metadata": {},
   "outputs": [
    {
     "name": "stdout",
     "output_type": "stream",
     "text": [
      "[[1 2 3 4]]\n",
      "(1, 4)\n",
      "2\n",
      "--------------------\n",
      "[[-1 -2 -3 -4]]\n",
      "(1, 4)\n",
      "2\n"
     ]
    }
   ],
   "source": [
    "## 2-D array\n",
    "\n",
    "## both arrays are 2-D , each with a single row and multiple columns\n",
    "\n",
    "a = np.arange(1,5).reshape((1,4))\n",
    "b = np.arange(-1,-5,-1).reshape((1,4))\n",
    "\n",
    "print(a)\n",
    "print(a.shape)\n",
    "print(a.ndim)\n",
    "\n",
    "print(\"-\" * 20)\n",
    "\n",
    "print(b)\n",
    "print(b.shape)\n",
    "print(b.ndim)"
   ]
  },
  {
   "cell_type": "code",
   "execution_count": 54,
   "id": "00defebc",
   "metadata": {},
   "outputs": [
    {
     "data": {
      "text/plain": [
       "array([[ 1,  2,  3,  4, -1, -2, -3, -4]])"
      ]
     },
     "execution_count": 54,
     "metadata": {},
     "output_type": "execute_result"
    }
   ],
   "source": [
    "np.hstack((a, b))"
   ]
  },
  {
   "cell_type": "code",
   "execution_count": 55,
   "id": "4e29f71e",
   "metadata": {},
   "outputs": [
    {
     "data": {
      "text/plain": [
       "array([[ 1,  2,  3,  4],\n",
       "       [-1, -2, -3, -4]])"
      ]
     },
     "execution_count": 55,
     "metadata": {},
     "output_type": "execute_result"
    }
   ],
   "source": [
    "np.vstack((a, b))"
   ]
  },
  {
   "cell_type": "code",
   "execution_count": 76,
   "id": "3b86eea7",
   "metadata": {},
   "outputs": [
    {
     "data": {
      "text/plain": [
       "(array([[ 1,  2,  3,  4],\n",
       "        [ 5,  6,  7,  8],\n",
       "        [ 9, 10, 11, 12]]),\n",
       " array([[ -1,  -2,  -3,  -4],\n",
       "        [ -5,  -6,  -7,  -8],\n",
       "        [ -9, -10, -11, -12]]))"
      ]
     },
     "execution_count": 76,
     "metadata": {},
     "output_type": "execute_result"
    }
   ],
   "source": [
    "## example :\n",
    "## both arrays are 2-D, each with multiple rows as well as columns\n",
    "\n",
    "x = np.arange(1,13).reshape((3,4))\n",
    "y = np.arange(-1,-13,-1).reshape((3,4))\n",
    "\n",
    "x, y"
   ]
  },
  {
   "cell_type": "code",
   "execution_count": 77,
   "id": "fe0aa3e9",
   "metadata": {},
   "outputs": [
    {
     "data": {
      "text/plain": [
       "array([[  1,   2,   3,   4,  -1,  -2,  -3,  -4],\n",
       "       [  5,   6,   7,   8,  -5,  -6,  -7,  -8],\n",
       "       [  9,  10,  11,  12,  -9, -10, -11, -12]])"
      ]
     },
     "execution_count": 77,
     "metadata": {},
     "output_type": "execute_result"
    }
   ],
   "source": [
    "np.hstack((x, y))"
   ]
  },
  {
   "cell_type": "code",
   "execution_count": 78,
   "id": "ad1061e4",
   "metadata": {},
   "outputs": [
    {
     "data": {
      "text/plain": [
       "array([[  1,   2,   3,   4],\n",
       "       [  5,   6,   7,   8],\n",
       "       [  9,  10,  11,  12],\n",
       "       [ -1,  -2,  -3,  -4],\n",
       "       [ -5,  -6,  -7,  -8],\n",
       "       [ -9, -10, -11, -12]])"
      ]
     },
     "execution_count": 78,
     "metadata": {},
     "output_type": "execute_result"
    }
   ],
   "source": [
    "np.vstack((x, y))"
   ]
  },
  {
   "cell_type": "code",
   "execution_count": 79,
   "id": "5b7baeea",
   "metadata": {},
   "outputs": [
    {
     "name": "stdout",
     "output_type": "stream",
     "text": [
      "[[ 1  2  3  4]\n",
      " [ 5  6  7  8]\n",
      " [ 9 10 11 12]]\n",
      "(3, 4)\n",
      "2\n",
      "--------------------\n",
      "[-5 -6 -7 -8]\n",
      "(4,)\n",
      "1\n"
     ]
    }
   ],
   "source": [
    "## example :\n",
    "\n",
    "## one array 2-D while another is 1-D array\n",
    "\n",
    "d = np.arange(1,13).reshape((3,4))\n",
    "print(d)\n",
    "print(d.shape)\n",
    "print(d.ndim)\n",
    "\n",
    "print(\"-\" * 20)\n",
    "\n",
    "f = np.arange(-5, -9, -1)\n",
    "print(f)\n",
    "print(f.shape)\n",
    "print(f.ndim)"
   ]
  },
  {
   "cell_type": "code",
   "execution_count": 81,
   "id": "2f98beae",
   "metadata": {},
   "outputs": [
    {
     "data": {
      "text/plain": [
       "array([[ 1,  2,  3,  4],\n",
       "       [ 5,  6,  7,  8],\n",
       "       [ 9, 10, 11, 12],\n",
       "       [-5, -6, -7, -8]])"
      ]
     },
     "execution_count": 81,
     "metadata": {},
     "output_type": "execute_result"
    }
   ],
   "source": [
    "np.vstack((d, f))"
   ]
  },
  {
   "cell_type": "code",
   "execution_count": 83,
   "id": "b1dbf700",
   "metadata": {},
   "outputs": [
    {
     "ename": "ValueError",
     "evalue": "all the input arrays must have same number of dimensions, but the array at index 0 has 2 dimension(s) and the array at index 1 has 1 dimension(s)",
     "output_type": "error",
     "traceback": [
      "\u001b[1;31m---------------------------------------------------------------------------\u001b[0m",
      "\u001b[1;31mValueError\u001b[0m                                Traceback (most recent call last)",
      "Input \u001b[1;32mIn [83]\u001b[0m, in \u001b[0;36m<module>\u001b[1;34m\u001b[0m\n\u001b[1;32m----> 1\u001b[0m \u001b[43mnp\u001b[49m\u001b[38;5;241;43m.\u001b[39;49m\u001b[43mhstack\u001b[49m\u001b[43m(\u001b[49m\u001b[43m(\u001b[49m\u001b[43md\u001b[49m\u001b[43m,\u001b[49m\u001b[43m \u001b[49m\u001b[43mf\u001b[49m\u001b[43m)\u001b[49m\u001b[43m)\u001b[49m\n",
      "File \u001b[1;32m<__array_function__ internals>:180\u001b[0m, in \u001b[0;36mhstack\u001b[1;34m(*args, **kwargs)\u001b[0m\n",
      "File \u001b[1;32m~\\AppData\\Roaming\\Python\\Python38\\site-packages\\numpy\\core\\shape_base.py:345\u001b[0m, in \u001b[0;36mhstack\u001b[1;34m(tup)\u001b[0m\n\u001b[0;32m    343\u001b[0m     \u001b[38;5;28;01mreturn\u001b[39;00m _nx\u001b[38;5;241m.\u001b[39mconcatenate(arrs, \u001b[38;5;241m0\u001b[39m)\n\u001b[0;32m    344\u001b[0m \u001b[38;5;28;01melse\u001b[39;00m:\n\u001b[1;32m--> 345\u001b[0m     \u001b[38;5;28;01mreturn\u001b[39;00m \u001b[43m_nx\u001b[49m\u001b[38;5;241;43m.\u001b[39;49m\u001b[43mconcatenate\u001b[49m\u001b[43m(\u001b[49m\u001b[43marrs\u001b[49m\u001b[43m,\u001b[49m\u001b[43m \u001b[49m\u001b[38;5;241;43m1\u001b[39;49m\u001b[43m)\u001b[49m\n",
      "File \u001b[1;32m<__array_function__ internals>:180\u001b[0m, in \u001b[0;36mconcatenate\u001b[1;34m(*args, **kwargs)\u001b[0m\n",
      "\u001b[1;31mValueError\u001b[0m: all the input arrays must have same number of dimensions, but the array at index 0 has 2 dimension(s) and the array at index 1 has 1 dimension(s)"
     ]
    }
   ],
   "source": [
    "np.hstack((d, f))\n",
    "\n",
    "## NOT POSSIBLE"
   ]
  },
  {
   "cell_type": "markdown",
   "id": "f46adb7a",
   "metadata": {},
   "source": [
    "<br>\n",
    "\n",
    "__Note :__\n",
    "`np.stack` should NOT be used often because intrinsically the result of .stack produces the result with a new-axis.<br>\n",
    "This could generally create confusion down the line, so this function is avoided and `hstack` and `vstack` are commonly preferred.\n",
    "\n",
    "<br>"
   ]
  },
  {
   "cell_type": "markdown",
   "id": "600956c8",
   "metadata": {},
   "source": [
    "### Splitting\n",
    "\n",
    "- `.split(arr)` => returns a list that contains the splitted arrays of `arr`\n",
    "\n",
    "- Splitting happens from left to right.\n",
    "\n",
    "<u>__1-D array__</u>"
   ]
  },
  {
   "cell_type": "code",
   "execution_count": 123,
   "id": "82a86eae",
   "metadata": {},
   "outputs": [
    {
     "name": "stdout",
     "output_type": "stream",
     "text": [
      "[30 31 32 33 34 35 36 37 38 39 40 41 42 43 44 45 46 47]\n"
     ]
    },
    {
     "data": {
      "text/plain": [
       "[array([30, 31, 32, 33, 34, 35]),\n",
       " array([36, 37, 38, 39, 40, 41]),\n",
       " array([42, 43, 44, 45, 46, 47])]"
      ]
     },
     "execution_count": 123,
     "metadata": {},
     "output_type": "execute_result"
    }
   ],
   "source": [
    "d = np.arange(30, 48)\n",
    "print(d)\n",
    "\n",
    "## here we split the array `d` in 3 equal parts\n",
    "\n",
    "np.split(d, 3)"
   ]
  },
  {
   "cell_type": "code",
   "execution_count": 102,
   "id": "bcc28a46",
   "metadata": {},
   "outputs": [
    {
     "ename": "ValueError",
     "evalue": "array split does not result in an equal division",
     "output_type": "error",
     "traceback": [
      "\u001b[1;31m---------------------------------------------------------------------------\u001b[0m",
      "\u001b[1;31mValueError\u001b[0m                                Traceback (most recent call last)",
      "Input \u001b[1;32mIn [102]\u001b[0m, in \u001b[0;36m<module>\u001b[1;34m\u001b[0m\n\u001b[0;32m      1\u001b[0m \u001b[38;5;66;03m## throws error if array is not equally spaced seperable\u001b[39;00m\n\u001b[0;32m      2\u001b[0m \u001b[38;5;66;03m## split in 4 equal parts is not possible\u001b[39;00m\n\u001b[1;32m----> 4\u001b[0m \u001b[43mnp\u001b[49m\u001b[38;5;241;43m.\u001b[39;49m\u001b[43msplit\u001b[49m\u001b[43m(\u001b[49m\u001b[43md\u001b[49m\u001b[43m,\u001b[49m\u001b[43m \u001b[49m\u001b[38;5;241;43m4\u001b[39;49m\u001b[43m)\u001b[49m\n",
      "File \u001b[1;32m<__array_function__ internals>:180\u001b[0m, in \u001b[0;36msplit\u001b[1;34m(*args, **kwargs)\u001b[0m\n",
      "File \u001b[1;32m~\\AppData\\Roaming\\Python\\Python38\\site-packages\\numpy\\lib\\shape_base.py:872\u001b[0m, in \u001b[0;36msplit\u001b[1;34m(ary, indices_or_sections, axis)\u001b[0m\n\u001b[0;32m    870\u001b[0m     N \u001b[38;5;241m=\u001b[39m ary\u001b[38;5;241m.\u001b[39mshape[axis]\n\u001b[0;32m    871\u001b[0m     \u001b[38;5;28;01mif\u001b[39;00m N \u001b[38;5;241m%\u001b[39m sections:\n\u001b[1;32m--> 872\u001b[0m         \u001b[38;5;28;01mraise\u001b[39;00m \u001b[38;5;167;01mValueError\u001b[39;00m(\n\u001b[0;32m    873\u001b[0m             \u001b[38;5;124m'\u001b[39m\u001b[38;5;124marray split does not result in an equal division\u001b[39m\u001b[38;5;124m'\u001b[39m) \u001b[38;5;28;01mfrom\u001b[39;00m \u001b[38;5;28mNone\u001b[39m\n\u001b[0;32m    874\u001b[0m \u001b[38;5;28;01mreturn\u001b[39;00m array_split(ary, indices_or_sections, axis)\n",
      "\u001b[1;31mValueError\u001b[0m: array split does not result in an equal division"
     ]
    }
   ],
   "source": [
    "## throws error if array is not equally spaced seperable\n",
    "## split in 4 equal parts is not possible\n",
    "\n",
    "np.split(d, 4)"
   ]
  },
  {
   "cell_type": "code",
   "execution_count": 107,
   "id": "b62e351f",
   "metadata": {},
   "outputs": [
    {
     "data": {
      "text/plain": [
       "[array([30, 31, 32, 33, 34]),\n",
       " array([35, 36, 37, 38, 39, 40, 41, 42, 43, 44, 45, 46, 47])]"
      ]
     },
     "execution_count": 107,
     "metadata": {},
     "output_type": "execute_result"
    }
   ],
   "source": [
    "## specify list of indexes to split at multiple positions\n",
    "## 0 to 4 inclusivve\n",
    "## 5 to 17 inclusive\n",
    "\n",
    "np.split(d, [5])"
   ]
  },
  {
   "cell_type": "code",
   "execution_count": 108,
   "id": "54cc6b3d",
   "metadata": {},
   "outputs": [
    {
     "data": {
      "text/plain": [
       "[array([30, 31, 32, 33, 34]),\n",
       " array([35, 36, 37]),\n",
       " array([38, 39]),\n",
       " array([40, 41, 42, 43, 44, 45, 46, 47])]"
      ]
     },
     "execution_count": 108,
     "metadata": {},
     "output_type": "execute_result"
    }
   ],
   "source": [
    "## 0 to 4 inclusive\n",
    "## then, 5 to 7 inclusive\n",
    "## then, 8 to 9 inclusive\n",
    "## then, 10 to 17 inclusive\n",
    "\n",
    "np.split(d, [5, 8, 10])"
   ]
  },
  {
   "cell_type": "code",
   "execution_count": 113,
   "id": "4079d06c",
   "metadata": {},
   "outputs": [
    {
     "data": {
      "text/plain": [
       "[array([30, 31, 32, 33, 34]),\n",
       " array([35, 36, 37, 38, 39, 40, 41, 42, 43, 44, 45, 46, 47]),\n",
       " array([], dtype=int32)]"
      ]
     },
     "execution_count": 113,
     "metadata": {},
     "output_type": "execute_result"
    }
   ],
   "source": [
    "## although index 25 is not in the list. Error does not arise, but split would happen till the end,\n",
    "## and the next sub-array would be an empty array\n",
    "\n",
    "np.split(d, [5, 25])"
   ]
  },
  {
   "cell_type": "code",
   "execution_count": 114,
   "id": "8ca1ade1",
   "metadata": {},
   "outputs": [
    {
     "data": {
      "text/plain": [
       "[array([30, 31, 32, 33, 34, 35, 36, 37, 38, 39, 40, 41, 42]),\n",
       " array([43, 44, 45, 46, 47])]"
      ]
     },
     "execution_count": 114,
     "metadata": {},
     "output_type": "execute_result"
    }
   ],
   "source": [
    "np.split(d, [-5])"
   ]
  },
  {
   "cell_type": "code",
   "execution_count": 116,
   "id": "f1335aae",
   "metadata": {},
   "outputs": [
    {
     "data": {
      "text/plain": [
       "[array([30, 31, 32, 33, 34, 35, 36, 37, 38, 39, 40, 41, 42]),\n",
       " array([], dtype=int32),\n",
       " array([40, 41, 42, 43, 44, 45, 46, 47])]"
      ]
     },
     "execution_count": 116,
     "metadata": {},
     "output_type": "execute_result"
    }
   ],
   "source": [
    "np.split(d, [-5, -8])\n",
    "\n",
    "## split cannot happen from -5 to -8 index (i.e., from right to left) , so second sub-array is empty.\n",
    "## third sub-array starts from -8 index."
   ]
  },
  {
   "cell_type": "code",
   "execution_count": 119,
   "id": "6daaa7fd",
   "metadata": {},
   "outputs": [
    {
     "data": {
      "text/plain": [
       "[array([30, 31]),\n",
       " array([32, 33, 34, 35, 36, 37, 38, 39]),\n",
       " array([], dtype=int32),\n",
       " array([36, 37, 38, 39, 40, 41, 42, 43, 44, 45, 46, 47])]"
      ]
     },
     "execution_count": 119,
     "metadata": {},
     "output_type": "execute_result"
    }
   ],
   "source": [
    "## similarly,\n",
    "\n",
    "np.split(d, [2, 10, 6])"
   ]
  },
  {
   "cell_type": "markdown",
   "id": "d6c3acd6",
   "metadata": {},
   "source": [
    "<u>__2-D array__</u>"
   ]
  },
  {
   "cell_type": "code",
   "execution_count": 125,
   "id": "44cd8a47",
   "metadata": {},
   "outputs": [
    {
     "name": "stdout",
     "output_type": "stream",
     "text": [
      "[[ 1  2  3  4  5  6  7  8  9 10 11 12]]\n"
     ]
    }
   ],
   "source": [
    "## example: single row but multiple columns\n",
    "\n",
    "d = np.arange(1, 13).reshape((1, 12))\n",
    "print(d)"
   ]
  },
  {
   "cell_type": "code",
   "execution_count": 126,
   "id": "68473ccc",
   "metadata": {},
   "outputs": [
    {
     "data": {
      "text/plain": [
       "[array([[1, 2, 3, 4, 5, 6]]), array([[ 7,  8,  9, 10, 11, 12]])]"
      ]
     },
     "execution_count": 126,
     "metadata": {},
     "output_type": "execute_result"
    }
   ],
   "source": [
    "np.split(d, 2, axis=1)"
   ]
  },
  {
   "cell_type": "code",
   "execution_count": 129,
   "id": "9f90f4f9",
   "metadata": {},
   "outputs": [
    {
     "data": {
      "text/plain": [
       "[array([[1, 2, 3, 4, 5, 6]]), array([[ 7,  8,  9, 10, 11, 12]])]"
      ]
     },
     "execution_count": 129,
     "metadata": {},
     "output_type": "execute_result"
    }
   ],
   "source": [
    "## similar like above step, `hsplit` would do same\n",
    "\n",
    "np.hsplit(d, 2)"
   ]
  },
  {
   "cell_type": "code",
   "execution_count": null,
   "id": "4884d8a6",
   "metadata": {},
   "outputs": [],
   "source": [
    "## example: multiple rows as well as columns"
   ]
  },
  {
   "cell_type": "code",
   "execution_count": 131,
   "id": "86443593",
   "metadata": {},
   "outputs": [
    {
     "data": {
      "text/plain": [
       "array([[ 1,  2,  3,  4,  5],\n",
       "       [ 6,  7,  8,  9, 10],\n",
       "       [11, 12, 13, 14, 15],\n",
       "       [16, 17, 18, 19, 20]])"
      ]
     },
     "execution_count": 131,
     "metadata": {},
     "output_type": "execute_result"
    }
   ],
   "source": [
    "d = np.arange(1,21).reshape(4,5)\n",
    "d"
   ]
  },
  {
   "cell_type": "code",
   "execution_count": 135,
   "id": "235f72c0",
   "metadata": {},
   "outputs": [
    {
     "data": {
      "text/plain": [
       "[array([[ 1,  2,  3,  4,  5],\n",
       "        [ 6,  7,  8,  9, 10]]),\n",
       " array([[11, 12, 13, 14, 15],\n",
       "        [16, 17, 18, 19, 20]])]"
      ]
     },
     "execution_count": 135,
     "metadata": {},
     "output_type": "execute_result"
    }
   ],
   "source": [
    "np.split(d, 2)\n",
    "\n",
    "## 2 equal parts\n",
    "## default operation is vertical, i.e. axis=0.\n",
    "\n",
    "## for 3 equal parts, it would throw error because 4 rows cannot split in 3 equal parts."
   ]
  },
  {
   "cell_type": "code",
   "execution_count": 150,
   "id": "2d3fdc4a",
   "metadata": {},
   "outputs": [
    {
     "data": {
      "text/plain": [
       "[array([[1, 2, 3, 4, 5]]),\n",
       " array([[ 6,  7,  8,  9, 10],\n",
       "        [11, 12, 13, 14, 15]]),\n",
       " array([], shape=(0, 5), dtype=int32),\n",
       " array([[16, 17, 18, 19, 20]])]"
      ]
     },
     "execution_count": 150,
     "metadata": {},
     "output_type": "execute_result"
    }
   ],
   "source": [
    "np.split(d, [1, 3, -1], axis=0)"
   ]
  },
  {
   "cell_type": "code",
   "execution_count": 151,
   "id": "2906a777",
   "metadata": {},
   "outputs": [
    {
     "data": {
      "text/plain": [
       "[array([[ 1],\n",
       "        [ 6],\n",
       "        [11],\n",
       "        [16]]),\n",
       " array([[ 2,  3],\n",
       "        [ 7,  8],\n",
       "        [12, 13],\n",
       "        [17, 18]]),\n",
       " array([[ 4],\n",
       "        [ 9],\n",
       "        [14],\n",
       "        [19]]),\n",
       " array([[ 5],\n",
       "        [10],\n",
       "        [15],\n",
       "        [20]])]"
      ]
     },
     "execution_count": 151,
     "metadata": {},
     "output_type": "execute_result"
    }
   ],
   "source": [
    "np.split(d, [1, 3, -1], axis=1)"
   ]
  },
  {
   "cell_type": "code",
   "execution_count": 152,
   "id": "e1276427",
   "metadata": {},
   "outputs": [
    {
     "data": {
      "text/plain": [
       "[array([[ 1,  2],\n",
       "        [ 6,  7],\n",
       "        [11, 12],\n",
       "        [16, 17]]),\n",
       " array([[ 3,  4],\n",
       "        [ 8,  9],\n",
       "        [13, 14],\n",
       "        [18, 19]]),\n",
       " array([[ 5],\n",
       "        [10],\n",
       "        [15],\n",
       "        [20]])]"
      ]
     },
     "execution_count": 152,
     "metadata": {},
     "output_type": "execute_result"
    }
   ],
   "source": [
    "np.split(d, [2,4], axis=1)"
   ]
  },
  {
   "cell_type": "code",
   "execution_count": 153,
   "id": "c790e40f",
   "metadata": {},
   "outputs": [
    {
     "data": {
      "text/plain": [
       "[array([[ 1],\n",
       "        [ 6],\n",
       "        [11],\n",
       "        [16]]),\n",
       " array([[ 2,  3],\n",
       "        [ 7,  8],\n",
       "        [12, 13],\n",
       "        [17, 18]]),\n",
       " array([[ 4,  5],\n",
       "        [ 9, 10],\n",
       "        [14, 15],\n",
       "        [19, 20]])]"
      ]
     },
     "execution_count": 153,
     "metadata": {},
     "output_type": "execute_result"
    }
   ],
   "source": [
    "np.hsplit(d, [1,3])"
   ]
  },
  {
   "cell_type": "code",
   "execution_count": 154,
   "id": "d6f28fef",
   "metadata": {},
   "outputs": [
    {
     "data": {
      "text/plain": [
       "[array([[1, 2, 3, 4, 5]]),\n",
       " array([[ 6,  7,  8,  9, 10],\n",
       "        [11, 12, 13, 14, 15]]),\n",
       " array([[16, 17, 18, 19, 20]])]"
      ]
     },
     "execution_count": 154,
     "metadata": {},
     "output_type": "execute_result"
    }
   ],
   "source": [
    "np.vsplit(d, [1,3])"
   ]
  },
  {
   "cell_type": "code",
   "execution_count": null,
   "id": "9d9855cd",
   "metadata": {},
   "outputs": [],
   "source": []
  },
  {
   "cell_type": "markdown",
   "id": "686b3bd5",
   "metadata": {},
   "source": [
    "## Broadcasting\n",
    "\n",
    "Broadcasting is the name given to the method that NumPy uses to allow array arithmetic between arrays with a different shape or size.<br>\n",
    "It's a necessary intrinsic mechanism automatically carried out by Numpy.<br>\n",
    "Broadcasting solves the problem of arithmetic between arrays of differing shapes by in effect replicating the smaller array along the last mismatched dimension.\n",
    "\n",
    "https://machinelearningmastery.com/broadcasting-with-numpy-arrays/\n",
    "\n",
    "In order to understand it, let's take a look at its rules.\n",
    "\n",
    "\n",
    "### <u>Rules</u> :\n",
    "\n",
    "### *Rule 1 :* If two arrays differ in the number of dimensions, the shape of one with fewer dimension is padded with `1` on its leading (i.e., left) side.\n",
    "\n",
    "### Prerequisites for Rule 2 :\n",
    "\n",
    "#### Consider each array's shape (going from right side),\n",
    "#### 1. The value of corresponding dimension size should be same, OR\n",
    "#### 2. The value of one dimension size should be 1\n",
    "\n",
    "### *Rule 2 :* If the corresponding dimension sizes of two arrays do not match, the array with dimension size equal to 1 is stretched to match with corresponding dimension size of other array.\n",
    "\n",
    "### *Rule 3 :* If the dimension sizes still disagree and neither equals to 1, then Error is raised."
   ]
  },
  {
   "cell_type": "code",
   "execution_count": 9,
   "id": "bf567567",
   "metadata": {},
   "outputs": [
    {
     "data": {
      "text/plain": [
       "array([3, 4, 5, 6])"
      ]
     },
     "execution_count": 9,
     "metadata": {},
     "output_type": "execute_result"
    }
   ],
   "source": [
    "## example :\n",
    "a = np.arange(1, 5)\n",
    "\n",
    "a + 2"
   ]
  },
  {
   "cell_type": "code",
   "execution_count": 11,
   "id": "26702681",
   "metadata": {},
   "outputs": [
    {
     "name": "stdout",
     "output_type": "stream",
     "text": [
      "[[1 2]\n",
      " [3 4]\n",
      " [5 6]]\n",
      "2\n",
      "(3, 2)\n",
      "--------------------\n",
      "[1 2]\n",
      "1\n",
      "(2,)\n"
     ]
    }
   ],
   "source": [
    "## example :\n",
    "\n",
    "b = np.arange(1,7).reshape(3,2)\n",
    "c = np.arange(1,3)\n",
    "\n",
    "print(b)\n",
    "print(b.ndim)\n",
    "print(b.shape)\n",
    "\n",
    "print(\"-\" * 20)\n",
    "\n",
    "print(c)\n",
    "print(c.ndim)\n",
    "print(c.shape)"
   ]
  },
  {
   "cell_type": "code",
   "execution_count": 16,
   "id": "3a3da18d",
   "metadata": {},
   "outputs": [
    {
     "data": {
      "text/plain": [
       "array([[0, 0],\n",
       "       [1, 2],\n",
       "       [1, 2]])"
      ]
     },
     "execution_count": 16,
     "metadata": {},
     "output_type": "execute_result"
    }
   ],
   "source": [
    "c % b"
   ]
  },
  {
   "cell_type": "code",
   "execution_count": 24,
   "id": "fe8bdde7",
   "metadata": {},
   "outputs": [
    {
     "name": "stdout",
     "output_type": "stream",
     "text": [
      "[[1 2]\n",
      " [3 4]\n",
      " [5 6]]\n",
      "2\n",
      "(3, 2)\n",
      "--------------------\n",
      "[1 2 3 4]\n",
      "1\n",
      "(4,)\n"
     ]
    }
   ],
   "source": [
    "## example :\n",
    "\n",
    "b = np.arange(1,7).reshape(3,2)\n",
    "d = np.arange(1,5)\n",
    "\n",
    "print(b)\n",
    "print(b.ndim)\n",
    "print(b.shape)\n",
    "\n",
    "print(\"-\" * 20)\n",
    "\n",
    "print(d)\n",
    "print(d.ndim)\n",
    "print(d.shape)"
   ]
  },
  {
   "cell_type": "code",
   "execution_count": 25,
   "id": "61aa84ad",
   "metadata": {},
   "outputs": [
    {
     "ename": "ValueError",
     "evalue": "operands could not be broadcast together with shapes (4,) (3,2) ",
     "output_type": "error",
     "traceback": [
      "\u001b[1;31m---------------------------------------------------------------------------\u001b[0m",
      "\u001b[1;31mValueError\u001b[0m                                Traceback (most recent call last)",
      "Input \u001b[1;32mIn [25]\u001b[0m, in \u001b[0;36m<module>\u001b[1;34m\u001b[0m\n\u001b[1;32m----> 1\u001b[0m \u001b[43md\u001b[49m\u001b[43m \u001b[49m\u001b[38;5;241;43m+\u001b[39;49m\u001b[43m \u001b[49m\u001b[43mb\u001b[49m\n",
      "\u001b[1;31mValueError\u001b[0m: operands could not be broadcast together with shapes (4,) (3,2) "
     ]
    }
   ],
   "source": [
    "d + b"
   ]
  },
  {
   "cell_type": "code",
   "execution_count": 34,
   "id": "ec9516e0",
   "metadata": {},
   "outputs": [
    {
     "name": "stdout",
     "output_type": "stream",
     "text": [
      "[[1 2]\n",
      " [3 4]\n",
      " [5 6]]\n",
      "2\n",
      "(3, 2)\n",
      "--------------------\n",
      "[[10 20]\n",
      " [30 40]]\n",
      "2\n",
      "(2, 2)\n"
     ]
    }
   ],
   "source": [
    "## example :\n",
    "\n",
    "a = np.arange(1,7).reshape((3,2))\n",
    "b = np.array([10, 20, 30, 40]).reshape(2,2)\n",
    "\n",
    "print(a)\n",
    "print(a.ndim)\n",
    "print(a.shape)\n",
    "\n",
    "print(\"-\" * 20)\n",
    "\n",
    "print(b)\n",
    "print(b.ndim)\n",
    "print(b.shape)"
   ]
  },
  {
   "cell_type": "code",
   "execution_count": 35,
   "id": "d6b0bf66",
   "metadata": {},
   "outputs": [
    {
     "ename": "ValueError",
     "evalue": "operands could not be broadcast together with shapes (3,2) (2,2) ",
     "output_type": "error",
     "traceback": [
      "\u001b[1;31m---------------------------------------------------------------------------\u001b[0m",
      "\u001b[1;31mValueError\u001b[0m                                Traceback (most recent call last)",
      "Input \u001b[1;32mIn [35]\u001b[0m, in \u001b[0;36m<module>\u001b[1;34m\u001b[0m\n\u001b[1;32m----> 1\u001b[0m \u001b[43ma\u001b[49m\u001b[43m \u001b[49m\u001b[38;5;241;43m*\u001b[39;49m\u001b[43m \u001b[49m\u001b[43mb\u001b[49m\n",
      "\u001b[1;31mValueError\u001b[0m: operands could not be broadcast together with shapes (3,2) (2,2) "
     ]
    }
   ],
   "source": [
    "a * b"
   ]
  },
  {
   "cell_type": "code",
   "execution_count": 36,
   "id": "a395c9f9",
   "metadata": {},
   "outputs": [
    {
     "name": "stdout",
     "output_type": "stream",
     "text": [
      "[[1 2 3]]\n",
      "2\n",
      "(1, 3)\n",
      "--------------------\n",
      "[[10]\n",
      " [20]\n",
      " [30]]\n",
      "2\n",
      "(3, 1)\n"
     ]
    }
   ],
   "source": [
    "## example :\n",
    "\n",
    "a = np.array([[1,2,3]])\n",
    "b = np.array([[10], [20], [30]])\n",
    "\n",
    "print(a)\n",
    "print(a.ndim)\n",
    "print(a.shape)\n",
    "\n",
    "print(\"-\" * 20)\n",
    "\n",
    "print(b)\n",
    "print(b.ndim)\n",
    "print(b.shape)"
   ]
  },
  {
   "cell_type": "code",
   "execution_count": 38,
   "id": "06ae9648",
   "metadata": {},
   "outputs": [
    {
     "data": {
      "text/plain": [
       "array([[10, 20, 30],\n",
       "       [20, 40, 60],\n",
       "       [30, 60, 90]])"
      ]
     },
     "execution_count": 38,
     "metadata": {},
     "output_type": "execute_result"
    }
   ],
   "source": [
    "a * b"
   ]
  },
  {
   "cell_type": "code",
   "execution_count": 44,
   "id": "60cdacdf",
   "metadata": {},
   "outputs": [
    {
     "name": "stdout",
     "output_type": "stream",
     "text": [
      "[[1 2 3 4]]\n",
      "2\n",
      "(1, 4)\n",
      "--------------------\n",
      "[[10]\n",
      " [11]\n",
      " [12]\n",
      " [13]\n",
      " [14]]\n",
      "2\n",
      "(5, 1)\n"
     ]
    }
   ],
   "source": [
    "## example :\n",
    "\n",
    "a = np.arange(1,5).reshape(1,4)\n",
    "b = np.arange(10,15).reshape(5,1)\n",
    "\n",
    "print(a)\n",
    "print(a.ndim)\n",
    "print(a.shape)\n",
    "\n",
    "print(\"-\" * 20)\n",
    "\n",
    "print(b)\n",
    "print(b.ndim)\n",
    "print(b.shape)"
   ]
  },
  {
   "cell_type": "code",
   "execution_count": 45,
   "id": "f3aed915",
   "metadata": {},
   "outputs": [
    {
     "data": {
      "text/plain": [
       "array([[11, 12, 13, 14],\n",
       "       [12, 13, 14, 15],\n",
       "       [13, 14, 15, 16],\n",
       "       [14, 15, 16, 17],\n",
       "       [15, 16, 17, 18]])"
      ]
     },
     "execution_count": 45,
     "metadata": {},
     "output_type": "execute_result"
    }
   ],
   "source": [
    "a + b"
   ]
  },
  {
   "cell_type": "code",
   "execution_count": 51,
   "id": "9faf6eca",
   "metadata": {},
   "outputs": [
    {
     "name": "stdout",
     "output_type": "stream",
     "text": [
      "[[ 0  1  2  3]\n",
      " [ 4  5  6  7]\n",
      " [ 8  9 10 11]]\n",
      "2\n",
      "(3, 4)\n",
      "--------------------\n",
      "[1 3]\n",
      "1\n",
      "(2,)\n"
     ]
    },
    {
     "ename": "ValueError",
     "evalue": "operands could not be broadcast together with shapes (3,4) (2,) ",
     "output_type": "error",
     "traceback": [
      "\u001b[1;31m---------------------------------------------------------------------------\u001b[0m",
      "\u001b[1;31mValueError\u001b[0m                                Traceback (most recent call last)",
      "Input \u001b[1;32mIn [51]\u001b[0m, in \u001b[0;36m<module>\u001b[1;34m\u001b[0m\n\u001b[0;32m     12\u001b[0m \u001b[38;5;28mprint\u001b[39m(B\u001b[38;5;241m.\u001b[39mndim)\n\u001b[0;32m     13\u001b[0m \u001b[38;5;28mprint\u001b[39m(B\u001b[38;5;241m.\u001b[39mshape)\n\u001b[1;32m---> 15\u001b[0m \u001b[43mA\u001b[49m\u001b[43m \u001b[49m\u001b[38;5;241;43m+\u001b[39;49m\u001b[43m \u001b[49m\u001b[43mB\u001b[49m\n",
      "\u001b[1;31mValueError\u001b[0m: operands could not be broadcast together with shapes (3,4) (2,) "
     ]
    }
   ],
   "source": [
    "## example :\n",
    "A = np.arange(12).reshape(3,4)\n",
    "B = np.array([1, 3])\n",
    "\n",
    "print(A)\n",
    "print(A.ndim)\n",
    "print(A.shape)\n",
    "\n",
    "print(\"-\" * 20)\n",
    "\n",
    "print(B)\n",
    "print(B.ndim)\n",
    "print(B.shape)\n",
    "\n",
    "A + B"
   ]
  },
  {
   "cell_type": "code",
   "execution_count": 54,
   "id": "859faa0e",
   "metadata": {},
   "outputs": [
    {
     "name": "stdout",
     "output_type": "stream",
     "text": [
      "[[1]\n",
      " [2]]\n",
      "2\n",
      "(2, 1)\n",
      "--------------------\n",
      "[[1 2 3]]\n",
      "2\n",
      "(1, 3)\n"
     ]
    },
    {
     "data": {
      "text/plain": [
       "array([[1, 2, 3],\n",
       "       [2, 4, 6]])"
      ]
     },
     "execution_count": 54,
     "metadata": {},
     "output_type": "execute_result"
    }
   ],
   "source": [
    "## example :\n",
    "A = np.arange(1,3).reshape(2,1)\n",
    "B = np.arange(1,4).reshape(1,3)\n",
    "\n",
    "print(A)\n",
    "print(A.ndim)\n",
    "print(A.shape)\n",
    "\n",
    "print(\"-\" * 20)\n",
    "\n",
    "print(B)\n",
    "print(B.ndim)\n",
    "print(B.shape)\n",
    "\n",
    "A * B\n",
    "\n",
    "\n",
    "#### explanation =>\n",
    "## - array A and B are of same dimension - Rule 1 is already satisified. Move ahead for rule 2.\n",
    "## - Now for Rule 2: A.shape = (2,1)  |  B.shape = (1,3) . Heading from right side,\n",
    "## 3 (of B's shape) is not equal to 1 (of A's shape).\n",
    "## But one of these is 1 (i.e. in A's shape), so it will be stretched to 3. Hence we get resultant shape as (2,3)\n",
    "## Similarly, now in left side, 1 (of B's shape) is not equal to 2 (in A's shape). But being it's 1, it'll get broadcasted\n",
    "## to 2. So resultant shape, is again, (2,3)."
   ]
  },
  {
   "cell_type": "code",
   "execution_count": 2,
   "id": "d8faffed",
   "metadata": {},
   "outputs": [
    {
     "name": "stdout",
     "output_type": "stream",
     "text": [
      "[1 2 3]\n",
      "1\n",
      "(3,)\n",
      "--------------------\n",
      "[9 8 7]\n",
      "1\n",
      "(3,)\n"
     ]
    },
    {
     "data": {
      "text/plain": [
       "46"
      ]
     },
     "execution_count": 2,
     "metadata": {},
     "output_type": "execute_result"
    }
   ],
   "source": [
    "## example :\n",
    "\n",
    "A = np.array([1, 2, 3])\n",
    "B = np.array([9, 8, 7])\n",
    "\n",
    "print(A)\n",
    "print(A.ndim)\n",
    "print(A.shape)\n",
    "\n",
    "print(\"-\" * 20)\n",
    "\n",
    "print(B)\n",
    "print(B.ndim)\n",
    "print(B.shape)\n",
    "\n",
    "np.dot(A, B)"
   ]
  },
  {
   "cell_type": "code",
   "execution_count": 3,
   "id": "609dca69",
   "metadata": {},
   "outputs": [
    {
     "name": "stdout",
     "output_type": "stream",
     "text": [
      "[[1 2]\n",
      " [3 4]]\n",
      "2\n",
      "(2, 2)\n",
      "--------------------\n",
      "[[1]\n",
      " [2]]\n",
      "2\n",
      "(2, 1)\n"
     ]
    },
    {
     "data": {
      "text/plain": [
       "array([[ 5],\n",
       "       [11]])"
      ]
     },
     "execution_count": 3,
     "metadata": {},
     "output_type": "execute_result"
    }
   ],
   "source": [
    "## example :\n",
    "\n",
    "A = np.array([[1,2], [3,4]])\n",
    "B = np.array([[1], [2]])\n",
    "\n",
    "print(A)\n",
    "print(A.ndim)\n",
    "print(A.shape)\n",
    "\n",
    "print(\"-\" * 20)\n",
    "\n",
    "print(B)\n",
    "print(B.ndim)\n",
    "print(B.shape)\n",
    "\n",
    "np.dot(A, B)"
   ]
  },
  {
   "cell_type": "code",
   "execution_count": 4,
   "id": "d07e710f",
   "metadata": {},
   "outputs": [
    {
     "data": {
      "text/plain": [
       "array([3, 6, 9])"
      ]
     },
     "execution_count": 4,
     "metadata": {},
     "output_type": "execute_result"
    }
   ],
   "source": [
    "## example :\n",
    "\n",
    "A = np.array([1, 2, 3])\n",
    "k = 3\n",
    "\n",
    "np.dot(A, k)"
   ]
  },
  {
   "cell_type": "code",
   "execution_count": 5,
   "id": "73916dfa",
   "metadata": {},
   "outputs": [
    {
     "name": "stdout",
     "output_type": "stream",
     "text": [
      "[[1 2]\n",
      " [3 4]]\n",
      "2\n",
      "(2, 2)\n",
      "--------------------\n",
      "[1 1]\n",
      "1\n",
      "(2,)\n"
     ]
    },
    {
     "data": {
      "text/plain": [
       "array([3, 7])"
      ]
     },
     "execution_count": 5,
     "metadata": {},
     "output_type": "execute_result"
    }
   ],
   "source": [
    "## example :\n",
    "\n",
    "A = np.array([[1,2], [3,4]])\n",
    "B = np.array([1, 1])\n",
    "\n",
    "print(A)\n",
    "print(A.ndim)\n",
    "print(A.shape)\n",
    "\n",
    "print(\"-\" * 20)\n",
    "\n",
    "print(B)\n",
    "print(B.ndim)\n",
    "print(B.shape)\n",
    "\n",
    "np.dot(A, B)"
   ]
  },
  {
   "cell_type": "markdown",
   "id": "78f5f9db",
   "metadata": {},
   "source": [
    "### Shallow and Deep copy"
   ]
  },
  {
   "cell_type": "code",
   "execution_count": 236,
   "id": "6730342c",
   "metadata": {},
   "outputs": [
    {
     "name": "stdout",
     "output_type": "stream",
     "text": [
      "before `a` : [1 2 3 4]\n",
      "before `b` : [[1 2]\n",
      " [3 4]]\n",
      "------------------------------\n",
      "after `a` : [50  2  3  4]\n",
      "after `b` : [[50  2]\n",
      " [ 3  4]]\n"
     ]
    }
   ],
   "source": [
    "## example :\n",
    "\n",
    "a = np.arange(1,5)\n",
    "print(\"before `a` :\",a)\n",
    "\n",
    "b = a.reshape(2,2)\n",
    "print(\"before `b` :\",b)\n",
    "print(\"-\" * 30)\n",
    "\n",
    "a[0] = 50            ## change value of 0 index of `a` \n",
    "\n",
    "print(\"after `a` :\",a)\n",
    "print(\"after `b` :\",b)"
   ]
  },
  {
   "cell_type": "markdown",
   "id": "a99214d6",
   "metadata": {},
   "source": [
    "Notice that, `a` and `b` both reflect the same change if a change in array `a `.\n",
    "<br><br>"
   ]
  },
  {
   "cell_type": "code",
   "execution_count": 237,
   "id": "61cad358",
   "metadata": {},
   "outputs": [],
   "source": [
    "b[1][1] = 180"
   ]
  },
  {
   "cell_type": "code",
   "execution_count": 238,
   "id": "689d99f5",
   "metadata": {},
   "outputs": [
    {
     "data": {
      "text/plain": [
       "array([ 50,   2,   3, 180])"
      ]
     },
     "execution_count": 238,
     "metadata": {},
     "output_type": "execute_result"
    }
   ],
   "source": [
    "a"
   ]
  },
  {
   "cell_type": "code",
   "execution_count": 239,
   "id": "fc4b60d3",
   "metadata": {},
   "outputs": [
    {
     "data": {
      "text/plain": [
       "array([[ 50,   2],\n",
       "       [  3, 180]])"
      ]
     },
     "execution_count": 239,
     "metadata": {},
     "output_type": "execute_result"
    }
   ],
   "source": [
    "b"
   ]
  },
  {
   "cell_type": "code",
   "execution_count": 240,
   "id": "efff367d",
   "metadata": {},
   "outputs": [
    {
     "data": {
      "text/plain": [
       "True"
      ]
     },
     "execution_count": 240,
     "metadata": {},
     "output_type": "execute_result"
    }
   ],
   "source": [
    "np.shares_memory(a, b)"
   ]
  },
  {
   "cell_type": "markdown",
   "id": "de61ada0",
   "metadata": {},
   "source": [
    "Similar behavior happens if change is made in array `b`.\n",
    "<br><br>\n",
    "\n",
    "**This is because, `a` and `b` point to same mempry location where all its elements are allocated.**\n",
    "\n",
    "<br>"
   ]
  },
  {
   "cell_type": "code",
   "execution_count": 241,
   "id": "70421e16",
   "metadata": {},
   "outputs": [
    {
     "name": "stdout",
     "output_type": "stream",
     "text": [
      "before `a` : [1 2 3 4]\n",
      "--------------------\n",
      "c : [3 4 5 6]\n",
      "after `a` : [1 2 3 4]\n"
     ]
    }
   ],
   "source": [
    "## example :\n",
    "\n",
    "a = np.arange(1,5)\n",
    "print(\"before `a` :\", a)\n",
    "print(\"-\" * 20)\n",
    "\n",
    "c = a + 2\n",
    "\n",
    "print(\"c :\", c)\n",
    "print(\"after `a` :\", a)"
   ]
  },
  {
   "cell_type": "code",
   "execution_count": 242,
   "id": "9032ca16",
   "metadata": {},
   "outputs": [
    {
     "data": {
      "text/plain": [
       "False"
      ]
     },
     "execution_count": 242,
     "metadata": {},
     "output_type": "execute_result"
    }
   ],
   "source": [
    "np.shares_memory(a, b)"
   ]
  },
  {
   "cell_type": "markdown",
   "id": "2453770b",
   "metadata": {},
   "source": [
    "However here, `a` does not change. **Because `c` is an entirely new allocated array that got created after some mathematical operation happened on `a`.**"
   ]
  },
  {
   "cell_type": "markdown",
   "id": "4c838f46",
   "metadata": {},
   "source": [
    "<hr>\n",
    "\n",
    "### Internal organization of NumPy arrays - https://numpy.org/devdocs/dev/internals.html\n",
    "\n",
    "When a new array is created entirely - __Deep copy__\n",
    "\n",
    "When new numpy array (from an existing array) is NOT created, but only a new header gets created - __Shallow copy__\n",
    "\n",
    "`a.copy()` => would perfrom Deep copy on array `a`, and creates a new separate array. \n",
    "\n",
    "<hr><br>"
   ]
  },
  {
   "cell_type": "code",
   "execution_count": 244,
   "id": "4ba097d7",
   "metadata": {},
   "outputs": [
    {
     "name": "stdout",
     "output_type": "stream",
     "text": [
      "before `d` : [1 2 3 4]\n",
      "--------------------\n",
      "e : [1 2 3 4]\n",
      "after `d` : [1 2 3 4]\n"
     ]
    }
   ],
   "source": [
    "## example :\n",
    "\n",
    "d = np.arange(1,5)\n",
    "print(\"before `d` :\",d)\n",
    "print(\"-\" * 20)\n",
    "\n",
    "e = d * 1\n",
    "print(\"e :\",e)\n",
    "print(\"after `d` :\",d)\n",
    "\n",
    "## despite `e` and `d` look same. But since e is formed as a result of a mathematical operation on d, so e and d don't\n",
    "## share memory."
   ]
  },
  {
   "cell_type": "code",
   "execution_count": 245,
   "id": "1417d218",
   "metadata": {},
   "outputs": [
    {
     "data": {
      "text/plain": [
       "False"
      ]
     },
     "execution_count": 245,
     "metadata": {},
     "output_type": "execute_result"
    }
   ],
   "source": [
    "np.shares_memory(e,d)"
   ]
  },
  {
   "cell_type": "code",
   "execution_count": 253,
   "id": "a10c29bf",
   "metadata": {},
   "outputs": [
    {
     "name": "stdout",
     "output_type": "stream",
     "text": [
      "before `a` : [[1 2 3 4 5 6 7 8 9]]\n",
      "--------------------\n",
      "[[1 3 5 7 9]]\n",
      "after `a` : [[1 2 3 4 5 6 7 8 9]]\n"
     ]
    }
   ],
   "source": [
    "## example :\n",
    "\n",
    "a = np.arange(1,10).reshape(1,9)\n",
    "print('before `a` :',a)\n",
    "print(\"-\" * 20)\n",
    "\n",
    "b = a[: , ::2]           ## header allocation also store the info about stride\n",
    "print(b)\n",
    "print('after `a` :',a)"
   ]
  },
  {
   "cell_type": "code",
   "execution_count": 254,
   "id": "edd5ecb0",
   "metadata": {},
   "outputs": [
    {
     "data": {
      "text/plain": [
       "True"
      ]
     },
     "execution_count": 254,
     "metadata": {},
     "output_type": "execute_result"
    }
   ],
   "source": [
    "np.shares_memory(a, b)"
   ]
  },
  {
   "cell_type": "code",
   "execution_count": 277,
   "id": "3e49edbe",
   "metadata": {},
   "outputs": [
    {
     "name": "stdout",
     "output_type": "stream",
     "text": [
      "before `a` : [1 2 3 4 5 6 7 8 9]\n",
      "--------------------\n",
      "after `a` : [548   2   3   4   5   6   7   8   9]\n",
      "[array([548,   2,   3]), array([4, 5, 6]), array([7, 8, 9])]\n"
     ]
    }
   ],
   "source": [
    "## example :\n",
    "\n",
    "a = np.arange(1,10)\n",
    "print('before `a` :',a)\n",
    "print(\"-\" * 20)\n",
    "\n",
    "b = np.split(a, 3)\n",
    "a[0] = 548\n",
    "\n",
    "print('after `a` :',a)\n",
    "print(b)\n",
    "\n",
    "## shallow copy works here"
   ]
  },
  {
   "cell_type": "code",
   "execution_count": 286,
   "id": "0e4452b9",
   "metadata": {},
   "outputs": [
    {
     "data": {
      "text/plain": [
       "True"
      ]
     },
     "execution_count": 286,
     "metadata": {},
     "output_type": "execute_result"
    }
   ],
   "source": [
    "np.shares_memory(a, b)   ## False\n",
    "\n",
    "np.shares_memory(a, b[0])         ## True, also for (a,b[1]) as well as (a,b[2])"
   ]
  },
  {
   "cell_type": "code",
   "execution_count": 275,
   "id": "fd05d144",
   "metadata": {},
   "outputs": [
    {
     "name": "stdout",
     "output_type": "stream",
     "text": [
      "[3 4 6 0 1]\n",
      "[3 4 6 0 1]\n",
      "----------\n",
      "[ 3  4 99  0  1]\n",
      "[3 4 6 0 1]\n"
     ]
    }
   ],
   "source": [
    "## example :\n",
    "a = np.array([3,4,6,0,1])\n",
    "print(a)\n",
    "\n",
    "b = a.copy()\n",
    "print(b)\n",
    "print(\"-\" * 10)\n",
    "\n",
    "a[2] = 99\n",
    "print(a)\n",
    "print(b)"
   ]
  },
  {
   "cell_type": "code",
   "execution_count": 276,
   "id": "54542ed8",
   "metadata": {},
   "outputs": [
    {
     "data": {
      "text/plain": [
       "False"
      ]
     },
     "execution_count": 276,
     "metadata": {},
     "output_type": "execute_result"
    }
   ],
   "source": [
    "np.shares_memory(a, b)"
   ]
  },
  {
   "cell_type": "code",
   "execution_count": null,
   "id": "6292de6e",
   "metadata": {},
   "outputs": [],
   "source": []
  }
 ],
 "metadata": {
  "kernelspec": {
   "display_name": "Python 3 (ipykernel)",
   "language": "python",
   "name": "python3"
  },
  "language_info": {
   "codemirror_mode": {
    "name": "ipython",
    "version": 3
   },
   "file_extension": ".py",
   "mimetype": "text/x-python",
   "name": "python",
   "nbconvert_exporter": "python",
   "pygments_lexer": "ipython3",
   "version": "3.8.10"
  }
 },
 "nbformat": 4,
 "nbformat_minor": 5
}
